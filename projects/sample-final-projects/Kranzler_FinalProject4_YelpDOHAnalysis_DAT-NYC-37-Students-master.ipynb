{
 "cells": [
  {
   "cell_type": "code",
   "execution_count": 4,
   "metadata": {
    "collapsed": false
   },
   "outputs": [],
   "source": [
    "import pandas as pd\n",
    "import numpy as np\n",
    "import matplotlib.pyplot as plt\n",
    "import seaborn as sns\n",
    "from yelp.client import Client\n",
    "from yelp.oauth1_authenticator import Oauth1Authenticator\n",
    "\n",
    "%matplotlib inline\n",
    "\n",
    "auth = Oauth1Authenticator(\n",
    "    consumer_key='pxukssCklTI3dAzyh5QtfQ',\n",
    "    consumer_secret='JddfJwmyqAfJeyQwEG1Vz03cOQQ',\n",
    "    token='zh4B21wxKYjyuGXayJKWMsWgtRQoMOnp',\n",
    "    token_secret='r3ubfUvPr7A2TDA0bzPQJXrhu_U'\n",
    ")\n",
    "\n",
    "client = Client(auth)"
   ]
  },
  {
   "cell_type": "code",
   "execution_count": 5,
   "metadata": {
    "collapsed": false
   },
   "outputs": [],
   "source": [
    "# Familiarizing myself with Yelp's phone search API\n",
    "response = client.phone_search('+12123106600')"
   ]
  },
  {
   "cell_type": "code",
   "execution_count": 6,
   "metadata": {
    "collapsed": false
   },
   "outputs": [
    {
     "data": {
      "text/plain": [
       "9"
      ]
     },
     "execution_count": 6,
     "metadata": {},
     "output_type": "execute_result"
    }
   ],
   "source": [
    "len(response.businesses)"
   ]
  },
  {
   "cell_type": "code",
   "execution_count": 7,
   "metadata": {
    "collapsed": false
   },
   "outputs": [
    {
     "name": "stdout",
     "output_type": "stream",
     "text": [
      "Central Park 5.0 1857\n",
      "Central Park - Sheep Meadow 4.5 69\n",
      "Central Park Mall 5.0 6\n",
      "Ancient Playground, Central Park 4.5 5\n",
      "Ladies Pavilion 5.0 4\n",
      "Literary Walk - Poet's Walk 5.0 2\n",
      "Central Park Conservancy 3.0 5\n",
      "The Arsenal Gallery 5.0 1\n",
      "Hernshead 5.0 1\n"
     ]
    }
   ],
   "source": [
    "# Familiarizing myself with Yelp's phone search API and outputs\n",
    "# Notice how I received 9 results from a single phone number entry, I'll need to make sure I only pull 1 result for each phone number for this project. \n",
    "\n",
    "for business in response.businesses:\n",
    "    print business.name, business.rating, business.review_count"
   ]
  },
  {
   "cell_type": "markdown",
   "metadata": {},
   "source": [
    "The dataset I will be working with is the NYC Department of Health's restaurant grade database. To this dataset, I will be appending two datapoints from the Yelp API: Star Rating & Review Count.\n",
    "\n",
    "Please see my data dictionary below (*Note: I will not be using all of these fields*):\n",
    "\n",
    "Data Field Name | Data Type | Expected Values | Description\n",
    "--- | --- | --- | ---\n",
    "CAMIS|Varchar|(variable)|This is a unique identifier for the entity (restaurant)\n",
    "DBA|Varchar|(variable)|This field represents the name (doing business as) of the entity (restaurant)\n",
    "BORO|Varchar|1 = MANHATTAN, 2 = BRONX, 3 = BROOKLYN, 4 = QUEENS, 5 = STATEN ISLAND, Missing|Borough in which the entity (restaurant) is located. *NOTE: There may be discrepancies between zip code and listed boro due to differences in an establishment's mailing address and physical location*\n",
    "BUILDING|Varchar|(variable)|This field represents the building number for the entity (restaurant)\n",
    "STREET|Varchar|(variable)|This field represents the street name at which the entity (restaurant) is located.\n",
    "ZIPCODE|Varchar|(variable)|Zip code as per the address of the entity (restaurant)\n",
    "PHONE|Varchar|(variable)|Phone number\n",
    "CUISINE DESCRIPTION|Varchar|(variable)|This field describes the entity (restaurant) cuisine.\n",
    "INSPECTION DATE|Datetime|(variable)|This field represents the date of inspection. *NOTE: Inspection dates of 1/1/1900 mean an establishment has not yet had an inspection*\n",
    "ACTION|Varchar|Violations were cited in the following area(s), No violations were recorded at the time of this inspection, Establishment re-opened by DOHMH, Establishment re-closed by DOHMH, Establishment Closed by DOHMH, Violations were cited in the following area(s) and those requiring immediate action were addressed, \"\"Missing\"\" = not yet inspected\"|This field represents the action that is associated with each restaurant inspection.\n",
    "VIOLATION CODE|Varchar|(variable)| This field represents each violation associated with a restaurant inspection.\n",
    "VIOLATION DESCRIPTION|Varchar|(variable)| This field describes the violation codes\n",
    "CRITICAL FLAG|Varchar|Critical, Not Critical, Not Applicable|Critical violations are those most likely to contribute to foodborne illness.\n",
    "SCORE|Varchar|(variable)|Total score for a particular inspection; updated based on adjudication results. \n",
    "GRADE|Varchar| Not Yet Graded, A=Grade A, B=Grade B. C=Grade C, Z=Grade Pending, P=Grade Pending issued on re-opening following an initial inspection that resulted in a closure|This field represents the grade associated with this inspection. Grades given during a reopening inspection are derived from the previous re-inspection. \n",
    "GRADE DATE|Datetime|(variable)|The date when the grade was issued to the entity (restaurant)\n",
    "RECORD DATE|Datetime|(variable)|The date when the webextract was run to produce this data set\n",
    "INSPECTION TYPE|Varchar|Calorie Posting/ Compliance Inspection, Calorie Posting/Initial Inspection, Calorie Posting/ Re-Inspection, Calorie Posting/ Second Compliance Inspection, Cycle Inspection/Compliance Inspection, Cycle Inspection/Initial Inspection, Cycle Inspection/Re-Inspection, Cycle Inspection/Reopening Inspection, Cycle Inspection/Second Compliance Inspection, Inter-Agency Task Force/Initial Inspection, Inter-Agency Task Force/Re-Inspection, Pre-Permit (Non-operational)/ Compliance Inspection, Pre-Permit (Non-operational)/ Initial Inspection, Pre-Permit (Non-operational)/ Re-Inspection, Pre-Permit (Non-operational)/ Second Compliance Inspection, Pre-Permit(Operational)/Compliance Inspection, Pre-Permit(Operational)/Initial Inspection, Pre-Permit(Operational)/Re-Inspection, Pre-Permit(Operational)/Reopening Inspection, Pre-Permit(Operational)/Second Compliance Inspection, Smoke-Free Air Act/Complaint (Initial Inspection), Smoke-Free Air Act/Compliance Inspection, Smoke-Free Air Act/Initial Inspection, Smoke-Free Air Act/Limited Inspection, Smoke-Free Air Act/Re-inspection, Smoke-Free Air Act/Second Compliance Inspection, Trans Fat/Compliance Inspection, Trans Fat/Initial Inspection, Trans Fat/Re-inspection, Trans Fat/Second Compliance Inspection|A combination of the inspection program and the type of inspection performed\n",
    "Star_Rating|Int|0,0.5,1,1.5,2,2.5,3,3.5,4,4.5,5|Yelp star rating for restaurant (as pulled from Yelp API)\n",
    "Review_Count|Int|(variable)| Number of Yelp reviews for restaurant (as pulled from Yelp API)"
   ]
  },
  {
   "cell_type": "code",
   "execution_count": 8,
   "metadata": {
    "collapsed": false
   },
   "outputs": [],
   "source": [
    "# Load in the raw dataset\n",
    "dohdataraw = pd.read_csv(\"/Users/jessekranzler/Desktop/dohdata/DOHMH_New_York_City_Restaurant_Inspection_Results.csv\")"
   ]
  },
  {
   "cell_type": "code",
   "execution_count": 9,
   "metadata": {
    "collapsed": false
   },
   "outputs": [
    {
     "data": {
      "text/html": [
       "<div>\n",
       "<table border=\"1\" class=\"dataframe\">\n",
       "  <thead>\n",
       "    <tr style=\"text-align: right;\">\n",
       "      <th></th>\n",
       "      <th>CAMIS</th>\n",
       "      <th>ZIPCODE</th>\n",
       "      <th>SCORE</th>\n",
       "    </tr>\n",
       "  </thead>\n",
       "  <tbody>\n",
       "    <tr>\n",
       "      <th>count</th>\n",
       "      <td>4.510130e+05</td>\n",
       "      <td>451013.000000</td>\n",
       "      <td>421414.000000</td>\n",
       "    </tr>\n",
       "    <tr>\n",
       "      <th>mean</th>\n",
       "      <td>4.339734e+07</td>\n",
       "      <td>10673.332256</td>\n",
       "      <td>19.437743</td>\n",
       "    </tr>\n",
       "    <tr>\n",
       "      <th>std</th>\n",
       "      <td>3.799088e+06</td>\n",
       "      <td>599.882258</td>\n",
       "      <td>13.037347</td>\n",
       "    </tr>\n",
       "    <tr>\n",
       "      <th>min</th>\n",
       "      <td>3.007544e+07</td>\n",
       "      <td>10001.000000</td>\n",
       "      <td>-2.000000</td>\n",
       "    </tr>\n",
       "    <tr>\n",
       "      <th>25%</th>\n",
       "      <td>4.114176e+07</td>\n",
       "      <td>10022.000000</td>\n",
       "      <td>11.000000</td>\n",
       "    </tr>\n",
       "    <tr>\n",
       "      <th>50%</th>\n",
       "      <td>4.151586e+07</td>\n",
       "      <td>10467.000000</td>\n",
       "      <td>16.000000</td>\n",
       "    </tr>\n",
       "    <tr>\n",
       "      <th>75%</th>\n",
       "      <td>4.172095e+07</td>\n",
       "      <td>11230.000000</td>\n",
       "      <td>25.000000</td>\n",
       "    </tr>\n",
       "    <tr>\n",
       "      <th>max</th>\n",
       "      <td>5.005223e+07</td>\n",
       "      <td>11697.000000</td>\n",
       "      <td>156.000000</td>\n",
       "    </tr>\n",
       "  </tbody>\n",
       "</table>\n",
       "</div>"
      ],
      "text/plain": [
       "              CAMIS        ZIPCODE          SCORE\n",
       "count  4.510130e+05  451013.000000  421414.000000\n",
       "mean   4.339734e+07   10673.332256      19.437743\n",
       "std    3.799088e+06     599.882258      13.037347\n",
       "min    3.007544e+07   10001.000000      -2.000000\n",
       "25%    4.114176e+07   10022.000000      11.000000\n",
       "50%    4.151586e+07   10467.000000      16.000000\n",
       "75%    4.172095e+07   11230.000000      25.000000\n",
       "max    5.005223e+07   11697.000000     156.000000"
      ]
     },
     "execution_count": 9,
     "metadata": {},
     "output_type": "execute_result"
    }
   ],
   "source": [
    "# Get summary statistics\n",
    "# There are over 451K entries, so we'll want to clean and compress the data to a manageable size\n",
    "dohdataraw.describe()"
   ]
  },
  {
   "cell_type": "code",
   "execution_count": 10,
   "metadata": {
    "collapsed": false
   },
   "outputs": [
    {
     "data": {
      "text/html": [
       "<div>\n",
       "<table border=\"1\" class=\"dataframe\">\n",
       "  <thead>\n",
       "    <tr style=\"text-align: right;\">\n",
       "      <th></th>\n",
       "      <th>CAMIS</th>\n",
       "      <th>ZIPCODE</th>\n",
       "      <th>SCORE</th>\n",
       "    </tr>\n",
       "  </thead>\n",
       "  <tbody>\n",
       "    <tr>\n",
       "      <th>count</th>\n",
       "      <td>2.092140e+05</td>\n",
       "      <td>209214.000000</td>\n",
       "      <td>209214.000000</td>\n",
       "    </tr>\n",
       "    <tr>\n",
       "      <th>mean</th>\n",
       "      <td>4.325711e+07</td>\n",
       "      <td>10669.607268</td>\n",
       "      <td>13.094678</td>\n",
       "    </tr>\n",
       "    <tr>\n",
       "      <th>std</th>\n",
       "      <td>3.716824e+06</td>\n",
       "      <td>598.928420</td>\n",
       "      <td>7.995783</td>\n",
       "    </tr>\n",
       "    <tr>\n",
       "      <th>min</th>\n",
       "      <td>3.007544e+07</td>\n",
       "      <td>10001.000000</td>\n",
       "      <td>-1.000000</td>\n",
       "    </tr>\n",
       "    <tr>\n",
       "      <th>25%</th>\n",
       "      <td>4.111920e+07</td>\n",
       "      <td>10021.000000</td>\n",
       "      <td>9.000000</td>\n",
       "    </tr>\n",
       "    <tr>\n",
       "      <th>50%</th>\n",
       "      <td>4.149666e+07</td>\n",
       "      <td>10467.000000</td>\n",
       "      <td>12.000000</td>\n",
       "    </tr>\n",
       "    <tr>\n",
       "      <th>75%</th>\n",
       "      <td>4.171153e+07</td>\n",
       "      <td>11230.000000</td>\n",
       "      <td>13.000000</td>\n",
       "    </tr>\n",
       "    <tr>\n",
       "      <th>max</th>\n",
       "      <td>5.005157e+07</td>\n",
       "      <td>11697.000000</td>\n",
       "      <td>131.000000</td>\n",
       "    </tr>\n",
       "  </tbody>\n",
       "</table>\n",
       "</div>"
      ],
      "text/plain": [
       "              CAMIS        ZIPCODE          SCORE\n",
       "count  2.092140e+05  209214.000000  209214.000000\n",
       "mean   4.325711e+07   10669.607268      13.094678\n",
       "std    3.716824e+06     598.928420       7.995783\n",
       "min    3.007544e+07   10001.000000      -1.000000\n",
       "25%    4.111920e+07   10021.000000       9.000000\n",
       "50%    4.149666e+07   10467.000000      12.000000\n",
       "75%    4.171153e+07   11230.000000      13.000000\n",
       "max    5.005157e+07   11697.000000     131.000000"
      ]
     },
     "execution_count": 10,
     "metadata": {},
     "output_type": "execute_result"
    }
   ],
   "source": [
    "# Drop all rows containing NaN values in the dataset\n",
    "# Since this dataset is so huge (451K+ rows), I'm not concerned about dropping this data.\n",
    "# It would be tough to replace the NaN values since the restaurant grade is a categorical variable.\n",
    "\n",
    "dohdata = dohdataraw.dropna() \n",
    "\n",
    "dohdata.describe()"
   ]
  },
  {
   "cell_type": "code",
   "execution_count": 11,
   "metadata": {
    "collapsed": false
   },
   "outputs": [
    {
     "data": {
      "text/html": [
       "<div>\n",
       "<table border=\"1\" class=\"dataframe\">\n",
       "  <thead>\n",
       "    <tr style=\"text-align: right;\">\n",
       "      <th></th>\n",
       "      <th>CAMIS</th>\n",
       "      <th>DBA</th>\n",
       "      <th>BORO</th>\n",
       "      <th>BUILDING</th>\n",
       "      <th>STREET</th>\n",
       "      <th>ZIPCODE</th>\n",
       "      <th>PHONE</th>\n",
       "      <th>CUISINE DESCRIPTION</th>\n",
       "      <th>INSPECTION DATE</th>\n",
       "      <th>ACTION</th>\n",
       "      <th>VIOLATION CODE</th>\n",
       "      <th>VIOLATION DESCRIPTION</th>\n",
       "      <th>CRITICAL FLAG</th>\n",
       "      <th>SCORE</th>\n",
       "      <th>GRADE</th>\n",
       "      <th>GRADE DATE</th>\n",
       "      <th>RECORD DATE</th>\n",
       "      <th>INSPECTION TYPE</th>\n",
       "    </tr>\n",
       "  </thead>\n",
       "  <tbody>\n",
       "    <tr>\n",
       "      <th>0</th>\n",
       "      <td>41237250</td>\n",
       "      <td>J &amp; JOE DELI &amp; GROCERY</td>\n",
       "      <td>QUEENS</td>\n",
       "      <td>8239</td>\n",
       "      <td>164 STREET</td>\n",
       "      <td>11432</td>\n",
       "      <td>7189690843</td>\n",
       "      <td>Delicatessen</td>\n",
       "      <td>7/28/15</td>\n",
       "      <td>Violations were cited in the following area(s).</td>\n",
       "      <td>10F</td>\n",
       "      <td>Non-food contact surface improperly constructe...</td>\n",
       "      <td>Not Critical</td>\n",
       "      <td>11.0</td>\n",
       "      <td>A</td>\n",
       "      <td>7/28/15</td>\n",
       "      <td>6/27/16</td>\n",
       "      <td>Cycle Inspection / Initial Inspection</td>\n",
       "    </tr>\n",
       "    <tr>\n",
       "      <th>1</th>\n",
       "      <td>40389701</td>\n",
       "      <td>ROSA'S PIZZA</td>\n",
       "      <td>QUEENS</td>\n",
       "      <td>5526</td>\n",
       "      <td>69 STREET</td>\n",
       "      <td>11378</td>\n",
       "      <td>7184465910</td>\n",
       "      <td>Pizza</td>\n",
       "      <td>6/22/16</td>\n",
       "      <td>Violations were cited in the following area(s).</td>\n",
       "      <td>04L</td>\n",
       "      <td>Evidence of mice or live mice present in facil...</td>\n",
       "      <td>Critical</td>\n",
       "      <td>27.0</td>\n",
       "      <td>Z</td>\n",
       "      <td>6/22/16</td>\n",
       "      <td>6/27/16</td>\n",
       "      <td>Cycle Inspection / Re-inspection</td>\n",
       "    </tr>\n",
       "    <tr>\n",
       "      <th>4</th>\n",
       "      <td>41543848</td>\n",
       "      <td>NO 1 CHINESE RESTAURANT</td>\n",
       "      <td>MANHATTAN</td>\n",
       "      <td>3853</td>\n",
       "      <td>BROADWAY</td>\n",
       "      <td>10032</td>\n",
       "      <td>2129280245</td>\n",
       "      <td>Chinese</td>\n",
       "      <td>10/6/14</td>\n",
       "      <td>Violations were cited in the following area(s).</td>\n",
       "      <td>04L</td>\n",
       "      <td>Evidence of mice or live mice present in facil...</td>\n",
       "      <td>Critical</td>\n",
       "      <td>22.0</td>\n",
       "      <td>B</td>\n",
       "      <td>10/6/14</td>\n",
       "      <td>6/27/16</td>\n",
       "      <td>Cycle Inspection / Re-inspection</td>\n",
       "    </tr>\n",
       "    <tr>\n",
       "      <th>5</th>\n",
       "      <td>41369327</td>\n",
       "      <td>MANDUCATIS RUSTICA VIG</td>\n",
       "      <td>QUEENS</td>\n",
       "      <td>4635</td>\n",
       "      <td>VERNON BOULEVARD</td>\n",
       "      <td>11101</td>\n",
       "      <td>7189371312</td>\n",
       "      <td>Italian</td>\n",
       "      <td>1/2/13</td>\n",
       "      <td>Violations were cited in the following area(s).</td>\n",
       "      <td>05D</td>\n",
       "      <td>Hand washing facility not provided in or near ...</td>\n",
       "      <td>Critical</td>\n",
       "      <td>12.0</td>\n",
       "      <td>A</td>\n",
       "      <td>1/2/13</td>\n",
       "      <td>6/27/16</td>\n",
       "      <td>Cycle Inspection / Initial Inspection</td>\n",
       "    </tr>\n",
       "    <tr>\n",
       "      <th>8</th>\n",
       "      <td>40841152</td>\n",
       "      <td>ABIR HALAL RESTAURANT</td>\n",
       "      <td>BROOKLYN</td>\n",
       "      <td>526</td>\n",
       "      <td>NOSTRAND AVENUE</td>\n",
       "      <td>11216</td>\n",
       "      <td>7187896181</td>\n",
       "      <td>American</td>\n",
       "      <td>10/28/15</td>\n",
       "      <td>Violations were cited in the following area(s).</td>\n",
       "      <td>10F</td>\n",
       "      <td>Non-food contact surface improperly constructe...</td>\n",
       "      <td>Not Critical</td>\n",
       "      <td>8.0</td>\n",
       "      <td>A</td>\n",
       "      <td>10/28/15</td>\n",
       "      <td>6/27/16</td>\n",
       "      <td>Cycle Inspection / Initial Inspection</td>\n",
       "    </tr>\n",
       "  </tbody>\n",
       "</table>\n",
       "</div>"
      ],
      "text/plain": [
       "      CAMIS                      DBA       BORO BUILDING            STREET  \\\n",
       "0  41237250   J & JOE DELI & GROCERY     QUEENS     8239        164 STREET   \n",
       "1  40389701             ROSA'S PIZZA     QUEENS     5526         69 STREET   \n",
       "4  41543848  NO 1 CHINESE RESTAURANT  MANHATTAN     3853          BROADWAY   \n",
       "5  41369327   MANDUCATIS RUSTICA VIG     QUEENS     4635  VERNON BOULEVARD   \n",
       "8  40841152    ABIR HALAL RESTAURANT   BROOKLYN      526   NOSTRAND AVENUE   \n",
       "\n",
       "   ZIPCODE       PHONE CUISINE DESCRIPTION INSPECTION DATE  \\\n",
       "0    11432  7189690843        Delicatessen         7/28/15   \n",
       "1    11378  7184465910               Pizza         6/22/16   \n",
       "4    10032  2129280245             Chinese         10/6/14   \n",
       "5    11101  7189371312             Italian          1/2/13   \n",
       "8    11216  7187896181            American        10/28/15   \n",
       "\n",
       "                                            ACTION VIOLATION CODE  \\\n",
       "0  Violations were cited in the following area(s).            10F   \n",
       "1  Violations were cited in the following area(s).            04L   \n",
       "4  Violations were cited in the following area(s).            04L   \n",
       "5  Violations were cited in the following area(s).            05D   \n",
       "8  Violations were cited in the following area(s).            10F   \n",
       "\n",
       "                               VIOLATION DESCRIPTION CRITICAL FLAG  SCORE  \\\n",
       "0  Non-food contact surface improperly constructe...  Not Critical   11.0   \n",
       "1  Evidence of mice or live mice present in facil...      Critical   27.0   \n",
       "4  Evidence of mice or live mice present in facil...      Critical   22.0   \n",
       "5  Hand washing facility not provided in or near ...      Critical   12.0   \n",
       "8  Non-food contact surface improperly constructe...  Not Critical    8.0   \n",
       "\n",
       "  GRADE GRADE DATE RECORD DATE                        INSPECTION TYPE  \n",
       "0     A    7/28/15     6/27/16  Cycle Inspection / Initial Inspection  \n",
       "1     Z    6/22/16     6/27/16       Cycle Inspection / Re-inspection  \n",
       "4     B    10/6/14     6/27/16       Cycle Inspection / Re-inspection  \n",
       "5     A     1/2/13     6/27/16  Cycle Inspection / Initial Inspection  \n",
       "8     A   10/28/15     6/27/16  Cycle Inspection / Initial Inspection  "
      ]
     },
     "execution_count": 11,
     "metadata": {},
     "output_type": "execute_result"
    }
   ],
   "source": [
    "dohdata.head()"
   ]
  },
  {
   "cell_type": "code",
   "execution_count": 12,
   "metadata": {
    "collapsed": false
   },
   "outputs": [
    {
     "name": "stdout",
     "output_type": "stream",
     "text": [
      "<class 'pandas.core.frame.DataFrame'>\n",
      "Int64Index: 204413 entries, 0 to 451012\n",
      "Data columns (total 10 columns):\n",
      "DBA                    204413 non-null object\n",
      "BORO                   204413 non-null object\n",
      "ZIPCODE                204413 non-null int64\n",
      "PHONE                  204413 non-null object\n",
      "CUISINE DESCRIPTION    204413 non-null object\n",
      "INSPECTION DATE        204413 non-null object\n",
      "CRITICAL FLAG          204413 non-null object\n",
      "SCORE                  204413 non-null float64\n",
      "GRADE                  204413 non-null object\n",
      "GRADE DATE             204413 non-null object\n",
      "dtypes: float64(1), int64(1), object(8)\n",
      "memory usage: 17.2+ MB\n"
     ]
    }
   ],
   "source": [
    "# The DOH dataset contains lots of information I'm not interested in.\n",
    "# For our purposes, we're primarily interested in cuisine, zip code, boro, score, & grade.\n",
    "# Phone number is going to be our input into the Yelp API since the 'CAMIS' ID does not seem to be universal.\n",
    "\n",
    "dropcolumns = dohdata.drop(['CAMIS', 'BUILDING','STREET','ACTION', 'VIOLATION DESCRIPTION','VIOLATION CODE', 'INSPECTION TYPE', 'RECORD DATE'], axis=1)\n",
    "\n",
    "# I will also only keep ratings of A, B, or C. We are not interested in grades that are pended or not available.\n",
    "filtered_data = dropcolumns[dropcolumns['GRADE'].isin(['A','B','C'])]\n",
    "\n",
    "filtered_data.info()\n"
   ]
  },
  {
   "cell_type": "code",
   "execution_count": 13,
   "metadata": {
    "collapsed": false
   },
   "outputs": [
    {
     "data": {
      "text/html": [
       "<div>\n",
       "<table border=\"1\" class=\"dataframe\">\n",
       "  <thead>\n",
       "    <tr style=\"text-align: right;\">\n",
       "      <th></th>\n",
       "      <th>ZIPCODE</th>\n",
       "      <th>SCORE</th>\n",
       "    </tr>\n",
       "  </thead>\n",
       "  <tbody>\n",
       "    <tr>\n",
       "      <th>count</th>\n",
       "      <td>40000.000000</td>\n",
       "      <td>40000.000000</td>\n",
       "    </tr>\n",
       "    <tr>\n",
       "      <th>mean</th>\n",
       "      <td>10671.104100</td>\n",
       "      <td>12.933700</td>\n",
       "    </tr>\n",
       "    <tr>\n",
       "      <th>std</th>\n",
       "      <td>598.568318</td>\n",
       "      <td>7.717901</td>\n",
       "    </tr>\n",
       "    <tr>\n",
       "      <th>min</th>\n",
       "      <td>10001.000000</td>\n",
       "      <td>-1.000000</td>\n",
       "    </tr>\n",
       "    <tr>\n",
       "      <th>25%</th>\n",
       "      <td>10021.000000</td>\n",
       "      <td>9.000000</td>\n",
       "    </tr>\n",
       "    <tr>\n",
       "      <th>50%</th>\n",
       "      <td>10467.000000</td>\n",
       "      <td>11.000000</td>\n",
       "    </tr>\n",
       "    <tr>\n",
       "      <th>75%</th>\n",
       "      <td>11230.000000</td>\n",
       "      <td>13.000000</td>\n",
       "    </tr>\n",
       "    <tr>\n",
       "      <th>max</th>\n",
       "      <td>11697.000000</td>\n",
       "      <td>98.000000</td>\n",
       "    </tr>\n",
       "  </tbody>\n",
       "</table>\n",
       "</div>"
      ],
      "text/plain": [
       "            ZIPCODE         SCORE\n",
       "count  40000.000000  40000.000000\n",
       "mean   10671.104100     12.933700\n",
       "std      598.568318      7.717901\n",
       "min    10001.000000     -1.000000\n",
       "25%    10021.000000      9.000000\n",
       "50%    10467.000000     11.000000\n",
       "75%    11230.000000     13.000000\n",
       "max    11697.000000     98.000000"
      ]
     },
     "execution_count": 13,
     "metadata": {},
     "output_type": "execute_result"
    }
   ],
   "source": [
    "# Since the Yelp API only allows for 25K calls per day, I need to break my dataset into chunks.\n",
    "# For the purposes of this assignment, I will just pick a random sample of 40K (about 20% of my dataset)\n",
    "\n",
    "df_sample = filtered_data.sample(n=40000)\n",
    "\n",
    "df_sample.describe()"
   ]
  },
  {
   "cell_type": "code",
   "execution_count": 14,
   "metadata": {
    "collapsed": false
   },
   "outputs": [],
   "source": [
    "# I will break my 40K random sample (df_sample) into 2 equal chunks of 20K sites.\n",
    "# I've broken these into 20K calls per day each so I have some wiggle room to make additional calls each day if necessary\n",
    "df1 = filtered_data.head(20000)\n",
    "df2 = filtered_data[22001:40000]\n",
    "\n",
    "# If I were doing this project on a larger scale, I would have used all 200K+ and broken the df into equal chunks to call over multiple days"
   ]
  },
  {
   "cell_type": "code",
   "execution_count": 15,
   "metadata": {
    "collapsed": false
   },
   "outputs": [
    {
     "data": {
      "text/plain": [
       "DBA                     object\n",
       "BORO                    object\n",
       "ZIPCODE                  int64\n",
       "PHONE                   object\n",
       "CUISINE DESCRIPTION     object\n",
       "INSPECTION DATE         object\n",
       "CRITICAL FLAG           object\n",
       "SCORE                  float64\n",
       "GRADE                   object\n",
       "GRADE DATE              object\n",
       "dtype: object"
      ]
     },
     "execution_count": 15,
     "metadata": {},
     "output_type": "execute_result"
    }
   ],
   "source": [
    "df1.dtypes"
   ]
  },
  {
   "cell_type": "code",
   "execution_count": 16,
   "metadata": {
    "collapsed": false,
    "scrolled": true
   },
   "outputs": [
    {
     "data": {
      "text/html": [
       "<div>\n",
       "<table border=\"1\" class=\"dataframe\">\n",
       "  <thead>\n",
       "    <tr style=\"text-align: right;\">\n",
       "      <th></th>\n",
       "      <th>DBA</th>\n",
       "      <th>BORO</th>\n",
       "      <th>ZIPCODE</th>\n",
       "      <th>PHONE</th>\n",
       "      <th>CUISINE DESCRIPTION</th>\n",
       "      <th>INSPECTION DATE</th>\n",
       "      <th>CRITICAL FLAG</th>\n",
       "      <th>SCORE</th>\n",
       "      <th>GRADE</th>\n",
       "      <th>GRADE DATE</th>\n",
       "    </tr>\n",
       "  </thead>\n",
       "  <tbody>\n",
       "    <tr>\n",
       "      <th>0</th>\n",
       "      <td>J &amp; JOE DELI &amp; GROCERY</td>\n",
       "      <td>QUEENS</td>\n",
       "      <td>11432</td>\n",
       "      <td>7189690843</td>\n",
       "      <td>Delicatessen</td>\n",
       "      <td>7/28/15</td>\n",
       "      <td>Not Critical</td>\n",
       "      <td>11.0</td>\n",
       "      <td>A</td>\n",
       "      <td>7/28/15</td>\n",
       "    </tr>\n",
       "    <tr>\n",
       "      <th>4</th>\n",
       "      <td>NO 1 CHINESE RESTAURANT</td>\n",
       "      <td>MANHATTAN</td>\n",
       "      <td>10032</td>\n",
       "      <td>2129280245</td>\n",
       "      <td>Chinese</td>\n",
       "      <td>10/6/14</td>\n",
       "      <td>Critical</td>\n",
       "      <td>22.0</td>\n",
       "      <td>B</td>\n",
       "      <td>10/6/14</td>\n",
       "    </tr>\n",
       "    <tr>\n",
       "      <th>5</th>\n",
       "      <td>MANDUCATIS RUSTICA VIG</td>\n",
       "      <td>QUEENS</td>\n",
       "      <td>11101</td>\n",
       "      <td>7189371312</td>\n",
       "      <td>Italian</td>\n",
       "      <td>1/2/13</td>\n",
       "      <td>Critical</td>\n",
       "      <td>12.0</td>\n",
       "      <td>A</td>\n",
       "      <td>1/2/13</td>\n",
       "    </tr>\n",
       "    <tr>\n",
       "      <th>8</th>\n",
       "      <td>ABIR HALAL RESTAURANT</td>\n",
       "      <td>BROOKLYN</td>\n",
       "      <td>11216</td>\n",
       "      <td>7187896181</td>\n",
       "      <td>American</td>\n",
       "      <td>10/28/15</td>\n",
       "      <td>Not Critical</td>\n",
       "      <td>8.0</td>\n",
       "      <td>A</td>\n",
       "      <td>10/28/15</td>\n",
       "    </tr>\n",
       "    <tr>\n",
       "      <th>10</th>\n",
       "      <td>DIY KARAOKE</td>\n",
       "      <td>QUEENS</td>\n",
       "      <td>11354</td>\n",
       "      <td>7185396666</td>\n",
       "      <td>Asian</td>\n",
       "      <td>3/10/15</td>\n",
       "      <td>Critical</td>\n",
       "      <td>10.0</td>\n",
       "      <td>A</td>\n",
       "      <td>3/10/15</td>\n",
       "    </tr>\n",
       "  </tbody>\n",
       "</table>\n",
       "</div>"
      ],
      "text/plain": [
       "                        DBA       BORO  ZIPCODE       PHONE  \\\n",
       "0    J & JOE DELI & GROCERY     QUEENS    11432  7189690843   \n",
       "4   NO 1 CHINESE RESTAURANT  MANHATTAN    10032  2129280245   \n",
       "5    MANDUCATIS RUSTICA VIG     QUEENS    11101  7189371312   \n",
       "8     ABIR HALAL RESTAURANT   BROOKLYN    11216  7187896181   \n",
       "10              DIY KARAOKE     QUEENS    11354  7185396666   \n",
       "\n",
       "   CUISINE DESCRIPTION INSPECTION DATE CRITICAL FLAG  SCORE GRADE GRADE DATE  \n",
       "0         Delicatessen         7/28/15  Not Critical   11.0     A    7/28/15  \n",
       "4              Chinese         10/6/14      Critical   22.0     B    10/6/14  \n",
       "5              Italian          1/2/13      Critical   12.0     A     1/2/13  \n",
       "8             American        10/28/15  Not Critical    8.0     A   10/28/15  \n",
       "10               Asian         3/10/15      Critical   10.0     A    3/10/15  "
      ]
     },
     "execution_count": 16,
     "metadata": {},
     "output_type": "execute_result"
    }
   ],
   "source": [
    "df1.head()"
   ]
  },
  {
   "cell_type": "code",
   "execution_count": 17,
   "metadata": {
    "collapsed": false
   },
   "outputs": [],
   "source": [
    "# For each value in the phone number column of our dataframe, call the Yelp phone search API\n",
    "# If that phone number is present on Yelp, return the business's star rating & review count.\n",
    "# If the phone number cannot be found, return N/A.\n",
    "# If any other error is found, skip it and move onto the next phone number\n",
    "# Add the star rating & review counts to new columns in the original dataframe\n",
    "\n",
    "# for index, row in df1.iterrows():\n",
    "#     try:\n",
    "#         response = client.phone_search(row['PHONE'])\n",
    "#         if(len(response.businesses) < 1):\n",
    "#             print(\"N/A\")\n",
    "#         else: \n",
    "#             df1.loc[index,'Star_Rating'] = response.businesses[0].rating\n",
    "#             df1.loc[index,'Review_Count'] = response.businesses[0].review_count    \n",
    "#     except:\n",
    "#         pass"
   ]
  },
  {
   "cell_type": "code",
   "execution_count": 18,
   "metadata": {
    "collapsed": false
   },
   "outputs": [],
   "source": [
    "# Now that I've successfully made 20K calls to the Yelp API, let's export the results to CSV to be safe\n",
    "df1.to_csv(path_or_buf=\"/Users/jessekranzler/Desktop/dohdata/DOHwithYelp.csv\")"
   ]
  },
  {
   "cell_type": "code",
   "execution_count": 43,
   "metadata": {
    "collapsed": false
   },
   "outputs": [
    {
     "data": {
      "text/html": [
       "<div>\n",
       "<table border=\"1\" class=\"dataframe\">\n",
       "  <thead>\n",
       "    <tr style=\"text-align: right;\">\n",
       "      <th></th>\n",
       "      <th>ZIPCODE</th>\n",
       "      <th>SCORE</th>\n",
       "    </tr>\n",
       "  </thead>\n",
       "  <tbody>\n",
       "    <tr>\n",
       "      <th>count</th>\n",
       "      <td>20000.00000</td>\n",
       "      <td>20000.000000</td>\n",
       "    </tr>\n",
       "    <tr>\n",
       "      <th>mean</th>\n",
       "      <td>10671.08235</td>\n",
       "      <td>12.980000</td>\n",
       "    </tr>\n",
       "    <tr>\n",
       "      <th>std</th>\n",
       "      <td>598.61375</td>\n",
       "      <td>7.801451</td>\n",
       "    </tr>\n",
       "    <tr>\n",
       "      <th>min</th>\n",
       "      <td>10001.00000</td>\n",
       "      <td>-1.000000</td>\n",
       "    </tr>\n",
       "    <tr>\n",
       "      <th>25%</th>\n",
       "      <td>10022.00000</td>\n",
       "      <td>9.000000</td>\n",
       "    </tr>\n",
       "    <tr>\n",
       "      <th>50%</th>\n",
       "      <td>10467.00000</td>\n",
       "      <td>11.000000</td>\n",
       "    </tr>\n",
       "    <tr>\n",
       "      <th>75%</th>\n",
       "      <td>11229.00000</td>\n",
       "      <td>13.000000</td>\n",
       "    </tr>\n",
       "    <tr>\n",
       "      <th>max</th>\n",
       "      <td>11697.00000</td>\n",
       "      <td>131.000000</td>\n",
       "    </tr>\n",
       "  </tbody>\n",
       "</table>\n",
       "</div>"
      ],
      "text/plain": [
       "           ZIPCODE         SCORE\n",
       "count  20000.00000  20000.000000\n",
       "mean   10671.08235     12.980000\n",
       "std      598.61375      7.801451\n",
       "min    10001.00000     -1.000000\n",
       "25%    10022.00000      9.000000\n",
       "50%    10467.00000     11.000000\n",
       "75%    11229.00000     13.000000\n",
       "max    11697.00000    131.000000"
      ]
     },
     "execution_count": 43,
     "metadata": {},
     "output_type": "execute_result"
    }
   ],
   "source": [
    "# Let's dropna again to remove all NaN created from the API call\n",
    "\n",
    "cleanedresults = df1.dropna() \n",
    "\n",
    "# Let's view cleanedresults.describe to see how many successful matches were made\n",
    "cleanedresults.describe()"
   ]
  },
  {
   "cell_type": "code",
   "execution_count": null,
   "metadata": {
    "collapsed": false
   },
   "outputs": [],
   "source": [
    "sns.violinplot(x=\"GRADE\", y=\"Star_Rating\", data=cleanedresults,\n",
    "               bw=.1, scale=\"count\", scale_hue=False);"
   ]
  },
  {
   "cell_type": "code",
   "execution_count": null,
   "metadata": {
    "collapsed": false
   },
   "outputs": [],
   "source": [
    "# Here is our second API call. We are calling our final 20K phone numbers today. \n",
    "# for index, row in df2.iterrows():\n",
    "#     try:\n",
    "#         response = client.phone_search(row['PHONE'])\n",
    "#         if(len(response.businesses) < 1):\n",
    "#             print(\"N/A\")\n",
    "#         else: \n",
    "#             df1.loc[index,'Star_Rating'] = response.businesses[0].rating\n",
    "#             df1.loc[index,'Review_Count'] = response.businesses[0].review_count    \n",
    "#     except:\n",
    "#         pass"
   ]
  },
  {
   "cell_type": "code",
   "execution_count": null,
   "metadata": {
    "collapsed": true
   },
   "outputs": [],
   "source": [
    "# Save to CSV\n",
    "\n",
    "# df2.to_csv(path_or_buf=\"/Users/jessekranzler/Desktop/dohdata/DOHwithYelpPt2.csv\")"
   ]
  },
  {
   "cell_type": "code",
   "execution_count": 22,
   "metadata": {
    "collapsed": false
   },
   "outputs": [],
   "source": [
    "# Merge CSVs into one\n",
    "# Since the dataset is fairly small in manageable, I combined them in Excel as \"DOHwithYelpCombined\"\n",
    "# Load combined CSV\n",
    "dfcombined = pd.read_csv(\"/Users/jessekranzler/Desktop/dohdata/DOHwithYelpCombined.csv\")"
   ]
  },
  {
   "cell_type": "code",
   "execution_count": 58,
   "metadata": {
    "collapsed": false
   },
   "outputs": [
    {
     "data": {
      "text/html": [
       "<div>\n",
       "<table border=\"1\" class=\"dataframe\">\n",
       "  <thead>\n",
       "    <tr style=\"text-align: right;\">\n",
       "      <th></th>\n",
       "      <th>Unnamed: 0</th>\n",
       "      <th>DBA</th>\n",
       "      <th>BORO</th>\n",
       "      <th>ZIPCODE</th>\n",
       "      <th>PHONE</th>\n",
       "      <th>CUISINE DESCRIPTION</th>\n",
       "      <th>INSPECTION DATE</th>\n",
       "      <th>CRITICAL FLAG</th>\n",
       "      <th>SCORE</th>\n",
       "      <th>GRADE</th>\n",
       "      <th>GRADE DATE</th>\n",
       "      <th>Star_Rating</th>\n",
       "      <th>Review_Count</th>\n",
       "    </tr>\n",
       "  </thead>\n",
       "  <tbody>\n",
       "    <tr>\n",
       "      <th>0</th>\n",
       "      <td>0</td>\n",
       "      <td>J &amp; JOE DELI &amp; GROCERY</td>\n",
       "      <td>QUEENS</td>\n",
       "      <td>11432</td>\n",
       "      <td>7189690843</td>\n",
       "      <td>Delicatessen</td>\n",
       "      <td>7/28/15</td>\n",
       "      <td>Not Critical</td>\n",
       "      <td>11</td>\n",
       "      <td>A</td>\n",
       "      <td>7/28/15</td>\n",
       "      <td>1.0</td>\n",
       "      <td>2.0</td>\n",
       "    </tr>\n",
       "    <tr>\n",
       "      <th>1</th>\n",
       "      <td>4</td>\n",
       "      <td>NO 1 CHINESE RESTAURANT</td>\n",
       "      <td>MANHATTAN</td>\n",
       "      <td>10032</td>\n",
       "      <td>2129280245</td>\n",
       "      <td>Chinese</td>\n",
       "      <td>10/6/14</td>\n",
       "      <td>Critical</td>\n",
       "      <td>22</td>\n",
       "      <td>B</td>\n",
       "      <td>10/6/14</td>\n",
       "      <td>2.5</td>\n",
       "      <td>7.0</td>\n",
       "    </tr>\n",
       "    <tr>\n",
       "      <th>2</th>\n",
       "      <td>5</td>\n",
       "      <td>MANDUCATIS RUSTICA VIG</td>\n",
       "      <td>QUEENS</td>\n",
       "      <td>11101</td>\n",
       "      <td>7189371312</td>\n",
       "      <td>Italian</td>\n",
       "      <td>1/2/13</td>\n",
       "      <td>Critical</td>\n",
       "      <td>12</td>\n",
       "      <td>A</td>\n",
       "      <td>1/2/13</td>\n",
       "      <td>3.5</td>\n",
       "      <td>125.0</td>\n",
       "    </tr>\n",
       "    <tr>\n",
       "      <th>3</th>\n",
       "      <td>8</td>\n",
       "      <td>ABIR HALAL RESTAURANT</td>\n",
       "      <td>BROOKLYN</td>\n",
       "      <td>11216</td>\n",
       "      <td>7187896181</td>\n",
       "      <td>American</td>\n",
       "      <td>10/28/15</td>\n",
       "      <td>Not Critical</td>\n",
       "      <td>8</td>\n",
       "      <td>A</td>\n",
       "      <td>10/28/15</td>\n",
       "      <td>3.5</td>\n",
       "      <td>12.0</td>\n",
       "    </tr>\n",
       "    <tr>\n",
       "      <th>4</th>\n",
       "      <td>10</td>\n",
       "      <td>DIY KARAOKE</td>\n",
       "      <td>QUEENS</td>\n",
       "      <td>11354</td>\n",
       "      <td>7185396666</td>\n",
       "      <td>Asian</td>\n",
       "      <td>3/10/15</td>\n",
       "      <td>Critical</td>\n",
       "      <td>10</td>\n",
       "      <td>A</td>\n",
       "      <td>3/10/15</td>\n",
       "      <td>3.0</td>\n",
       "      <td>71.0</td>\n",
       "    </tr>\n",
       "  </tbody>\n",
       "</table>\n",
       "</div>"
      ],
      "text/plain": [
       "   Unnamed: 0                      DBA       BORO  ZIPCODE       PHONE  \\\n",
       "0           0   J & JOE DELI & GROCERY     QUEENS    11432  7189690843   \n",
       "1           4  NO 1 CHINESE RESTAURANT  MANHATTAN    10032  2129280245   \n",
       "2           5   MANDUCATIS RUSTICA VIG     QUEENS    11101  7189371312   \n",
       "3           8    ABIR HALAL RESTAURANT   BROOKLYN    11216  7187896181   \n",
       "4          10              DIY KARAOKE     QUEENS    11354  7185396666   \n",
       "\n",
       "  CUISINE DESCRIPTION INSPECTION DATE CRITICAL FLAG  SCORE GRADE GRADE DATE  \\\n",
       "0        Delicatessen         7/28/15  Not Critical     11     A    7/28/15   \n",
       "1             Chinese         10/6/14      Critical     22     B    10/6/14   \n",
       "2             Italian          1/2/13      Critical     12     A     1/2/13   \n",
       "3            American        10/28/15  Not Critical      8     A   10/28/15   \n",
       "4               Asian         3/10/15      Critical     10     A    3/10/15   \n",
       "\n",
       "   Star_Rating  Review_Count  \n",
       "0          1.0           2.0  \n",
       "1          2.5           7.0  \n",
       "2          3.5         125.0  \n",
       "3          3.5          12.0  \n",
       "4          3.0          71.0  "
      ]
     },
     "execution_count": 58,
     "metadata": {},
     "output_type": "execute_result"
    }
   ],
   "source": [
    "dfcleandrop = dfcombined.dropna() \n",
    "\n",
    "dfcleandrop.head()"
   ]
  },
  {
   "cell_type": "code",
   "execution_count": 59,
   "metadata": {
    "collapsed": false
   },
   "outputs": [
    {
     "data": {
      "text/html": [
       "<div>\n",
       "<table border=\"1\" class=\"dataframe\">\n",
       "  <thead>\n",
       "    <tr style=\"text-align: right;\">\n",
       "      <th></th>\n",
       "      <th>Unnamed: 0</th>\n",
       "      <th>DBA</th>\n",
       "      <th>BORO</th>\n",
       "      <th>ZIPCODE</th>\n",
       "      <th>PHONE</th>\n",
       "      <th>CUISINE DESCRIPTION</th>\n",
       "      <th>INSPECTION DATE</th>\n",
       "      <th>CRITICAL FLAG</th>\n",
       "      <th>SCORE</th>\n",
       "      <th>GRADE</th>\n",
       "      <th>GRADE DATE</th>\n",
       "      <th>Star_Rating</th>\n",
       "      <th>Review_Count</th>\n",
       "    </tr>\n",
       "  </thead>\n",
       "  <tbody>\n",
       "    <tr>\n",
       "      <th>1</th>\n",
       "      <td>4</td>\n",
       "      <td>NO 1 CHINESE RESTAURANT</td>\n",
       "      <td>MANHATTAN</td>\n",
       "      <td>10032</td>\n",
       "      <td>2129280245</td>\n",
       "      <td>Chinese</td>\n",
       "      <td>10/6/14</td>\n",
       "      <td>Critical</td>\n",
       "      <td>22</td>\n",
       "      <td>B</td>\n",
       "      <td>10/6/14</td>\n",
       "      <td>2.5</td>\n",
       "      <td>7.0</td>\n",
       "    </tr>\n",
       "    <tr>\n",
       "      <th>2</th>\n",
       "      <td>5</td>\n",
       "      <td>MANDUCATIS RUSTICA VIG</td>\n",
       "      <td>QUEENS</td>\n",
       "      <td>11101</td>\n",
       "      <td>7189371312</td>\n",
       "      <td>Italian</td>\n",
       "      <td>1/2/13</td>\n",
       "      <td>Critical</td>\n",
       "      <td>12</td>\n",
       "      <td>A</td>\n",
       "      <td>1/2/13</td>\n",
       "      <td>3.5</td>\n",
       "      <td>125.0</td>\n",
       "    </tr>\n",
       "    <tr>\n",
       "      <th>3</th>\n",
       "      <td>8</td>\n",
       "      <td>ABIR HALAL RESTAURANT</td>\n",
       "      <td>BROOKLYN</td>\n",
       "      <td>11216</td>\n",
       "      <td>7187896181</td>\n",
       "      <td>American</td>\n",
       "      <td>10/28/15</td>\n",
       "      <td>Not Critical</td>\n",
       "      <td>8</td>\n",
       "      <td>A</td>\n",
       "      <td>10/28/15</td>\n",
       "      <td>3.5</td>\n",
       "      <td>12.0</td>\n",
       "    </tr>\n",
       "    <tr>\n",
       "      <th>4</th>\n",
       "      <td>10</td>\n",
       "      <td>DIY KARAOKE</td>\n",
       "      <td>QUEENS</td>\n",
       "      <td>11354</td>\n",
       "      <td>7185396666</td>\n",
       "      <td>Asian</td>\n",
       "      <td>3/10/15</td>\n",
       "      <td>Critical</td>\n",
       "      <td>10</td>\n",
       "      <td>A</td>\n",
       "      <td>3/10/15</td>\n",
       "      <td>3.0</td>\n",
       "      <td>71.0</td>\n",
       "    </tr>\n",
       "    <tr>\n",
       "      <th>5</th>\n",
       "      <td>11</td>\n",
       "      <td>BLUE HILL RESTAURANT</td>\n",
       "      <td>MANHATTAN</td>\n",
       "      <td>10011</td>\n",
       "      <td>2125391776</td>\n",
       "      <td>American</td>\n",
       "      <td>3/1/16</td>\n",
       "      <td>Critical</td>\n",
       "      <td>13</td>\n",
       "      <td>A</td>\n",
       "      <td>3/1/16</td>\n",
       "      <td>4.5</td>\n",
       "      <td>745.0</td>\n",
       "    </tr>\n",
       "  </tbody>\n",
       "</table>\n",
       "</div>"
      ],
      "text/plain": [
       "   Unnamed: 0                      DBA       BORO  ZIPCODE       PHONE  \\\n",
       "1           4  NO 1 CHINESE RESTAURANT  MANHATTAN    10032  2129280245   \n",
       "2           5   MANDUCATIS RUSTICA VIG     QUEENS    11101  7189371312   \n",
       "3           8    ABIR HALAL RESTAURANT   BROOKLYN    11216  7187896181   \n",
       "4          10              DIY KARAOKE     QUEENS    11354  7185396666   \n",
       "5          11     BLUE HILL RESTAURANT  MANHATTAN    10011  2125391776   \n",
       "\n",
       "  CUISINE DESCRIPTION INSPECTION DATE CRITICAL FLAG  SCORE GRADE GRADE DATE  \\\n",
       "1             Chinese         10/6/14      Critical     22     B    10/6/14   \n",
       "2             Italian          1/2/13      Critical     12     A     1/2/13   \n",
       "3            American        10/28/15  Not Critical      8     A   10/28/15   \n",
       "4               Asian         3/10/15      Critical     10     A    3/10/15   \n",
       "5            American          3/1/16      Critical     13     A     3/1/16   \n",
       "\n",
       "   Star_Rating  Review_Count  \n",
       "1          2.5           7.0  \n",
       "2          3.5         125.0  \n",
       "3          3.5          12.0  \n",
       "4          3.0          71.0  \n",
       "5          4.5         745.0  "
      ]
     },
     "execution_count": 59,
     "metadata": {},
     "output_type": "execute_result"
    }
   ],
   "source": [
    "# In order to reduce overly skewed results, let's remove entries with only a few Yelp ratings\n",
    "\n",
    "dfcleanrating = dfcleandrop[dfcleandrop.Review_Count > 5]\n",
    "\n",
    "dfcleanrating.head()"
   ]
  },
  {
   "cell_type": "code",
   "execution_count": 62,
   "metadata": {
    "collapsed": false
   },
   "outputs": [
    {
     "data": {
      "text/plain": [
       "array(['MANHATTAN', 'QUEENS', 'BROOKLYN', 'STATEN ISLAND', 'BRONX'], dtype=object)"
      ]
     },
     "execution_count": 62,
     "metadata": {},
     "output_type": "execute_result"
    }
   ],
   "source": [
    "# Let's remove entries that contain \"Missing\" in the BORO column\n",
    "dfcleanboro = dfcleanrating[dfcleanrating.BORO != 'Missing']\n",
    "\n",
    "dfcleanboro.BORO.unique()"
   ]
  },
  {
   "cell_type": "code",
   "execution_count": 73,
   "metadata": {
    "collapsed": false
   },
   "outputs": [
    {
     "data": {
      "text/html": [
       "<div>\n",
       "<table border=\"1\" class=\"dataframe\">\n",
       "  <thead>\n",
       "    <tr style=\"text-align: right;\">\n",
       "      <th></th>\n",
       "      <th>DBA</th>\n",
       "      <th>BORO</th>\n",
       "      <th>ZIPCODE</th>\n",
       "      <th>PHONE</th>\n",
       "      <th>CUISINE DESCRIPTION</th>\n",
       "      <th>INSPECTION DATE</th>\n",
       "      <th>CRITICAL FLAG</th>\n",
       "      <th>SCORE</th>\n",
       "      <th>GRADE</th>\n",
       "      <th>GRADE DATE</th>\n",
       "      <th>Star_Rating</th>\n",
       "      <th>Review_Count</th>\n",
       "    </tr>\n",
       "    <tr>\n",
       "      <th>Unnamed: 0</th>\n",
       "      <th></th>\n",
       "      <th></th>\n",
       "      <th></th>\n",
       "      <th></th>\n",
       "      <th></th>\n",
       "      <th></th>\n",
       "      <th></th>\n",
       "      <th></th>\n",
       "      <th></th>\n",
       "      <th></th>\n",
       "      <th></th>\n",
       "      <th></th>\n",
       "    </tr>\n",
       "  </thead>\n",
       "  <tbody>\n",
       "    <tr>\n",
       "      <th>4</th>\n",
       "      <td>NO 1 CHINESE RESTAURANT</td>\n",
       "      <td>MANHATTAN</td>\n",
       "      <td>10032</td>\n",
       "      <td>2129280245</td>\n",
       "      <td>Chinese</td>\n",
       "      <td>10/6/14</td>\n",
       "      <td>Critical</td>\n",
       "      <td>22</td>\n",
       "      <td>B</td>\n",
       "      <td>10/6/14</td>\n",
       "      <td>2.5</td>\n",
       "      <td>7.0</td>\n",
       "    </tr>\n",
       "    <tr>\n",
       "      <th>5</th>\n",
       "      <td>MANDUCATIS RUSTICA VIG</td>\n",
       "      <td>QUEENS</td>\n",
       "      <td>11101</td>\n",
       "      <td>7189371312</td>\n",
       "      <td>Italian</td>\n",
       "      <td>1/2/13</td>\n",
       "      <td>Critical</td>\n",
       "      <td>12</td>\n",
       "      <td>A</td>\n",
       "      <td>1/2/13</td>\n",
       "      <td>3.5</td>\n",
       "      <td>125.0</td>\n",
       "    </tr>\n",
       "    <tr>\n",
       "      <th>8</th>\n",
       "      <td>ABIR HALAL RESTAURANT</td>\n",
       "      <td>BROOKLYN</td>\n",
       "      <td>11216</td>\n",
       "      <td>7187896181</td>\n",
       "      <td>American</td>\n",
       "      <td>10/28/15</td>\n",
       "      <td>Not Critical</td>\n",
       "      <td>8</td>\n",
       "      <td>A</td>\n",
       "      <td>10/28/15</td>\n",
       "      <td>3.5</td>\n",
       "      <td>12.0</td>\n",
       "    </tr>\n",
       "    <tr>\n",
       "      <th>10</th>\n",
       "      <td>DIY KARAOKE</td>\n",
       "      <td>QUEENS</td>\n",
       "      <td>11354</td>\n",
       "      <td>7185396666</td>\n",
       "      <td>Asian</td>\n",
       "      <td>3/10/15</td>\n",
       "      <td>Critical</td>\n",
       "      <td>10</td>\n",
       "      <td>A</td>\n",
       "      <td>3/10/15</td>\n",
       "      <td>3.0</td>\n",
       "      <td>71.0</td>\n",
       "    </tr>\n",
       "    <tr>\n",
       "      <th>11</th>\n",
       "      <td>BLUE HILL RESTAURANT</td>\n",
       "      <td>MANHATTAN</td>\n",
       "      <td>10011</td>\n",
       "      <td>2125391776</td>\n",
       "      <td>American</td>\n",
       "      <td>3/1/16</td>\n",
       "      <td>Critical</td>\n",
       "      <td>13</td>\n",
       "      <td>A</td>\n",
       "      <td>3/1/16</td>\n",
       "      <td>4.5</td>\n",
       "      <td>745.0</td>\n",
       "    </tr>\n",
       "  </tbody>\n",
       "</table>\n",
       "</div>"
      ],
      "text/plain": [
       "                                DBA       BORO  ZIPCODE       PHONE  \\\n",
       "Unnamed: 0                                                            \n",
       "4           NO 1 CHINESE RESTAURANT  MANHATTAN    10032  2129280245   \n",
       "5            MANDUCATIS RUSTICA VIG     QUEENS    11101  7189371312   \n",
       "8             ABIR HALAL RESTAURANT   BROOKLYN    11216  7187896181   \n",
       "10                      DIY KARAOKE     QUEENS    11354  7185396666   \n",
       "11             BLUE HILL RESTAURANT  MANHATTAN    10011  2125391776   \n",
       "\n",
       "           CUISINE DESCRIPTION INSPECTION DATE CRITICAL FLAG  SCORE GRADE  \\\n",
       "Unnamed: 0                                                                  \n",
       "4                      Chinese         10/6/14      Critical     22     B   \n",
       "5                      Italian          1/2/13      Critical     12     A   \n",
       "8                     American        10/28/15  Not Critical      8     A   \n",
       "10                       Asian         3/10/15      Critical     10     A   \n",
       "11                    American          3/1/16      Critical     13     A   \n",
       "\n",
       "           GRADE DATE  Star_Rating  Review_Count  \n",
       "Unnamed: 0                                        \n",
       "4             10/6/14          2.5           7.0  \n",
       "5              1/2/13          3.5         125.0  \n",
       "8            10/28/15          3.5          12.0  \n",
       "10            3/10/15          3.0          71.0  \n",
       "11             3/1/16          4.5         745.0  "
      ]
     },
     "execution_count": 73,
     "metadata": {},
     "output_type": "execute_result"
    }
   ],
   "source": [
    "# Make the original DOH dataset index our index\n",
    "dfnewindex = dfcleanboro.set_index(keys='Unnamed: 0')\n",
    "\n",
    "dfnewindex.head()\n"
   ]
  },
  {
   "cell_type": "code",
   "execution_count": 81,
   "metadata": {
    "collapsed": false
   },
   "outputs": [
    {
     "data": {
      "text/html": [
       "<div>\n",
       "<table border=\"1\" class=\"dataframe\">\n",
       "  <thead>\n",
       "    <tr style=\"text-align: right;\">\n",
       "      <th></th>\n",
       "      <th>DBA</th>\n",
       "      <th>BORO</th>\n",
       "      <th>ZIPCODE</th>\n",
       "      <th>PHONE</th>\n",
       "      <th>CUISINE DESCRIPTION</th>\n",
       "      <th>INSPECTION DATE</th>\n",
       "      <th>CRITICAL FLAG</th>\n",
       "      <th>SCORE</th>\n",
       "      <th>GRADE</th>\n",
       "      <th>GRADE DATE</th>\n",
       "      <th>Star_Rating</th>\n",
       "      <th>Review_Count</th>\n",
       "    </tr>\n",
       "    <tr>\n",
       "      <th>Index</th>\n",
       "      <th></th>\n",
       "      <th></th>\n",
       "      <th></th>\n",
       "      <th></th>\n",
       "      <th></th>\n",
       "      <th></th>\n",
       "      <th></th>\n",
       "      <th></th>\n",
       "      <th></th>\n",
       "      <th></th>\n",
       "      <th></th>\n",
       "      <th></th>\n",
       "    </tr>\n",
       "  </thead>\n",
       "  <tbody>\n",
       "    <tr>\n",
       "      <th>4</th>\n",
       "      <td>NO 1 CHINESE RESTAURANT</td>\n",
       "      <td>MANHATTAN</td>\n",
       "      <td>10032</td>\n",
       "      <td>2129280245</td>\n",
       "      <td>Chinese</td>\n",
       "      <td>10/6/14</td>\n",
       "      <td>Critical</td>\n",
       "      <td>22</td>\n",
       "      <td>B</td>\n",
       "      <td>10/6/14</td>\n",
       "      <td>2.5</td>\n",
       "      <td>7.0</td>\n",
       "    </tr>\n",
       "    <tr>\n",
       "      <th>5</th>\n",
       "      <td>MANDUCATIS RUSTICA VIG</td>\n",
       "      <td>QUEENS</td>\n",
       "      <td>11101</td>\n",
       "      <td>7189371312</td>\n",
       "      <td>Italian</td>\n",
       "      <td>1/2/13</td>\n",
       "      <td>Critical</td>\n",
       "      <td>12</td>\n",
       "      <td>A</td>\n",
       "      <td>1/2/13</td>\n",
       "      <td>3.5</td>\n",
       "      <td>125.0</td>\n",
       "    </tr>\n",
       "    <tr>\n",
       "      <th>8</th>\n",
       "      <td>ABIR HALAL RESTAURANT</td>\n",
       "      <td>BROOKLYN</td>\n",
       "      <td>11216</td>\n",
       "      <td>7187896181</td>\n",
       "      <td>American</td>\n",
       "      <td>10/28/15</td>\n",
       "      <td>Not Critical</td>\n",
       "      <td>8</td>\n",
       "      <td>A</td>\n",
       "      <td>10/28/15</td>\n",
       "      <td>3.5</td>\n",
       "      <td>12.0</td>\n",
       "    </tr>\n",
       "    <tr>\n",
       "      <th>10</th>\n",
       "      <td>DIY KARAOKE</td>\n",
       "      <td>QUEENS</td>\n",
       "      <td>11354</td>\n",
       "      <td>7185396666</td>\n",
       "      <td>Asian</td>\n",
       "      <td>3/10/15</td>\n",
       "      <td>Critical</td>\n",
       "      <td>10</td>\n",
       "      <td>A</td>\n",
       "      <td>3/10/15</td>\n",
       "      <td>3.0</td>\n",
       "      <td>71.0</td>\n",
       "    </tr>\n",
       "    <tr>\n",
       "      <th>11</th>\n",
       "      <td>BLUE HILL RESTAURANT</td>\n",
       "      <td>MANHATTAN</td>\n",
       "      <td>10011</td>\n",
       "      <td>2125391776</td>\n",
       "      <td>American</td>\n",
       "      <td>3/1/16</td>\n",
       "      <td>Critical</td>\n",
       "      <td>13</td>\n",
       "      <td>A</td>\n",
       "      <td>3/1/16</td>\n",
       "      <td>4.5</td>\n",
       "      <td>745.0</td>\n",
       "    </tr>\n",
       "  </tbody>\n",
       "</table>\n",
       "</div>"
      ],
      "text/plain": [
       "                           DBA       BORO  ZIPCODE       PHONE  \\\n",
       "Index                                                            \n",
       "4      NO 1 CHINESE RESTAURANT  MANHATTAN    10032  2129280245   \n",
       "5       MANDUCATIS RUSTICA VIG     QUEENS    11101  7189371312   \n",
       "8        ABIR HALAL RESTAURANT   BROOKLYN    11216  7187896181   \n",
       "10                 DIY KARAOKE     QUEENS    11354  7185396666   \n",
       "11        BLUE HILL RESTAURANT  MANHATTAN    10011  2125391776   \n",
       "\n",
       "      CUISINE DESCRIPTION INSPECTION DATE CRITICAL FLAG  SCORE GRADE  \\\n",
       "Index                                                                  \n",
       "4                 Chinese         10/6/14      Critical     22     B   \n",
       "5                 Italian          1/2/13      Critical     12     A   \n",
       "8                American        10/28/15  Not Critical      8     A   \n",
       "10                  Asian         3/10/15      Critical     10     A   \n",
       "11               American          3/1/16      Critical     13     A   \n",
       "\n",
       "      GRADE DATE  Star_Rating  Review_Count  \n",
       "Index                                        \n",
       "4        10/6/14          2.5           7.0  \n",
       "5         1/2/13          3.5         125.0  \n",
       "8       10/28/15          3.5          12.0  \n",
       "10       3/10/15          3.0          71.0  \n",
       "11        3/1/16          4.5         745.0  "
      ]
     },
     "execution_count": 81,
     "metadata": {},
     "output_type": "execute_result"
    }
   ],
   "source": [
    "# Rename that column 'Index'\n",
    "dfnewindex.index.name = 'Index'\n",
    "\n",
    "dfclean = dfnewindex\n",
    "\n",
    "dfclean.head()"
   ]
  },
  {
   "cell_type": "code",
   "execution_count": 87,
   "metadata": {
    "collapsed": false
   },
   "outputs": [
    {
     "data": {
      "text/plain": [
       "<matplotlib.axes._subplots.AxesSubplot at 0x1200c84d0>"
      ]
     },
     "execution_count": 87,
     "metadata": {},
     "output_type": "execute_result"
    },
    {
     "data": {
      "image/png": "[encoded data removed]",
      "text/plain": [
       "<matplotlib.figure.Figure at 0x121417810>"
      ]
     },
     "metadata": {},
     "output_type": "display_data"
    }
   ],
   "source": [
    "# Exploratory analysis: Let's see how the star ratings are distributed.\n",
    "dfclean['Star_Rating'].value_counts().plot(kind='bar')"
   ]
  },
  {
   "cell_type": "markdown",
   "metadata": {},
   "source": [
    "On average, it seems that people feel pretty average about the restaurants they eat at. One would assume that there's not much of a reason to post a review from an overall unremarkable experience, but I would also assume that if I posted my opinions about a restaurant online no one would care, so clearly I don't understand the American populous.\n",
    "\n",
    "Even if people are posting raving / scathing reviews, the reviews seem to average out to be at least decent."
   ]
  },
  {
   "cell_type": "code",
   "execution_count": 151,
   "metadata": {
    "collapsed": false
   },
   "outputs": [
    {
     "data": {
      "text/plain": [
       "<matplotlib.axes._subplots.AxesSubplot at 0x13cfa0bd0>"
      ]
     },
     "execution_count": 151,
     "metadata": {},
     "output_type": "execute_result"
    },
    {
     "data": {
      "image/png": "[encoded data removed]",
      "text/plain": [
       "<matplotlib.figure.Figure at 0x13d77f750>"
      ]
     },
     "metadata": {},
     "output_type": "display_data"
    }
   ],
   "source": [
    "# Let's add DOH grade\n",
    "sns.countplot(x='Star_Rating', hue='GRADE', data=dfclean)"
   ]
  },
  {
   "cell_type": "markdown",
   "metadata": {},
   "source": [
    "This chart is not very useful since it just shows that the vast majority of restaurants in our set have A ratings. It is interesting to see that A, B, & C grades seem to be fairly normally distributed. I would have expected C ratings to be skewed heavily to the left.\n",
    "\n",
    "But this chart does not take into account the number of reviews for each star rating. Let's see if this chart changes once we incorporate review count into the fold..."
   ]
  },
  {
   "cell_type": "code",
   "execution_count": 112,
   "metadata": {
    "collapsed": false
   },
   "outputs": [
    {
     "data": {
      "text/plain": [
       "<seaborn.axisgrid.FacetGrid at 0x125c9fb90>"
      ]
     },
     "execution_count": 112,
     "metadata": {},
     "output_type": "execute_result"
    },
    {
     "data": {
      "image/png": "[encoded data removed]",
      "text/plain": [
       "<matplotlib.figure.Figure at 0x120ae9a50>"
      ]
     },
     "metadata": {},
     "output_type": "display_data"
    }
   ],
   "source": [
    "sns.factorplot(x='Star_Rating', y='Review_Count', hue='GRADE', data=dfclean, kind='bar', size=10, aspect=.75)"
   ]
  },
  {
   "cell_type": "code",
   "execution_count": 148,
   "metadata": {
    "collapsed": false
   },
   "outputs": [
    {
     "data": {
      "text/html": [
       "<div>\n",
       "<table border=\"1\" class=\"dataframe\">\n",
       "  <thead>\n",
       "    <tr style=\"text-align: right;\">\n",
       "      <th>Star_Rating</th>\n",
       "      <th>1.0</th>\n",
       "      <th>1.5</th>\n",
       "      <th>2.0</th>\n",
       "      <th>2.5</th>\n",
       "      <th>3.0</th>\n",
       "      <th>3.5</th>\n",
       "      <th>4.0</th>\n",
       "      <th>4.5</th>\n",
       "      <th>5.0</th>\n",
       "    </tr>\n",
       "    <tr>\n",
       "      <th>GRADE</th>\n",
       "      <th></th>\n",
       "      <th></th>\n",
       "      <th></th>\n",
       "      <th></th>\n",
       "      <th></th>\n",
       "      <th></th>\n",
       "      <th></th>\n",
       "      <th></th>\n",
       "      <th></th>\n",
       "    </tr>\n",
       "  </thead>\n",
       "  <tbody>\n",
       "    <tr>\n",
       "      <th>A</th>\n",
       "      <td>13</td>\n",
       "      <td>95</td>\n",
       "      <td>259</td>\n",
       "      <td>709</td>\n",
       "      <td>1759</td>\n",
       "      <td>3399</td>\n",
       "      <td>3199</td>\n",
       "      <td>856</td>\n",
       "      <td>55</td>\n",
       "    </tr>\n",
       "    <tr>\n",
       "      <th>B</th>\n",
       "      <td>3</td>\n",
       "      <td>15</td>\n",
       "      <td>71</td>\n",
       "      <td>184</td>\n",
       "      <td>473</td>\n",
       "      <td>935</td>\n",
       "      <td>660</td>\n",
       "      <td>153</td>\n",
       "      <td>8</td>\n",
       "    </tr>\n",
       "    <tr>\n",
       "      <th>C</th>\n",
       "      <td>0</td>\n",
       "      <td>12</td>\n",
       "      <td>23</td>\n",
       "      <td>63</td>\n",
       "      <td>121</td>\n",
       "      <td>252</td>\n",
       "      <td>163</td>\n",
       "      <td>27</td>\n",
       "      <td>0</td>\n",
       "    </tr>\n",
       "  </tbody>\n",
       "</table>\n",
       "</div>"
      ],
      "text/plain": [
       "Star_Rating  1.0  1.5  2.0  2.5   3.0   3.5   4.0  4.5  5.0\n",
       "GRADE                                                      \n",
       "A             13   95  259  709  1759  3399  3199  856   55\n",
       "B              3   15   71  184   473   935   660  153    8\n",
       "C              0   12   23   63   121   252   163   27    0"
      ]
     },
     "execution_count": 148,
     "metadata": {},
     "output_type": "execute_result"
    }
   ],
   "source": [
    "# Numerical breakdown of Grade / Star Rating distribution\n",
    "pd.crosstab(dfclean.GRADE, dfclean.Star_Rating)"
   ]
  },
  {
   "cell_type": "markdown",
   "metadata": {},
   "source": [
    "Surprisingly, people seem to love restaurants with poor DOH grades! This isn't too shocking given that the types of businesses that do disproportionately well on Yelp (as compared to other rating services) are \"hole in the wall\" cheap eats destinations. These restaurants often are dingy on the inside with extremely high volume with very small quarters and often have the same person handling the food and manning the register so there are many risks for contamination.\n",
    "\n",
    "I am surprised that none of our 1 star average restaurants received a C rating though. My suspicion here is that we would see more if we included entries with fewer than 5 reviews. If the first review on a restaurant's Yelp page is \"I loved my croissant until I realized that it was full of rat shit instead of chocolate; 0 stars\", it's pretty likely others would steer clear and not bother to rate the restaurant themselves.\n",
    "\n",
    "But enough speculation, let's see what else the data can tell us...\n",
    "\n",
    "I'd like to see what the weighted average star rating is for each DOH grade."
   ]
  },
  {
   "cell_type": "code",
   "execution_count": 149,
   "metadata": {
    "collapsed": true
   },
   "outputs": [
    {
     "name": "stderr",
     "output_type": "stream",
     "text": [
      "/Users/jessekranzler/anaconda2/lib/python2.7/site-packages/ipykernel/__main__.py:9: SettingWithCopyWarning: \n",
      "A value is trying to be set on a copy of a slice from a DataFrame.\n",
      "Try using .loc[row_indexer,col_indexer] = value instead\n",
      "\n",
      "See the caveats in the documentation: http://pandas.pydata.org/pandas-docs/stable/indexing.html#indexing-view-versus-copy\n",
      "/Users/jessekranzler/anaconda2/lib/python2.7/site-packages/ipykernel/__main__.py:12: SettingWithCopyWarning: \n",
      "A value is trying to be set on a copy of a slice from a DataFrame.\n",
      "Try using .loc[row_indexer,col_indexer] = value instead\n",
      "\n",
      "See the caveats in the documentation: http://pandas.pydata.org/pandas-docs/stable/indexing.html#indexing-view-versus-copy\n",
      "/Users/jessekranzler/anaconda2/lib/python2.7/site-packages/ipykernel/__main__.py:15: SettingWithCopyWarning: \n",
      "A value is trying to be set on a copy of a slice from a DataFrame.\n",
      "Try using .loc[row_indexer,col_indexer] = value instead\n",
      "\n",
      "See the caveats in the documentation: http://pandas.pydata.org/pandas-docs/stable/indexing.html#indexing-view-versus-copy\n"
     ]
    }
   ],
   "source": [
    "# In order to calculate weighted average, I will first split my df by letter grade\n",
    "# I'll append a column \"weightedavg\" that follows the logic (star_rating * (review_count/totalreviews))\n",
    "\n",
    "dfA = dfclean[dfclean.GRADE == 'A']\n",
    "dfB = dfclean[dfclean.GRADE == 'B']\n",
    "dfC = dfclean[dfclean.GRADE == 'C']\n",
    "\n",
    "totalreviewsA = dfA.Review_Count.sum()\n",
    "dfA['weightedavg'] = dfA['Star_Rating'] * (dfA['Review_Count'] / totalreviewsA)\n",
    "\n",
    "totalreviewsB = dfB.Review_Count.sum()\n",
    "dfB['weightedavg'] = dfB['Star_Rating'] * (dfB['Review_Count'] / totalreviewsB)\n",
    "\n",
    "totalreviewsC = dfC.Review_Count.sum()\n",
    "dfC['weightedavg'] = dfC['Star_Rating'] * (dfC['Review_Count'] / totalreviewsC)"
   ]
  },
  {
   "cell_type": "code",
   "execution_count": 150,
   "metadata": {
    "collapsed": false
   },
   "outputs": [
    {
     "name": "stdout",
     "output_type": "stream",
     "text": [
      "A Average: 3.70172324601\n",
      "B Average: 3.65096282133\n",
      "C Average: 3.61892486266\n"
     ]
    }
   ],
   "source": [
    "Aavg = dfA.weightedavg.sum()\n",
    "Bavg = dfB.weightedavg.sum()\n",
    "Cavg = dfC.weightedavg.sum()\n",
    "\n",
    "\n",
    "\n",
    "print \"A Average:\", Aavg\n",
    "print \"B Average:\", Bavg\n",
    "print \"C Average:\", Cavg"
   ]
  },
  {
   "cell_type": "markdown",
   "metadata": {},
   "source": [
    "Although the numbers are very close, we finally see the logic we were expecting with Yelp star rating decreasing as DOH letter grade decreases.\n",
    "\n",
    "Let's see if any other variables seem to impact DOH grade. Let's look at borough, zip code, and cuisine type."
   ]
  },
  {
   "cell_type": "code",
   "execution_count": 170,
   "metadata": {
    "collapsed": false
   },
   "outputs": [
    {
     "data": {
      "text/plain": [
       "<matplotlib.axes._subplots.AxesSubplot at 0x13c965410>"
      ]
     },
     "execution_count": 170,
     "metadata": {},
     "output_type": "execute_result"
    },
    {
     "data": {
      "image/png": "[encoded data removed]",
      "text/plain": [
       "<matplotlib.figure.Figure at 0x13c8d3790>"
      ]
     },
     "metadata": {},
     "output_type": "display_data"
    }
   ],
   "source": [
    "# Distribution of star ratings across boroughs for A-rated restaurants\n",
    "fig, ax = plt.subplots()\n",
    "fig.set_size_inches(12, 8)\n",
    "sns.countplot(x='Star_Rating', hue='BORO', data=dfA, ax=ax)"
   ]
  },
  {
   "cell_type": "code",
   "execution_count": 169,
   "metadata": {
    "collapsed": false
   },
   "outputs": [
    {
     "data": {
      "text/plain": [
       "<matplotlib.axes._subplots.AxesSubplot at 0x13c532810>"
      ]
     },
     "execution_count": 169,
     "metadata": {},
     "output_type": "execute_result"
    },
    {
     "data": {
      "image/png": "[encoded data removed]",
      "text/plain": [
       "<matplotlib.figure.Figure at 0x13c821210>"
      ]
     },
     "metadata": {},
     "output_type": "display_data"
    }
   ],
   "source": [
    "# Distribution of star ratings across boroughs for B-rated restaurants\n",
    "fig, ax = plt.subplots()\n",
    "fig.set_size_inches(12, 8)\n",
    "sns.countplot(x='Star_Rating', hue='BORO', data=dfB, ax=ax)"
   ]
  },
  {
   "cell_type": "code",
   "execution_count": 168,
   "metadata": {
    "collapsed": false
   },
   "outputs": [
    {
     "data": {
      "text/plain": [
       "<matplotlib.axes._subplots.AxesSubplot at 0x13517cb90>"
      ]
     },
     "execution_count": 168,
     "metadata": {},
     "output_type": "execute_result"
    },
    {
     "data": {
      "image/png": "[encoded data removed]",
      "text/plain": [
       "<matplotlib.figure.Figure at 0x1339e7d50>"
      ]
     },
     "metadata": {},
     "output_type": "display_data"
    }
   ],
   "source": [
    "# Distribution of star ratings across boroughs for C-rated restaurants\n",
    "fig, ax = plt.subplots()\n",
    "fig.set_size_inches(12, 8)\n",
    "sns.countplot(x='Star_Rating', hue='BORO', data=dfC, ax=ax)\n",
    "\n"
   ]
  },
  {
   "cell_type": "code",
   "execution_count": 173,
   "metadata": {
    "collapsed": false
   },
   "outputs": [
    {
     "data": {
      "text/html": [
       "<div>\n",
       "<table border=\"1\" class=\"dataframe\">\n",
       "  <thead>\n",
       "    <tr style=\"text-align: right;\">\n",
       "      <th>CUISINE DESCRIPTION</th>\n",
       "      <th>Afghan</th>\n",
       "      <th>African</th>\n",
       "      <th>American</th>\n",
       "      <th>Armenian</th>\n",
       "      <th>Asian</th>\n",
       "      <th>Australian</th>\n",
       "      <th>Bagels/Pretzels</th>\n",
       "      <th>Bakery</th>\n",
       "      <th>Bangladeshi</th>\n",
       "      <th>Barbecue</th>\n",
       "      <th>...</th>\n",
       "      <th>Soups &amp; Sandwiches</th>\n",
       "      <th>Southwestern</th>\n",
       "      <th>Spanish</th>\n",
       "      <th>Steak</th>\n",
       "      <th>Tapas</th>\n",
       "      <th>Tex-Mex</th>\n",
       "      <th>Thai</th>\n",
       "      <th>Turkish</th>\n",
       "      <th>Vegetarian</th>\n",
       "      <th>Vietnamese/Cambodian/Malaysia</th>\n",
       "    </tr>\n",
       "    <tr>\n",
       "      <th>GRADE</th>\n",
       "      <th></th>\n",
       "      <th></th>\n",
       "      <th></th>\n",
       "      <th></th>\n",
       "      <th></th>\n",
       "      <th></th>\n",
       "      <th></th>\n",
       "      <th></th>\n",
       "      <th></th>\n",
       "      <th></th>\n",
       "      <th></th>\n",
       "      <th></th>\n",
       "      <th></th>\n",
       "      <th></th>\n",
       "      <th></th>\n",
       "      <th></th>\n",
       "      <th></th>\n",
       "      <th></th>\n",
       "      <th></th>\n",
       "      <th></th>\n",
       "      <th></th>\n",
       "    </tr>\n",
       "  </thead>\n",
       "  <tbody>\n",
       "    <tr>\n",
       "      <th>A</th>\n",
       "      <td>6</td>\n",
       "      <td>11</td>\n",
       "      <td>2680</td>\n",
       "      <td>6</td>\n",
       "      <td>156</td>\n",
       "      <td>12</td>\n",
       "      <td>108</td>\n",
       "      <td>294</td>\n",
       "      <td>10</td>\n",
       "      <td>47</td>\n",
       "      <td>...</td>\n",
       "      <td>29</td>\n",
       "      <td>5</td>\n",
       "      <td>168</td>\n",
       "      <td>58</td>\n",
       "      <td>20</td>\n",
       "      <td>80</td>\n",
       "      <td>176</td>\n",
       "      <td>56</td>\n",
       "      <td>62</td>\n",
       "      <td>34</td>\n",
       "    </tr>\n",
       "    <tr>\n",
       "      <th>B</th>\n",
       "      <td>1</td>\n",
       "      <td>10</td>\n",
       "      <td>537</td>\n",
       "      <td>0</td>\n",
       "      <td>55</td>\n",
       "      <td>1</td>\n",
       "      <td>17</td>\n",
       "      <td>70</td>\n",
       "      <td>4</td>\n",
       "      <td>2</td>\n",
       "      <td>...</td>\n",
       "      <td>2</td>\n",
       "      <td>0</td>\n",
       "      <td>58</td>\n",
       "      <td>8</td>\n",
       "      <td>4</td>\n",
       "      <td>13</td>\n",
       "      <td>49</td>\n",
       "      <td>6</td>\n",
       "      <td>11</td>\n",
       "      <td>29</td>\n",
       "    </tr>\n",
       "    <tr>\n",
       "      <th>C</th>\n",
       "      <td>0</td>\n",
       "      <td>1</td>\n",
       "      <td>139</td>\n",
       "      <td>0</td>\n",
       "      <td>21</td>\n",
       "      <td>0</td>\n",
       "      <td>8</td>\n",
       "      <td>16</td>\n",
       "      <td>4</td>\n",
       "      <td>1</td>\n",
       "      <td>...</td>\n",
       "      <td>1</td>\n",
       "      <td>0</td>\n",
       "      <td>13</td>\n",
       "      <td>4</td>\n",
       "      <td>0</td>\n",
       "      <td>0</td>\n",
       "      <td>21</td>\n",
       "      <td>1</td>\n",
       "      <td>9</td>\n",
       "      <td>4</td>\n",
       "    </tr>\n",
       "  </tbody>\n",
       "</table>\n",
       "<p>3 rows × 82 columns</p>\n",
       "</div>"
      ],
      "text/plain": [
       "CUISINE DESCRIPTION  Afghan  African  American  Armenian  Asian  Australian  \\\n",
       "GRADE                                                                         \n",
       "A                         6       11      2680         6    156          12   \n",
       "B                         1       10       537         0     55           1   \n",
       "C                         0        1       139         0     21           0   \n",
       "\n",
       "CUISINE DESCRIPTION  Bagels/Pretzels  Bakery  Bangladeshi  Barbecue  \\\n",
       "GRADE                                                                 \n",
       "A                                108     294           10        47   \n",
       "B                                 17      70            4         2   \n",
       "C                                  8      16            4         1   \n",
       "\n",
       "CUISINE DESCRIPTION              ...                Soups & Sandwiches  \\\n",
       "GRADE                            ...                                     \n",
       "A                                ...                                29   \n",
       "B                                ...                                 2   \n",
       "C                                ...                                 1   \n",
       "\n",
       "CUISINE DESCRIPTION  Southwestern  Spanish  Steak  Tapas  Tex-Mex  Thai  \\\n",
       "GRADE                                                                     \n",
       "A                               5      168     58     20       80   176   \n",
       "B                               0       58      8      4       13    49   \n",
       "C                               0       13      4      0        0    21   \n",
       "\n",
       "CUISINE DESCRIPTION  Turkish  Vegetarian  Vietnamese/Cambodian/Malaysia  \n",
       "GRADE                                                                    \n",
       "A                         56          62                             34  \n",
       "B                          6          11                             29  \n",
       "C                          1           9                              4  \n",
       "\n",
       "[3 rows x 82 columns]"
      ]
     },
     "execution_count": 173,
     "metadata": {},
     "output_type": "execute_result"
    }
   ],
   "source": [
    "# Let's look how DOH grades are distributed amongst various cuisines\n",
    "\n",
    "pd.crosstab(dfclean['GRADE'], dfclean['CUISINE DESCRIPTION'])\n"
   ]
  },
  {
   "cell_type": "code",
   "execution_count": 180,
   "metadata": {
    "collapsed": false
   },
   "outputs": [
    {
     "data": {
      "text/html": [
       "<div>\n",
       "<table border=\"1\" class=\"dataframe\">\n",
       "  <thead>\n",
       "    <tr style=\"text-align: right;\">\n",
       "      <th>CUISINE DESCRIPTION</th>\n",
       "      <th>Afghan</th>\n",
       "      <th>African</th>\n",
       "      <th>American</th>\n",
       "      <th>Armenian</th>\n",
       "      <th>Asian</th>\n",
       "      <th>Australian</th>\n",
       "      <th>Bagels/Pretzels</th>\n",
       "      <th>Bakery</th>\n",
       "      <th>Bangladeshi</th>\n",
       "      <th>Barbecue</th>\n",
       "      <th>...</th>\n",
       "      <th>Soups &amp; Sandwiches</th>\n",
       "      <th>Southwestern</th>\n",
       "      <th>Spanish</th>\n",
       "      <th>Steak</th>\n",
       "      <th>Tapas</th>\n",
       "      <th>Tex-Mex</th>\n",
       "      <th>Thai</th>\n",
       "      <th>Turkish</th>\n",
       "      <th>Vegetarian</th>\n",
       "      <th>Vietnamese/Cambodian/Malaysia</th>\n",
       "    </tr>\n",
       "    <tr>\n",
       "      <th>GRADE</th>\n",
       "      <th></th>\n",
       "      <th></th>\n",
       "      <th></th>\n",
       "      <th></th>\n",
       "      <th></th>\n",
       "      <th></th>\n",
       "      <th></th>\n",
       "      <th></th>\n",
       "      <th></th>\n",
       "      <th></th>\n",
       "      <th></th>\n",
       "      <th></th>\n",
       "      <th></th>\n",
       "      <th></th>\n",
       "      <th></th>\n",
       "      <th></th>\n",
       "      <th></th>\n",
       "      <th></th>\n",
       "      <th></th>\n",
       "      <th></th>\n",
       "      <th></th>\n",
       "    </tr>\n",
       "  </thead>\n",
       "  <tbody>\n",
       "    <tr>\n",
       "      <th>A</th>\n",
       "      <td>0.857143</td>\n",
       "      <td>0.500000</td>\n",
       "      <td>0.798570</td>\n",
       "      <td>1.0</td>\n",
       "      <td>0.672414</td>\n",
       "      <td>0.923077</td>\n",
       "      <td>0.81203</td>\n",
       "      <td>0.773684</td>\n",
       "      <td>0.555556</td>\n",
       "      <td>0.94</td>\n",
       "      <td>...</td>\n",
       "      <td>0.90625</td>\n",
       "      <td>1.0</td>\n",
       "      <td>0.702929</td>\n",
       "      <td>0.828571</td>\n",
       "      <td>0.833333</td>\n",
       "      <td>0.860215</td>\n",
       "      <td>0.715447</td>\n",
       "      <td>0.888889</td>\n",
       "      <td>0.756098</td>\n",
       "      <td>0.507463</td>\n",
       "    </tr>\n",
       "    <tr>\n",
       "      <th>B</th>\n",
       "      <td>0.142857</td>\n",
       "      <td>0.454545</td>\n",
       "      <td>0.160012</td>\n",
       "      <td>0.0</td>\n",
       "      <td>0.237069</td>\n",
       "      <td>0.076923</td>\n",
       "      <td>0.12782</td>\n",
       "      <td>0.184211</td>\n",
       "      <td>0.222222</td>\n",
       "      <td>0.04</td>\n",
       "      <td>...</td>\n",
       "      <td>0.06250</td>\n",
       "      <td>0.0</td>\n",
       "      <td>0.242678</td>\n",
       "      <td>0.114286</td>\n",
       "      <td>0.166667</td>\n",
       "      <td>0.139785</td>\n",
       "      <td>0.199187</td>\n",
       "      <td>0.095238</td>\n",
       "      <td>0.134146</td>\n",
       "      <td>0.432836</td>\n",
       "    </tr>\n",
       "    <tr>\n",
       "      <th>C</th>\n",
       "      <td>0.000000</td>\n",
       "      <td>0.045455</td>\n",
       "      <td>0.041418</td>\n",
       "      <td>0.0</td>\n",
       "      <td>0.090517</td>\n",
       "      <td>0.000000</td>\n",
       "      <td>0.06015</td>\n",
       "      <td>0.042105</td>\n",
       "      <td>0.222222</td>\n",
       "      <td>0.02</td>\n",
       "      <td>...</td>\n",
       "      <td>0.03125</td>\n",
       "      <td>0.0</td>\n",
       "      <td>0.054393</td>\n",
       "      <td>0.057143</td>\n",
       "      <td>0.000000</td>\n",
       "      <td>0.000000</td>\n",
       "      <td>0.085366</td>\n",
       "      <td>0.015873</td>\n",
       "      <td>0.109756</td>\n",
       "      <td>0.059701</td>\n",
       "    </tr>\n",
       "  </tbody>\n",
       "</table>\n",
       "<p>3 rows × 82 columns</p>\n",
       "</div>"
      ],
      "text/plain": [
       "CUISINE DESCRIPTION    Afghan   African  American  Armenian     Asian  \\\n",
       "GRADE                                                                   \n",
       "A                    0.857143  0.500000  0.798570       1.0  0.672414   \n",
       "B                    0.142857  0.454545  0.160012       0.0  0.237069   \n",
       "C                    0.000000  0.045455  0.041418       0.0  0.090517   \n",
       "\n",
       "CUISINE DESCRIPTION  Australian  Bagels/Pretzels    Bakery  Bangladeshi  \\\n",
       "GRADE                                                                     \n",
       "A                      0.923077          0.81203  0.773684     0.555556   \n",
       "B                      0.076923          0.12782  0.184211     0.222222   \n",
       "C                      0.000000          0.06015  0.042105     0.222222   \n",
       "\n",
       "CUISINE DESCRIPTION  Barbecue              ...                \\\n",
       "GRADE                                      ...                 \n",
       "A                        0.94              ...                 \n",
       "B                        0.04              ...                 \n",
       "C                        0.02              ...                 \n",
       "\n",
       "CUISINE DESCRIPTION  Soups & Sandwiches  Southwestern   Spanish     Steak  \\\n",
       "GRADE                                                                       \n",
       "A                               0.90625           1.0  0.702929  0.828571   \n",
       "B                               0.06250           0.0  0.242678  0.114286   \n",
       "C                               0.03125           0.0  0.054393  0.057143   \n",
       "\n",
       "CUISINE DESCRIPTION     Tapas   Tex-Mex      Thai   Turkish  Vegetarian  \\\n",
       "GRADE                                                                     \n",
       "A                    0.833333  0.860215  0.715447  0.888889    0.756098   \n",
       "B                    0.166667  0.139785  0.199187  0.095238    0.134146   \n",
       "C                    0.000000  0.000000  0.085366  0.015873    0.109756   \n",
       "\n",
       "CUISINE DESCRIPTION  Vietnamese/Cambodian/Malaysia  \n",
       "GRADE                                               \n",
       "A                                         0.507463  \n",
       "B                                         0.432836  \n",
       "C                                         0.059701  \n",
       "\n",
       "[3 rows x 82 columns]"
      ]
     },
     "execution_count": 180,
     "metadata": {},
     "output_type": "execute_result"
    }
   ],
   "source": [
    "# Since some cuisines are disproportionately represented in NYC, let's look at a percentage breakdown\n",
    "pd.crosstab(dfclean['GRADE'], dfclean['CUISINE DESCRIPTION']).apply(lambda r: r/r.sum(), axis=0)"
   ]
  },
  {
   "cell_type": "code",
   "execution_count": 191,
   "metadata": {
    "collapsed": false
   },
   "outputs": [
    {
     "data": {
      "text/html": [
       "<div>\n",
       "<table border=\"1\" class=\"dataframe\">\n",
       "  <thead>\n",
       "    <tr style=\"text-align: right;\">\n",
       "      <th>GRADE</th>\n",
       "      <th>A</th>\n",
       "      <th>B</th>\n",
       "      <th>C</th>\n",
       "    </tr>\n",
       "    <tr>\n",
       "      <th>CUISINE DESCRIPTION</th>\n",
       "      <th></th>\n",
       "      <th></th>\n",
       "      <th></th>\n",
       "    </tr>\n",
       "  </thead>\n",
       "  <tbody>\n",
       "    <tr>\n",
       "      <th>Chilean</th>\n",
       "      <td>0.500000</td>\n",
       "      <td>0.000000</td>\n",
       "      <td>0.500000</td>\n",
       "    </tr>\n",
       "    <tr>\n",
       "      <th>Bangladeshi</th>\n",
       "      <td>0.555556</td>\n",
       "      <td>0.222222</td>\n",
       "      <td>0.222222</td>\n",
       "    </tr>\n",
       "    <tr>\n",
       "      <th>Eastern European</th>\n",
       "      <td>0.730769</td>\n",
       "      <td>0.134615</td>\n",
       "      <td>0.134615</td>\n",
       "    </tr>\n",
       "    <tr>\n",
       "      <th>Continental</th>\n",
       "      <td>0.767442</td>\n",
       "      <td>0.116279</td>\n",
       "      <td>0.116279</td>\n",
       "    </tr>\n",
       "    <tr>\n",
       "      <th>Pakistani</th>\n",
       "      <td>0.611111</td>\n",
       "      <td>0.277778</td>\n",
       "      <td>0.111111</td>\n",
       "    </tr>\n",
       "    <tr>\n",
       "      <th>Vegetarian</th>\n",
       "      <td>0.756098</td>\n",
       "      <td>0.134146</td>\n",
       "      <td>0.109756</td>\n",
       "    </tr>\n",
       "    <tr>\n",
       "      <th>Asian</th>\n",
       "      <td>0.672414</td>\n",
       "      <td>0.237069</td>\n",
       "      <td>0.090517</td>\n",
       "    </tr>\n",
       "    <tr>\n",
       "      <th>Thai</th>\n",
       "      <td>0.715447</td>\n",
       "      <td>0.199187</td>\n",
       "      <td>0.085366</td>\n",
       "    </tr>\n",
       "    <tr>\n",
       "      <th>Indian</th>\n",
       "      <td>0.702222</td>\n",
       "      <td>0.213333</td>\n",
       "      <td>0.084444</td>\n",
       "    </tr>\n",
       "    <tr>\n",
       "      <th>Chinese/Japanese</th>\n",
       "      <td>0.621622</td>\n",
       "      <td>0.297297</td>\n",
       "      <td>0.081081</td>\n",
       "    </tr>\n",
       "    <tr>\n",
       "      <th>Korean</th>\n",
       "      <td>0.603448</td>\n",
       "      <td>0.316092</td>\n",
       "      <td>0.080460</td>\n",
       "    </tr>\n",
       "    <tr>\n",
       "      <th>Mexican</th>\n",
       "      <td>0.699588</td>\n",
       "      <td>0.224280</td>\n",
       "      <td>0.076132</td>\n",
       "    </tr>\n",
       "    <tr>\n",
       "      <th>Salads</th>\n",
       "      <td>0.851852</td>\n",
       "      <td>0.074074</td>\n",
       "      <td>0.074074</td>\n",
       "    </tr>\n",
       "    <tr>\n",
       "      <th>Latin (Cuban, Dominican, Puerto Rican, South &amp; Central American)</th>\n",
       "      <td>0.708779</td>\n",
       "      <td>0.220557</td>\n",
       "      <td>0.070664</td>\n",
       "    </tr>\n",
       "    <tr>\n",
       "      <th>Chinese</th>\n",
       "      <td>0.638677</td>\n",
       "      <td>0.290925</td>\n",
       "      <td>0.070399</td>\n",
       "    </tr>\n",
       "    <tr>\n",
       "      <th>Japanese</th>\n",
       "      <td>0.688889</td>\n",
       "      <td>0.241026</td>\n",
       "      <td>0.070085</td>\n",
       "    </tr>\n",
       "    <tr>\n",
       "      <th>Bagels/Pretzels</th>\n",
       "      <td>0.812030</td>\n",
       "      <td>0.127820</td>\n",
       "      <td>0.060150</td>\n",
       "    </tr>\n",
       "    <tr>\n",
       "      <th>Vietnamese/Cambodian/Malaysia</th>\n",
       "      <td>0.507463</td>\n",
       "      <td>0.432836</td>\n",
       "      <td>0.059701</td>\n",
       "    </tr>\n",
       "    <tr>\n",
       "      <th>Steak</th>\n",
       "      <td>0.828571</td>\n",
       "      <td>0.114286</td>\n",
       "      <td>0.057143</td>\n",
       "    </tr>\n",
       "    <tr>\n",
       "      <th>Delicatessen</th>\n",
       "      <td>0.656566</td>\n",
       "      <td>0.287879</td>\n",
       "      <td>0.055556</td>\n",
       "    </tr>\n",
       "    <tr>\n",
       "      <th>Spanish</th>\n",
       "      <td>0.702929</td>\n",
       "      <td>0.242678</td>\n",
       "      <td>0.054393</td>\n",
       "    </tr>\n",
       "    <tr>\n",
       "      <th>Peruvian</th>\n",
       "      <td>0.607595</td>\n",
       "      <td>0.341772</td>\n",
       "      <td>0.050633</td>\n",
       "    </tr>\n",
       "    <tr>\n",
       "      <th>Pizza/Italian</th>\n",
       "      <td>0.738872</td>\n",
       "      <td>0.210682</td>\n",
       "      <td>0.050445</td>\n",
       "    </tr>\n",
       "    <tr>\n",
       "      <th>Pizza</th>\n",
       "      <td>0.765379</td>\n",
       "      <td>0.184549</td>\n",
       "      <td>0.050072</td>\n",
       "    </tr>\n",
       "    <tr>\n",
       "      <th>Seafood</th>\n",
       "      <td>0.858491</td>\n",
       "      <td>0.094340</td>\n",
       "      <td>0.047170</td>\n",
       "    </tr>\n",
       "    <tr>\n",
       "      <th>African</th>\n",
       "      <td>0.500000</td>\n",
       "      <td>0.454545</td>\n",
       "      <td>0.045455</td>\n",
       "    </tr>\n",
       "    <tr>\n",
       "      <th>Hamburgers</th>\n",
       "      <td>0.839357</td>\n",
       "      <td>0.116466</td>\n",
       "      <td>0.044177</td>\n",
       "    </tr>\n",
       "    <tr>\n",
       "      <th>Bakery</th>\n",
       "      <td>0.773684</td>\n",
       "      <td>0.184211</td>\n",
       "      <td>0.042105</td>\n",
       "    </tr>\n",
       "    <tr>\n",
       "      <th>American</th>\n",
       "      <td>0.798570</td>\n",
       "      <td>0.160012</td>\n",
       "      <td>0.041418</td>\n",
       "    </tr>\n",
       "    <tr>\n",
       "      <th>Brazilian</th>\n",
       "      <td>0.851852</td>\n",
       "      <td>0.111111</td>\n",
       "      <td>0.037037</td>\n",
       "    </tr>\n",
       "    <tr>\n",
       "      <th>...</th>\n",
       "      <td>...</td>\n",
       "      <td>...</td>\n",
       "      <td>...</td>\n",
       "    </tr>\n",
       "    <tr>\n",
       "      <th>Russian</th>\n",
       "      <td>0.796296</td>\n",
       "      <td>0.203704</td>\n",
       "      <td>0.000000</td>\n",
       "    </tr>\n",
       "    <tr>\n",
       "      <th>Portuguese</th>\n",
       "      <td>1.000000</td>\n",
       "      <td>0.000000</td>\n",
       "      <td>0.000000</td>\n",
       "    </tr>\n",
       "    <tr>\n",
       "      <th>Polynesian</th>\n",
       "      <td>0.000000</td>\n",
       "      <td>1.000000</td>\n",
       "      <td>0.000000</td>\n",
       "    </tr>\n",
       "    <tr>\n",
       "      <th>Polish</th>\n",
       "      <td>0.761905</td>\n",
       "      <td>0.238095</td>\n",
       "      <td>0.000000</td>\n",
       "    </tr>\n",
       "    <tr>\n",
       "      <th>Tapas</th>\n",
       "      <td>0.833333</td>\n",
       "      <td>0.166667</td>\n",
       "      <td>0.000000</td>\n",
       "    </tr>\n",
       "    <tr>\n",
       "      <th>Tex-Mex</th>\n",
       "      <td>0.860215</td>\n",
       "      <td>0.139785</td>\n",
       "      <td>0.000000</td>\n",
       "    </tr>\n",
       "    <tr>\n",
       "      <th>Southwestern</th>\n",
       "      <td>1.000000</td>\n",
       "      <td>0.000000</td>\n",
       "      <td>0.000000</td>\n",
       "    </tr>\n",
       "    <tr>\n",
       "      <th>Afghan</th>\n",
       "      <td>0.857143</td>\n",
       "      <td>0.142857</td>\n",
       "      <td>0.000000</td>\n",
       "    </tr>\n",
       "    <tr>\n",
       "      <th>Pancakes/Waffles</th>\n",
       "      <td>0.666667</td>\n",
       "      <td>0.333333</td>\n",
       "      <td>0.000000</td>\n",
       "    </tr>\n",
       "    <tr>\n",
       "      <th>Other</th>\n",
       "      <td>1.000000</td>\n",
       "      <td>0.000000</td>\n",
       "      <td>0.000000</td>\n",
       "    </tr>\n",
       "    <tr>\n",
       "      <th>Armenian</th>\n",
       "      <td>1.000000</td>\n",
       "      <td>0.000000</td>\n",
       "      <td>0.000000</td>\n",
       "    </tr>\n",
       "    <tr>\n",
       "      <th>Australian</th>\n",
       "      <td>0.923077</td>\n",
       "      <td>0.076923</td>\n",
       "      <td>0.000000</td>\n",
       "    </tr>\n",
       "    <tr>\n",
       "      <th>Bottled beverages, including water, sodas, juices, etc.</th>\n",
       "      <td>0.958333</td>\n",
       "      <td>0.041667</td>\n",
       "      <td>0.000000</td>\n",
       "    </tr>\n",
       "    <tr>\n",
       "      <th>Cajun</th>\n",
       "      <td>1.000000</td>\n",
       "      <td>0.000000</td>\n",
       "      <td>0.000000</td>\n",
       "    </tr>\n",
       "    <tr>\n",
       "      <th>Californian</th>\n",
       "      <td>1.000000</td>\n",
       "      <td>0.000000</td>\n",
       "      <td>0.000000</td>\n",
       "    </tr>\n",
       "    <tr>\n",
       "      <th>Chinese/Cuban</th>\n",
       "      <td>0.666667</td>\n",
       "      <td>0.333333</td>\n",
       "      <td>0.000000</td>\n",
       "    </tr>\n",
       "    <tr>\n",
       "      <th>Creole</th>\n",
       "      <td>0.500000</td>\n",
       "      <td>0.500000</td>\n",
       "      <td>0.000000</td>\n",
       "    </tr>\n",
       "    <tr>\n",
       "      <th>Creole/Cajun</th>\n",
       "      <td>1.000000</td>\n",
       "      <td>0.000000</td>\n",
       "      <td>0.000000</td>\n",
       "    </tr>\n",
       "    <tr>\n",
       "      <th>Czech</th>\n",
       "      <td>1.000000</td>\n",
       "      <td>0.000000</td>\n",
       "      <td>0.000000</td>\n",
       "    </tr>\n",
       "    <tr>\n",
       "      <th>Egyptian</th>\n",
       "      <td>0.857143</td>\n",
       "      <td>0.142857</td>\n",
       "      <td>0.000000</td>\n",
       "    </tr>\n",
       "    <tr>\n",
       "      <th>English</th>\n",
       "      <td>1.000000</td>\n",
       "      <td>0.000000</td>\n",
       "      <td>0.000000</td>\n",
       "    </tr>\n",
       "    <tr>\n",
       "      <th>Ethiopian</th>\n",
       "      <td>0.823529</td>\n",
       "      <td>0.176471</td>\n",
       "      <td>0.000000</td>\n",
       "    </tr>\n",
       "    <tr>\n",
       "      <th>Filipino</th>\n",
       "      <td>0.500000</td>\n",
       "      <td>0.500000</td>\n",
       "      <td>0.000000</td>\n",
       "    </tr>\n",
       "    <tr>\n",
       "      <th>Fruits/Vegetables</th>\n",
       "      <td>0.500000</td>\n",
       "      <td>0.500000</td>\n",
       "      <td>0.000000</td>\n",
       "    </tr>\n",
       "    <tr>\n",
       "      <th>Hotdogs</th>\n",
       "      <td>0.666667</td>\n",
       "      <td>0.333333</td>\n",
       "      <td>0.000000</td>\n",
       "    </tr>\n",
       "    <tr>\n",
       "      <th>Hotdogs/Pretzels</th>\n",
       "      <td>1.000000</td>\n",
       "      <td>0.000000</td>\n",
       "      <td>0.000000</td>\n",
       "    </tr>\n",
       "    <tr>\n",
       "      <th>Moroccan</th>\n",
       "      <td>1.000000</td>\n",
       "      <td>0.000000</td>\n",
       "      <td>0.000000</td>\n",
       "    </tr>\n",
       "    <tr>\n",
       "      <th>Not Listed/Not Applicable</th>\n",
       "      <td>1.000000</td>\n",
       "      <td>0.000000</td>\n",
       "      <td>0.000000</td>\n",
       "    </tr>\n",
       "    <tr>\n",
       "      <th>Nuts/Confectionary</th>\n",
       "      <td>0.500000</td>\n",
       "      <td>0.500000</td>\n",
       "      <td>0.000000</td>\n",
       "    </tr>\n",
       "    <tr>\n",
       "      <th>Indonesian</th>\n",
       "      <td>0.833333</td>\n",
       "      <td>0.166667</td>\n",
       "      <td>0.000000</td>\n",
       "    </tr>\n",
       "  </tbody>\n",
       "</table>\n",
       "<p>82 rows × 3 columns</p>\n",
       "</div>"
      ],
      "text/plain": [
       "GRADE                                                      A         B  \\\n",
       "CUISINE DESCRIPTION                                                      \n",
       "Chilean                                             0.500000  0.000000   \n",
       "Bangladeshi                                         0.555556  0.222222   \n",
       "Eastern European                                    0.730769  0.134615   \n",
       "Continental                                         0.767442  0.116279   \n",
       "Pakistani                                           0.611111  0.277778   \n",
       "Vegetarian                                          0.756098  0.134146   \n",
       "Asian                                               0.672414  0.237069   \n",
       "Thai                                                0.715447  0.199187   \n",
       "Indian                                              0.702222  0.213333   \n",
       "Chinese/Japanese                                    0.621622  0.297297   \n",
       "Korean                                              0.603448  0.316092   \n",
       "Mexican                                             0.699588  0.224280   \n",
       "Salads                                              0.851852  0.074074   \n",
       "Latin (Cuban, Dominican, Puerto Rican, South & ...  0.708779  0.220557   \n",
       "Chinese                                             0.638677  0.290925   \n",
       "Japanese                                            0.688889  0.241026   \n",
       "Bagels/Pretzels                                     0.812030  0.127820   \n",
       "Vietnamese/Cambodian/Malaysia                       0.507463  0.432836   \n",
       "Steak                                               0.828571  0.114286   \n",
       "Delicatessen                                        0.656566  0.287879   \n",
       "Spanish                                             0.702929  0.242678   \n",
       "Peruvian                                            0.607595  0.341772   \n",
       "Pizza/Italian                                       0.738872  0.210682   \n",
       "Pizza                                               0.765379  0.184549   \n",
       "Seafood                                             0.858491  0.094340   \n",
       "African                                             0.500000  0.454545   \n",
       "Hamburgers                                          0.839357  0.116466   \n",
       "Bakery                                              0.773684  0.184211   \n",
       "American                                            0.798570  0.160012   \n",
       "Brazilian                                           0.851852  0.111111   \n",
       "...                                                      ...       ...   \n",
       "Russian                                             0.796296  0.203704   \n",
       "Portuguese                                          1.000000  0.000000   \n",
       "Polynesian                                          0.000000  1.000000   \n",
       "Polish                                              0.761905  0.238095   \n",
       "Tapas                                               0.833333  0.166667   \n",
       "Tex-Mex                                             0.860215  0.139785   \n",
       "Southwestern                                        1.000000  0.000000   \n",
       "Afghan                                              0.857143  0.142857   \n",
       "Pancakes/Waffles                                    0.666667  0.333333   \n",
       "Other                                               1.000000  0.000000   \n",
       "Armenian                                            1.000000  0.000000   \n",
       "Australian                                          0.923077  0.076923   \n",
       "Bottled beverages, including water, sodas, juic...  0.958333  0.041667   \n",
       "Cajun                                               1.000000  0.000000   \n",
       "Californian                                         1.000000  0.000000   \n",
       "Chinese/Cuban                                       0.666667  0.333333   \n",
       "Creole                                              0.500000  0.500000   \n",
       "Creole/Cajun                                        1.000000  0.000000   \n",
       "Czech                                               1.000000  0.000000   \n",
       "Egyptian                                            0.857143  0.142857   \n",
       "English                                             1.000000  0.000000   \n",
       "Ethiopian                                           0.823529  0.176471   \n",
       "Filipino                                            0.500000  0.500000   \n",
       "Fruits/Vegetables                                   0.500000  0.500000   \n",
       "Hotdogs                                             0.666667  0.333333   \n",
       "Hotdogs/Pretzels                                    1.000000  0.000000   \n",
       "Moroccan                                            1.000000  0.000000   \n",
       "Not Listed/Not Applicable                           1.000000  0.000000   \n",
       "Nuts/Confectionary                                  0.500000  0.500000   \n",
       "Indonesian                                          0.833333  0.166667   \n",
       "\n",
       "GRADE                                                      C  \n",
       "CUISINE DESCRIPTION                                           \n",
       "Chilean                                             0.500000  \n",
       "Bangladeshi                                         0.222222  \n",
       "Eastern European                                    0.134615  \n",
       "Continental                                         0.116279  \n",
       "Pakistani                                           0.111111  \n",
       "Vegetarian                                          0.109756  \n",
       "Asian                                               0.090517  \n",
       "Thai                                                0.085366  \n",
       "Indian                                              0.084444  \n",
       "Chinese/Japanese                                    0.081081  \n",
       "Korean                                              0.080460  \n",
       "Mexican                                             0.076132  \n",
       "Salads                                              0.074074  \n",
       "Latin (Cuban, Dominican, Puerto Rican, South & ...  0.070664  \n",
       "Chinese                                             0.070399  \n",
       "Japanese                                            0.070085  \n",
       "Bagels/Pretzels                                     0.060150  \n",
       "Vietnamese/Cambodian/Malaysia                       0.059701  \n",
       "Steak                                               0.057143  \n",
       "Delicatessen                                        0.055556  \n",
       "Spanish                                             0.054393  \n",
       "Peruvian                                            0.050633  \n",
       "Pizza/Italian                                       0.050445  \n",
       "Pizza                                               0.050072  \n",
       "Seafood                                             0.047170  \n",
       "African                                             0.045455  \n",
       "Hamburgers                                          0.044177  \n",
       "Bakery                                              0.042105  \n",
       "American                                            0.041418  \n",
       "Brazilian                                           0.037037  \n",
       "...                                                      ...  \n",
       "Russian                                             0.000000  \n",
       "Portuguese                                          0.000000  \n",
       "Polynesian                                          0.000000  \n",
       "Polish                                              0.000000  \n",
       "Tapas                                               0.000000  \n",
       "Tex-Mex                                             0.000000  \n",
       "Southwestern                                        0.000000  \n",
       "Afghan                                              0.000000  \n",
       "Pancakes/Waffles                                    0.000000  \n",
       "Other                                               0.000000  \n",
       "Armenian                                            0.000000  \n",
       "Australian                                          0.000000  \n",
       "Bottled beverages, including water, sodas, juic...  0.000000  \n",
       "Cajun                                               0.000000  \n",
       "Californian                                         0.000000  \n",
       "Chinese/Cuban                                       0.000000  \n",
       "Creole                                              0.000000  \n",
       "Creole/Cajun                                        0.000000  \n",
       "Czech                                               0.000000  \n",
       "Egyptian                                            0.000000  \n",
       "English                                             0.000000  \n",
       "Ethiopian                                           0.000000  \n",
       "Filipino                                            0.000000  \n",
       "Fruits/Vegetables                                   0.000000  \n",
       "Hotdogs                                             0.000000  \n",
       "Hotdogs/Pretzels                                    0.000000  \n",
       "Moroccan                                            0.000000  \n",
       "Not Listed/Not Applicable                           0.000000  \n",
       "Nuts/Confectionary                                  0.000000  \n",
       "Indonesian                                          0.000000  \n",
       "\n",
       "[82 rows x 3 columns]"
      ]
     },
     "execution_count": 191,
     "metadata": {},
     "output_type": "execute_result"
    }
   ],
   "source": [
    "cuisinedf = pd.crosstab(dfclean['GRADE'], dfclean['CUISINE DESCRIPTION']).apply(lambda r: r/r.sum(), axis=0)\n",
    "\n",
    "cuisinerotate = cuisinedf.transpose()\n",
    "\n",
    "cuisinerotate.sort_values(by=['C'],ascending=False)"
   ]
  },
  {
   "cell_type": "markdown",
   "metadata": {},
   "source": [
    "Above we see the cuisines with the highest percentage of C ratings. There are a lot of surprises in here. It just goes to show that stereotypes are not always true. Maybe someone should show this report to Donald Trump?\n",
    "\n",
    "Let's do a similar exercise for NYC zipcodes. I'd like to find the highest density of C-rated restaurants. One would assume they would be centered around Chinatown and Flushing, but the data has disproven my stereotypes multiple times already, so we'll see how the results pan out..."
   ]
  },
  {
   "cell_type": "code",
   "execution_count": 194,
   "metadata": {
    "collapsed": false
   },
   "outputs": [
    {
     "data": {
      "text/html": [
       "<div>\n",
       "<table border=\"1\" class=\"dataframe\">\n",
       "  <thead>\n",
       "    <tr style=\"text-align: right;\">\n",
       "      <th>ZIPCODE</th>\n",
       "      <th>10001</th>\n",
       "      <th>10002</th>\n",
       "      <th>10003</th>\n",
       "      <th>10004</th>\n",
       "      <th>10005</th>\n",
       "      <th>10006</th>\n",
       "      <th>10007</th>\n",
       "      <th>10009</th>\n",
       "      <th>10010</th>\n",
       "      <th>10011</th>\n",
       "      <th>...</th>\n",
       "      <th>11432</th>\n",
       "      <th>11433</th>\n",
       "      <th>11434</th>\n",
       "      <th>11435</th>\n",
       "      <th>11436</th>\n",
       "      <th>11691</th>\n",
       "      <th>11692</th>\n",
       "      <th>11693</th>\n",
       "      <th>11694</th>\n",
       "      <th>11697</th>\n",
       "    </tr>\n",
       "    <tr>\n",
       "      <th>GRADE</th>\n",
       "      <th></th>\n",
       "      <th></th>\n",
       "      <th></th>\n",
       "      <th></th>\n",
       "      <th></th>\n",
       "      <th></th>\n",
       "      <th></th>\n",
       "      <th></th>\n",
       "      <th></th>\n",
       "      <th></th>\n",
       "      <th></th>\n",
       "      <th></th>\n",
       "      <th></th>\n",
       "      <th></th>\n",
       "      <th></th>\n",
       "      <th></th>\n",
       "      <th></th>\n",
       "      <th></th>\n",
       "      <th></th>\n",
       "      <th></th>\n",
       "      <th></th>\n",
       "    </tr>\n",
       "  </thead>\n",
       "  <tbody>\n",
       "    <tr>\n",
       "      <th>A</th>\n",
       "      <td>0.796992</td>\n",
       "      <td>0.768025</td>\n",
       "      <td>0.748936</td>\n",
       "      <td>0.744444</td>\n",
       "      <td>0.794118</td>\n",
       "      <td>0.71875</td>\n",
       "      <td>0.910714</td>\n",
       "      <td>0.748744</td>\n",
       "      <td>0.726708</td>\n",
       "      <td>0.797251</td>\n",
       "      <td>...</td>\n",
       "      <td>0.774194</td>\n",
       "      <td>0.8</td>\n",
       "      <td>1.0</td>\n",
       "      <td>0.78</td>\n",
       "      <td>0.5</td>\n",
       "      <td>0.466667</td>\n",
       "      <td>0.833333</td>\n",
       "      <td>0.588235</td>\n",
       "      <td>0.85</td>\n",
       "      <td>1.0</td>\n",
       "    </tr>\n",
       "    <tr>\n",
       "      <th>B</th>\n",
       "      <td>0.172932</td>\n",
       "      <td>0.200627</td>\n",
       "      <td>0.182979</td>\n",
       "      <td>0.200000</td>\n",
       "      <td>0.176471</td>\n",
       "      <td>0.25000</td>\n",
       "      <td>0.089286</td>\n",
       "      <td>0.195980</td>\n",
       "      <td>0.204969</td>\n",
       "      <td>0.154639</td>\n",
       "      <td>...</td>\n",
       "      <td>0.193548</td>\n",
       "      <td>0.2</td>\n",
       "      <td>0.0</td>\n",
       "      <td>0.10</td>\n",
       "      <td>0.5</td>\n",
       "      <td>0.466667</td>\n",
       "      <td>0.166667</td>\n",
       "      <td>0.117647</td>\n",
       "      <td>0.15</td>\n",
       "      <td>0.0</td>\n",
       "    </tr>\n",
       "    <tr>\n",
       "      <th>C</th>\n",
       "      <td>0.030075</td>\n",
       "      <td>0.031348</td>\n",
       "      <td>0.068085</td>\n",
       "      <td>0.055556</td>\n",
       "      <td>0.029412</td>\n",
       "      <td>0.03125</td>\n",
       "      <td>0.000000</td>\n",
       "      <td>0.055276</td>\n",
       "      <td>0.068323</td>\n",
       "      <td>0.048110</td>\n",
       "      <td>...</td>\n",
       "      <td>0.032258</td>\n",
       "      <td>0.0</td>\n",
       "      <td>0.0</td>\n",
       "      <td>0.12</td>\n",
       "      <td>0.0</td>\n",
       "      <td>0.066667</td>\n",
       "      <td>0.000000</td>\n",
       "      <td>0.294118</td>\n",
       "      <td>0.00</td>\n",
       "      <td>0.0</td>\n",
       "    </tr>\n",
       "  </tbody>\n",
       "</table>\n",
       "<p>3 rows × 202 columns</p>\n",
       "</div>"
      ],
      "text/plain": [
       "ZIPCODE     10001     10002     10003     10004     10005    10006     10007  \\\n",
       "GRADE                                                                          \n",
       "A        0.796992  0.768025  0.748936  0.744444  0.794118  0.71875  0.910714   \n",
       "B        0.172932  0.200627  0.182979  0.200000  0.176471  0.25000  0.089286   \n",
       "C        0.030075  0.031348  0.068085  0.055556  0.029412  0.03125  0.000000   \n",
       "\n",
       "ZIPCODE     10009     10010     10011  ...       11432  11433  11434  11435  \\\n",
       "GRADE                                  ...                                    \n",
       "A        0.748744  0.726708  0.797251  ...    0.774194    0.8    1.0   0.78   \n",
       "B        0.195980  0.204969  0.154639  ...    0.193548    0.2    0.0   0.10   \n",
       "C        0.055276  0.068323  0.048110  ...    0.032258    0.0    0.0   0.12   \n",
       "\n",
       "ZIPCODE  11436     11691     11692     11693  11694  11697  \n",
       "GRADE                                                       \n",
       "A          0.5  0.466667  0.833333  0.588235   0.85    1.0  \n",
       "B          0.5  0.466667  0.166667  0.117647   0.15    0.0  \n",
       "C          0.0  0.066667  0.000000  0.294118   0.00    0.0  \n",
       "\n",
       "[3 rows x 202 columns]"
      ]
     },
     "execution_count": 194,
     "metadata": {},
     "output_type": "execute_result"
    }
   ],
   "source": [
    "pd.crosstab(dfclean['GRADE'], dfclean['ZIPCODE']).apply(lambda r: r/r.sum(), axis=0)\n"
   ]
  },
  {
   "cell_type": "code",
   "execution_count": 195,
   "metadata": {
    "collapsed": false
   },
   "outputs": [
    {
     "data": {
      "text/html": [
       "<div>\n",
       "<table border=\"1\" class=\"dataframe\">\n",
       "  <thead>\n",
       "    <tr style=\"text-align: right;\">\n",
       "      <th>GRADE</th>\n",
       "      <th>A</th>\n",
       "      <th>B</th>\n",
       "      <th>C</th>\n",
       "    </tr>\n",
       "    <tr>\n",
       "      <th>ZIPCODE</th>\n",
       "      <th></th>\n",
       "      <th></th>\n",
       "      <th></th>\n",
       "    </tr>\n",
       "  </thead>\n",
       "  <tbody>\n",
       "    <tr>\n",
       "      <th>11242</th>\n",
       "      <td>0.666667</td>\n",
       "      <td>0.000000</td>\n",
       "      <td>0.333333</td>\n",
       "    </tr>\n",
       "    <tr>\n",
       "      <th>10037</th>\n",
       "      <td>0.375000</td>\n",
       "      <td>0.312500</td>\n",
       "      <td>0.312500</td>\n",
       "    </tr>\n",
       "    <tr>\n",
       "      <th>11693</th>\n",
       "      <td>0.588235</td>\n",
       "      <td>0.117647</td>\n",
       "      <td>0.294118</td>\n",
       "    </tr>\n",
       "    <tr>\n",
       "      <th>11203</th>\n",
       "      <td>0.548387</td>\n",
       "      <td>0.225806</td>\n",
       "      <td>0.225806</td>\n",
       "    </tr>\n",
       "    <tr>\n",
       "      <th>10034</th>\n",
       "      <td>0.750000</td>\n",
       "      <td>0.041667</td>\n",
       "      <td>0.208333</td>\n",
       "    </tr>\n",
       "    <tr>\n",
       "      <th>10474</th>\n",
       "      <td>0.600000</td>\n",
       "      <td>0.200000</td>\n",
       "      <td>0.200000</td>\n",
       "    </tr>\n",
       "    <tr>\n",
       "      <th>10104</th>\n",
       "      <td>0.800000</td>\n",
       "      <td>0.000000</td>\n",
       "      <td>0.200000</td>\n",
       "    </tr>\n",
       "    <tr>\n",
       "      <th>11236</th>\n",
       "      <td>0.555556</td>\n",
       "      <td>0.259259</td>\n",
       "      <td>0.185185</td>\n",
       "    </tr>\n",
       "    <tr>\n",
       "      <th>11228</th>\n",
       "      <td>0.710526</td>\n",
       "      <td>0.105263</td>\n",
       "      <td>0.184211</td>\n",
       "    </tr>\n",
       "    <tr>\n",
       "      <th>10308</th>\n",
       "      <td>0.705882</td>\n",
       "      <td>0.117647</td>\n",
       "      <td>0.176471</td>\n",
       "    </tr>\n",
       "    <tr>\n",
       "      <th>10459</th>\n",
       "      <td>0.833333</td>\n",
       "      <td>0.000000</td>\n",
       "      <td>0.166667</td>\n",
       "    </tr>\n",
       "    <tr>\n",
       "      <th>10460</th>\n",
       "      <td>0.692308</td>\n",
       "      <td>0.153846</td>\n",
       "      <td>0.153846</td>\n",
       "    </tr>\n",
       "    <tr>\n",
       "      <th>11428</th>\n",
       "      <td>0.700000</td>\n",
       "      <td>0.150000</td>\n",
       "      <td>0.150000</td>\n",
       "    </tr>\n",
       "    <tr>\n",
       "      <th>10040</th>\n",
       "      <td>0.666667</td>\n",
       "      <td>0.185185</td>\n",
       "      <td>0.148148</td>\n",
       "    </tr>\n",
       "    <tr>\n",
       "      <th>11411</th>\n",
       "      <td>0.714286</td>\n",
       "      <td>0.142857</td>\n",
       "      <td>0.142857</td>\n",
       "    </tr>\n",
       "    <tr>\n",
       "      <th>10304</th>\n",
       "      <td>0.714286</td>\n",
       "      <td>0.142857</td>\n",
       "      <td>0.142857</td>\n",
       "    </tr>\n",
       "    <tr>\n",
       "      <th>11417</th>\n",
       "      <td>0.568182</td>\n",
       "      <td>0.295455</td>\n",
       "      <td>0.136364</td>\n",
       "    </tr>\n",
       "    <tr>\n",
       "      <th>11435</th>\n",
       "      <td>0.780000</td>\n",
       "      <td>0.100000</td>\n",
       "      <td>0.120000</td>\n",
       "    </tr>\n",
       "    <tr>\n",
       "      <th>10470</th>\n",
       "      <td>0.647059</td>\n",
       "      <td>0.235294</td>\n",
       "      <td>0.117647</td>\n",
       "    </tr>\n",
       "    <tr>\n",
       "      <th>11426</th>\n",
       "      <td>0.615385</td>\n",
       "      <td>0.269231</td>\n",
       "      <td>0.115385</td>\n",
       "    </tr>\n",
       "    <tr>\n",
       "      <th>10020</th>\n",
       "      <td>0.846154</td>\n",
       "      <td>0.038462</td>\n",
       "      <td>0.115385</td>\n",
       "    </tr>\n",
       "    <tr>\n",
       "      <th>10475</th>\n",
       "      <td>0.678571</td>\n",
       "      <td>0.214286</td>\n",
       "      <td>0.107143</td>\n",
       "    </tr>\n",
       "    <tr>\n",
       "      <th>11233</th>\n",
       "      <td>0.571429</td>\n",
       "      <td>0.321429</td>\n",
       "      <td>0.107143</td>\n",
       "    </tr>\n",
       "    <tr>\n",
       "      <th>11204</th>\n",
       "      <td>0.571429</td>\n",
       "      <td>0.321429</td>\n",
       "      <td>0.107143</td>\n",
       "    </tr>\n",
       "    <tr>\n",
       "      <th>11355</th>\n",
       "      <td>0.625000</td>\n",
       "      <td>0.277778</td>\n",
       "      <td>0.097222</td>\n",
       "    </tr>\n",
       "    <tr>\n",
       "      <th>10033</th>\n",
       "      <td>0.718750</td>\n",
       "      <td>0.187500</td>\n",
       "      <td>0.093750</td>\n",
       "    </tr>\n",
       "    <tr>\n",
       "      <th>11374</th>\n",
       "      <td>0.750000</td>\n",
       "      <td>0.156250</td>\n",
       "      <td>0.093750</td>\n",
       "    </tr>\n",
       "    <tr>\n",
       "      <th>11412</th>\n",
       "      <td>0.727273</td>\n",
       "      <td>0.181818</td>\n",
       "      <td>0.090909</td>\n",
       "    </tr>\n",
       "    <tr>\n",
       "      <th>11422</th>\n",
       "      <td>0.636364</td>\n",
       "      <td>0.272727</td>\n",
       "      <td>0.090909</td>\n",
       "    </tr>\n",
       "    <tr>\n",
       "      <th>11372</th>\n",
       "      <td>0.707865</td>\n",
       "      <td>0.202247</td>\n",
       "      <td>0.089888</td>\n",
       "    </tr>\n",
       "    <tr>\n",
       "      <th>...</th>\n",
       "      <td>...</td>\n",
       "      <td>...</td>\n",
       "      <td>...</td>\n",
       "    </tr>\n",
       "    <tr>\n",
       "      <th>11212</th>\n",
       "      <td>1.000000</td>\n",
       "      <td>0.000000</td>\n",
       "      <td>0.000000</td>\n",
       "    </tr>\n",
       "    <tr>\n",
       "      <th>11213</th>\n",
       "      <td>0.586207</td>\n",
       "      <td>0.413793</td>\n",
       "      <td>0.000000</td>\n",
       "    </tr>\n",
       "    <tr>\n",
       "      <th>11102</th>\n",
       "      <td>0.851064</td>\n",
       "      <td>0.148936</td>\n",
       "      <td>0.000000</td>\n",
       "    </tr>\n",
       "    <tr>\n",
       "      <th>11219</th>\n",
       "      <td>0.948718</td>\n",
       "      <td>0.051282</td>\n",
       "      <td>0.000000</td>\n",
       "    </tr>\n",
       "    <tr>\n",
       "      <th>11040</th>\n",
       "      <td>0.750000</td>\n",
       "      <td>0.250000</td>\n",
       "      <td>0.000000</td>\n",
       "    </tr>\n",
       "    <tr>\n",
       "      <th>11001</th>\n",
       "      <td>1.000000</td>\n",
       "      <td>0.000000</td>\n",
       "      <td>0.000000</td>\n",
       "    </tr>\n",
       "    <tr>\n",
       "      <th>10473</th>\n",
       "      <td>0.833333</td>\n",
       "      <td>0.166667</td>\n",
       "      <td>0.000000</td>\n",
       "    </tr>\n",
       "    <tr>\n",
       "      <th>10467</th>\n",
       "      <td>0.800000</td>\n",
       "      <td>0.200000</td>\n",
       "      <td>0.000000</td>\n",
       "    </tr>\n",
       "    <tr>\n",
       "      <th>10466</th>\n",
       "      <td>0.800000</td>\n",
       "      <td>0.200000</td>\n",
       "      <td>0.000000</td>\n",
       "    </tr>\n",
       "    <tr>\n",
       "      <th>10465</th>\n",
       "      <td>0.833333</td>\n",
       "      <td>0.166667</td>\n",
       "      <td>0.000000</td>\n",
       "    </tr>\n",
       "    <tr>\n",
       "      <th>10464</th>\n",
       "      <td>0.869565</td>\n",
       "      <td>0.130435</td>\n",
       "      <td>0.000000</td>\n",
       "    </tr>\n",
       "    <tr>\n",
       "      <th>10457</th>\n",
       "      <td>0.866667</td>\n",
       "      <td>0.133333</td>\n",
       "      <td>0.000000</td>\n",
       "    </tr>\n",
       "    <tr>\n",
       "      <th>10456</th>\n",
       "      <td>1.000000</td>\n",
       "      <td>0.000000</td>\n",
       "      <td>0.000000</td>\n",
       "    </tr>\n",
       "    <tr>\n",
       "      <th>11239</th>\n",
       "      <td>0.750000</td>\n",
       "      <td>0.250000</td>\n",
       "      <td>0.000000</td>\n",
       "    </tr>\n",
       "    <tr>\n",
       "      <th>10453</th>\n",
       "      <td>0.545455</td>\n",
       "      <td>0.454545</td>\n",
       "      <td>0.000000</td>\n",
       "    </tr>\n",
       "    <tr>\n",
       "      <th>10317</th>\n",
       "      <td>1.000000</td>\n",
       "      <td>0.000000</td>\n",
       "      <td>0.000000</td>\n",
       "    </tr>\n",
       "    <tr>\n",
       "      <th>10311</th>\n",
       "      <td>1.000000</td>\n",
       "      <td>0.000000</td>\n",
       "      <td>0.000000</td>\n",
       "    </tr>\n",
       "    <tr>\n",
       "      <th>10310</th>\n",
       "      <td>0.952381</td>\n",
       "      <td>0.047619</td>\n",
       "      <td>0.000000</td>\n",
       "    </tr>\n",
       "    <tr>\n",
       "      <th>10307</th>\n",
       "      <td>1.000000</td>\n",
       "      <td>0.000000</td>\n",
       "      <td>0.000000</td>\n",
       "    </tr>\n",
       "    <tr>\n",
       "      <th>10282</th>\n",
       "      <td>1.000000</td>\n",
       "      <td>0.000000</td>\n",
       "      <td>0.000000</td>\n",
       "    </tr>\n",
       "    <tr>\n",
       "      <th>11363</th>\n",
       "      <td>0.888889</td>\n",
       "      <td>0.111111</td>\n",
       "      <td>0.000000</td>\n",
       "    </tr>\n",
       "    <tr>\n",
       "      <th>11364</th>\n",
       "      <td>0.900000</td>\n",
       "      <td>0.100000</td>\n",
       "      <td>0.000000</td>\n",
       "    </tr>\n",
       "    <tr>\n",
       "      <th>11109</th>\n",
       "      <td>1.000000</td>\n",
       "      <td>0.000000</td>\n",
       "      <td>0.000000</td>\n",
       "    </tr>\n",
       "    <tr>\n",
       "      <th>10281</th>\n",
       "      <td>1.000000</td>\n",
       "      <td>0.000000</td>\n",
       "      <td>0.000000</td>\n",
       "    </tr>\n",
       "    <tr>\n",
       "      <th>10280</th>\n",
       "      <td>1.000000</td>\n",
       "      <td>0.000000</td>\n",
       "      <td>0.000000</td>\n",
       "    </tr>\n",
       "    <tr>\n",
       "      <th>11369</th>\n",
       "      <td>0.878788</td>\n",
       "      <td>0.121212</td>\n",
       "      <td>0.000000</td>\n",
       "    </tr>\n",
       "    <tr>\n",
       "      <th>10176</th>\n",
       "      <td>1.000000</td>\n",
       "      <td>0.000000</td>\n",
       "      <td>0.000000</td>\n",
       "    </tr>\n",
       "    <tr>\n",
       "      <th>11371</th>\n",
       "      <td>1.000000</td>\n",
       "      <td>0.000000</td>\n",
       "      <td>0.000000</td>\n",
       "    </tr>\n",
       "    <tr>\n",
       "      <th>10175</th>\n",
       "      <td>1.000000</td>\n",
       "      <td>0.000000</td>\n",
       "      <td>0.000000</td>\n",
       "    </tr>\n",
       "    <tr>\n",
       "      <th>11697</th>\n",
       "      <td>1.000000</td>\n",
       "      <td>0.000000</td>\n",
       "      <td>0.000000</td>\n",
       "    </tr>\n",
       "  </tbody>\n",
       "</table>\n",
       "<p>202 rows × 3 columns</p>\n",
       "</div>"
      ],
      "text/plain": [
       "GRADE           A         B         C\n",
       "ZIPCODE                              \n",
       "11242    0.666667  0.000000  0.333333\n",
       "10037    0.375000  0.312500  0.312500\n",
       "11693    0.588235  0.117647  0.294118\n",
       "11203    0.548387  0.225806  0.225806\n",
       "10034    0.750000  0.041667  0.208333\n",
       "10474    0.600000  0.200000  0.200000\n",
       "10104    0.800000  0.000000  0.200000\n",
       "11236    0.555556  0.259259  0.185185\n",
       "11228    0.710526  0.105263  0.184211\n",
       "10308    0.705882  0.117647  0.176471\n",
       "10459    0.833333  0.000000  0.166667\n",
       "10460    0.692308  0.153846  0.153846\n",
       "11428    0.700000  0.150000  0.150000\n",
       "10040    0.666667  0.185185  0.148148\n",
       "11411    0.714286  0.142857  0.142857\n",
       "10304    0.714286  0.142857  0.142857\n",
       "11417    0.568182  0.295455  0.136364\n",
       "11435    0.780000  0.100000  0.120000\n",
       "10470    0.647059  0.235294  0.117647\n",
       "11426    0.615385  0.269231  0.115385\n",
       "10020    0.846154  0.038462  0.115385\n",
       "10475    0.678571  0.214286  0.107143\n",
       "11233    0.571429  0.321429  0.107143\n",
       "11204    0.571429  0.321429  0.107143\n",
       "11355    0.625000  0.277778  0.097222\n",
       "10033    0.718750  0.187500  0.093750\n",
       "11374    0.750000  0.156250  0.093750\n",
       "11412    0.727273  0.181818  0.090909\n",
       "11422    0.636364  0.272727  0.090909\n",
       "11372    0.707865  0.202247  0.089888\n",
       "...           ...       ...       ...\n",
       "11212    1.000000  0.000000  0.000000\n",
       "11213    0.586207  0.413793  0.000000\n",
       "11102    0.851064  0.148936  0.000000\n",
       "11219    0.948718  0.051282  0.000000\n",
       "11040    0.750000  0.250000  0.000000\n",
       "11001    1.000000  0.000000  0.000000\n",
       "10473    0.833333  0.166667  0.000000\n",
       "10467    0.800000  0.200000  0.000000\n",
       "10466    0.800000  0.200000  0.000000\n",
       "10465    0.833333  0.166667  0.000000\n",
       "10464    0.869565  0.130435  0.000000\n",
       "10457    0.866667  0.133333  0.000000\n",
       "10456    1.000000  0.000000  0.000000\n",
       "11239    0.750000  0.250000  0.000000\n",
       "10453    0.545455  0.454545  0.000000\n",
       "10317    1.000000  0.000000  0.000000\n",
       "10311    1.000000  0.000000  0.000000\n",
       "10310    0.952381  0.047619  0.000000\n",
       "10307    1.000000  0.000000  0.000000\n",
       "10282    1.000000  0.000000  0.000000\n",
       "11363    0.888889  0.111111  0.000000\n",
       "11364    0.900000  0.100000  0.000000\n",
       "11109    1.000000  0.000000  0.000000\n",
       "10281    1.000000  0.000000  0.000000\n",
       "10280    1.000000  0.000000  0.000000\n",
       "11369    0.878788  0.121212  0.000000\n",
       "10176    1.000000  0.000000  0.000000\n",
       "11371    1.000000  0.000000  0.000000\n",
       "10175    1.000000  0.000000  0.000000\n",
       "11697    1.000000  0.000000  0.000000\n",
       "\n",
       "[202 rows x 3 columns]"
      ]
     },
     "execution_count": 195,
     "metadata": {},
     "output_type": "execute_result"
    }
   ],
   "source": [
    "zipdf = pd.crosstab(dfclean['GRADE'], dfclean['ZIPCODE']).apply(lambda r: r/r.sum(), axis=0)\n",
    "\n",
    "ziprotate = zipdf.transpose()\n",
    "\n",
    "ziprotate.sort_values(by=['C'],ascending=False)"
   ]
  },
  {
   "cell_type": "markdown",
   "metadata": {},
   "source": [
    "...and the winners are *drumroll*\n",
    "\n",
    "Rank | Zipcode | Neighborhood, BORO | % C Restaurants\n",
    "---| ---| --- | ---\n",
    "1 | 11242 | Brooklyn Heights, BK | .333\n",
    "2 | 10037 | East Harlem, MAN | .313\n",
    "3 | 11693 | Far Rockaway, QNS | .294\n",
    "4 | 11203 | East Flatbush, BK |\t.225\n",
    "5 | 10034 | Inwood, MAN | .208\n",
    "6 | 10474 | Hunts Point, BX | .200\n",
    "7 | 10104 | 51st-52nd St btw 5th & 6th Ave, MAN | .200\n",
    "8 | 11236 | Canarsie, BK | .185\n",
    "9 | 11228 | Dyker Heights, BK | .184\n",
    "10| 10308 | Great Kills, SI | .176\n",
    "\n",
    "All 5 boroughs are on our top ten list. Conclusion? Nowhere is safe.\n",
    "\n",
    "I think we've done enough exploratory analysis, don't you? Let's get started on modeling our dataset. We have to manipulate our dataframe one more time to get it ready for modeling."
   ]
  },
  {
   "cell_type": "markdown",
   "metadata": {},
   "source": [
    "There are multiple categorical columns in our dataset. We need to decide if we want to use them or lose them\n",
    "\n",
    "- DBA: Lose it; restaurant name is irrelevant to us\n",
    "- BORO: Use it; we'll dummy encode them\n",
    "- CUISINE DESCRIPTION: Use it; although there are an insane number of cuisines, they do tell a story. We'll dummy encode\n",
    "- GRADE: Use it; this is going to be our target variable\n",
    "- CRITICAL FLAG: Lose it; despite what the name might suggest, this is not critical to our study\n",
    "\n",
    "Additional columns to drop:\n",
    "- ZIPCODE: Too much data here, I'd rather focus on borough than on each individual zip.\n",
    "- PHONE NUMBER: Was crucial in putting together our dataset, but doesn't serve any purpose now.\n",
    "- INSPECTION DATE: For this purpose, we are not interested in grades over time so all time series data can be removed.\n",
    "- GRADE DATE: (see above)\n",
    "- REVIEW COUNT: Since we removed all entries with fewer than 5 entries, we can consider each star rating to be significant. The review count is not necessary moving forward\n",
    "- SCORE: Although this is just a continuous version of our target variable, we'll drop it for the time being"
   ]
  },
  {
   "cell_type": "code",
   "execution_count": 209,
   "metadata": {
    "collapsed": false
   },
   "outputs": [
    {
     "data": {
      "text/plain": [
       "Index([u'DBA', u'BORO', u'ZIPCODE', u'PHONE', u'CUISINE DESCRIPTION',\n",
       "       u'INSPECTION DATE', u'CRITICAL FLAG', u'SCORE', u'GRADE', u'GRADE DATE',\n",
       "       ...\n",
       "       u'cuisine_Vegetarian', u'cuisine_Vietnamese/Cambodian/Malaysia',\n",
       "       u'BRONX', u'BROOKLYN', u'MANHATTAN', u'QUEENS', u'STATEN ISLAND', u'A',\n",
       "       u'B', u'C'],\n",
       "      dtype='object', length=102)"
      ]
     },
     "execution_count": 209,
     "metadata": {},
     "output_type": "execute_result"
    }
   ],
   "source": [
    "cuisine = pd.get_dummies(dfclean[\"CUISINE DESCRIPTION\"])\n",
    "cuisine.columns = ['cuisine_' + str(i) for i in cuisine.columns]\n",
    "\n",
    "grade = pd.get_dummies(dfclean[\"GRADE\"])\n",
    "\n",
    "boro = pd.get_dummies(dfclean[\"BORO\"])\n",
    "\n",
    "df = pd.concat([dfclean,cuisine, boro, grade], axis=1)\n",
    "\n",
    "df.columns"
   ]
  },
  {
   "cell_type": "code",
   "execution_count": 213,
   "metadata": {
    "collapsed": false
   },
   "outputs": [
    {
     "name": "stdout",
     "output_type": "stream",
     "text": [
      "COLUMNS: Star_Rating cuisine_Afghan cuisine_African cuisine_American cuisine_Armenian cuisine_Asian cuisine_Australian cuisine_Bagels/Pretzels cuisine_Bakery cuisine_Bangladeshi cuisine_Barbecue cuisine_Bottled beverages, including water, sodas, juices, etc. cuisine_Brazilian cuisine_Caf_/Coffee/Tea cuisine_Cajun cuisine_Californian cuisine_Caribbean cuisine_Chicken cuisine_Chilean cuisine_Chinese cuisine_Chinese/Cuban cuisine_Chinese/Japanese cuisine_Continental cuisine_Creole cuisine_Creole/Cajun cuisine_Czech cuisine_Delicatessen cuisine_Donuts cuisine_Eastern European cuisine_Egyptian cuisine_English cuisine_Ethiopian cuisine_Filipino cuisine_French cuisine_Fruits/Vegetables cuisine_German cuisine_Greek cuisine_Hamburgers cuisine_Hotdogs cuisine_Hotdogs/Pretzels cuisine_Ice Cream, Gelato, Yogurt, Ices cuisine_Indian cuisine_Indonesian cuisine_Irish cuisine_Italian cuisine_Japanese cuisine_Jewish/Kosher cuisine_Juice, Smoothies, Fruit Salads cuisine_Korean cuisine_Latin (Cuban, Dominican, Puerto Rican, South & Central American) cuisine_Mediterranean cuisine_Mexican cuisine_Middle Eastern cuisine_Moroccan cuisine_Nuts/Confectionary cuisine_Other cuisine_Pakistani cuisine_Pancakes/Waffles cuisine_Peruvian cuisine_Pizza cuisine_Pizza/Italian cuisine_Polish cuisine_Polynesian cuisine_Portuguese cuisine_Russian cuisine_Salads cuisine_Sandwiches cuisine_Sandwiches/Salads/Mixed Buffet cuisine_Scandinavian cuisine_Seafood cuisine_Soul Food cuisine_Soups cuisine_Soups & Sandwiches cuisine_Southwestern cuisine_Spanish cuisine_Steak cuisine_Tapas cuisine_Tex-Mex cuisine_Thai cuisine_Turkish cuisine_Vegetarian cuisine_Vietnamese/Cambodian/Malaysia BRONX BROOKLYN MANHATTAN QUEENS\n"
     ]
    },
    {
     "data": {
      "text/plain": [
       "array(['Star_Rating', 'cuisine_Afghan', 'cuisine_African',\n",
       "       'cuisine_American', 'cuisine_Armenian', 'cuisine_Asian',\n",
       "       'cuisine_Australian', 'cuisine_Bagels/Pretzels', 'cuisine_Bakery',\n",
       "       'cuisine_Bangladeshi', 'cuisine_Barbecue',\n",
       "       'cuisine_Bottled beverages, including water, sodas, juices, etc.',\n",
       "       'cuisine_Brazilian', 'cuisine_Caf_/Coffee/Tea', 'cuisine_Cajun',\n",
       "       'cuisine_Californian', 'cuisine_Caribbean', 'cuisine_Chicken',\n",
       "       'cuisine_Chilean', 'cuisine_Chinese', 'cuisine_Chinese/Cuban',\n",
       "       'cuisine_Chinese/Japanese', 'cuisine_Continental', 'cuisine_Creole',\n",
       "       'cuisine_Creole/Cajun', 'cuisine_Czech', 'cuisine_Delicatessen',\n",
       "       'cuisine_Donuts', 'cuisine_Eastern European', 'cuisine_Egyptian',\n",
       "       'cuisine_English', 'cuisine_Ethiopian', 'cuisine_Filipino',\n",
       "       'cuisine_French', 'cuisine_Fruits/Vegetables', 'cuisine_German',\n",
       "       'cuisine_Greek', 'cuisine_Hamburgers', 'cuisine_Hotdogs',\n",
       "       'cuisine_Hotdogs/Pretzels',\n",
       "       'cuisine_Ice Cream, Gelato, Yogurt, Ices', 'cuisine_Indian',\n",
       "       'cuisine_Indonesian', 'cuisine_Irish', 'cuisine_Italian',\n",
       "       'cuisine_Japanese', 'cuisine_Jewish/Kosher',\n",
       "       'cuisine_Juice, Smoothies, Fruit Salads', 'cuisine_Korean',\n",
       "       'cuisine_Latin (Cuban, Dominican, Puerto Rican, South & Central American)',\n",
       "       'cuisine_Mediterranean', 'cuisine_Mexican',\n",
       "       'cuisine_Middle Eastern', 'cuisine_Moroccan',\n",
       "       'cuisine_Nuts/Confectionary', 'cuisine_Other', 'cuisine_Pakistani',\n",
       "       'cuisine_Pancakes/Waffles', 'cuisine_Peruvian', 'cuisine_Pizza',\n",
       "       'cuisine_Pizza/Italian', 'cuisine_Polish', 'cuisine_Polynesian',\n",
       "       'cuisine_Portuguese', 'cuisine_Russian', 'cuisine_Salads',\n",
       "       'cuisine_Sandwiches', 'cuisine_Sandwiches/Salads/Mixed Buffet',\n",
       "       'cuisine_Scandinavian', 'cuisine_Seafood', 'cuisine_Soul Food',\n",
       "       'cuisine_Soups', 'cuisine_Soups & Sandwiches',\n",
       "       'cuisine_Southwestern', 'cuisine_Spanish', 'cuisine_Steak',\n",
       "       'cuisine_Tapas', 'cuisine_Tex-Mex', 'cuisine_Thai',\n",
       "       'cuisine_Turkish', 'cuisine_Vegetarian',\n",
       "       'cuisine_Vietnamese/Cambodian/Malaysia', 'BRONX', 'BROOKLYN',\n",
       "       'MANHATTAN', 'QUEENS'], dtype=object)"
      ]
     },
     "execution_count": 213,
     "metadata": {},
     "output_type": "execute_result"
    }
   ],
   "source": [
    "cols_to_drop = [\n",
    "    'BORO', \n",
    "    'CUISINE DESCRIPTION', \n",
    "    'ZIPCODE', \n",
    "    'PHONE', \n",
    "    'DBA', \n",
    "    'INSPECTION DATE', \n",
    "    'CRITICAL FLAG', \n",
    "    'GRADE', \n",
    "    'GRADE DATE', \n",
    "    'Review_Count', \n",
    "    'cuisine_Not Listed/Not Applicable', \n",
    "    'STATEN ISLAND',\n",
    "    'SCORE',\n",
    "    'A',\n",
    "    'B',\n",
    "    'C'\n",
    "    \n",
    "]\n",
    "\n",
    "X = df.drop(cols_to_drop, axis=1)\n",
    "y = df['GRADE']\n",
    "\n",
    "# We've only kept these columns\n",
    "print \"COLUMNS: \" + \" \".join(X.columns.values)\n",
    "\n",
    "# We dropped 'Staten Island' & 'Not Listed / Not Applicable' because we always drop one of our dummies.\n",
    "# We dropped 'Score' because it is our target variable, it shouldn't be in our X.\n",
    "X.columns.values"
   ]
  },
  {
   "cell_type": "code",
   "execution_count": 214,
   "metadata": {
    "collapsed": true
   },
   "outputs": [],
   "source": [
    "from sklearn.cross_validation import train_test_split\n",
    "from sklearn import feature_selection\n",
    "\n",
    "X_train, X_test, y_train, y_test = train_test_split(X, y, test_size=0.3, random_state=1)\n",
    "\n",
    "train = pd.DataFrame(data=X_train, columns=['Star_Rating', 'cuisine_Afghan', 'cuisine_African',\n",
    "       'cuisine_American', 'cuisine_Armenian', 'cuisine_Asian',\n",
    "       'cuisine_Australian', 'cuisine_Bagels/Pretzels', 'cuisine_Bakery',\n",
    "       'cuisine_Bangladeshi', 'cuisine_Barbecue',\n",
    "       'cuisine_Bottled beverages, including water, sodas, juices, etc.',\n",
    "       'cuisine_Brazilian', 'cuisine_Caf_/Coffee/Tea', 'cuisine_Cajun',\n",
    "       'cuisine_Californian', 'cuisine_Caribbean', 'cuisine_Chicken',\n",
    "       'cuisine_Chilean', 'cuisine_Chinese', 'cuisine_Chinese/Cuban',\n",
    "       'cuisine_Chinese/Japanese', 'cuisine_Continental', 'cuisine_Creole',\n",
    "       'cuisine_Creole/Cajun', 'cuisine_Czech', 'cuisine_Delicatessen',\n",
    "       'cuisine_Donuts', 'cuisine_Eastern European', 'cuisine_Egyptian',\n",
    "       'cuisine_English', 'cuisine_Ethiopian', 'cuisine_Filipino',\n",
    "       'cuisine_French', 'cuisine_Fruits/Vegetables', 'cuisine_German',\n",
    "       'cuisine_Greek', 'cuisine_Hamburgers', 'cuisine_Hotdogs',\n",
    "       'cuisine_Hotdogs/Pretzels',\n",
    "       'cuisine_Ice Cream, Gelato, Yogurt, Ices', 'cuisine_Indian',\n",
    "       'cuisine_Indonesian', 'cuisine_Irish', 'cuisine_Italian',\n",
    "       'cuisine_Japanese', 'cuisine_Jewish/Kosher',\n",
    "       'cuisine_Juice, Smoothies, Fruit Salads', 'cuisine_Korean',\n",
    "       'cuisine_Latin (Cuban, Dominican, Puerto Rican, South & Central American)',\n",
    "       'cuisine_Mediterranean', 'cuisine_Mexican',\n",
    "       'cuisine_Middle Eastern', 'cuisine_Moroccan',\n",
    "       'cuisine_Nuts/Confectionary', 'cuisine_Other', 'cuisine_Pakistani',\n",
    "       'cuisine_Pancakes/Waffles', 'cuisine_Peruvian', 'cuisine_Pizza',\n",
    "       'cuisine_Pizza/Italian', 'cuisine_Polish', 'cuisine_Polynesian',\n",
    "       'cuisine_Portuguese', 'cuisine_Russian', 'cuisine_Salads',\n",
    "       'cuisine_Sandwiches', 'cuisine_Sandwiches/Salads/Mixed Buffet',\n",
    "       'cuisine_Scandinavian', 'cuisine_Seafood', 'cuisine_Soul Food',\n",
    "       'cuisine_Soups', 'cuisine_Soups & Sandwiches',\n",
    "       'cuisine_Southwestern', 'cuisine_Spanish', 'cuisine_Steak',\n",
    "       'cuisine_Tapas', 'cuisine_Tex-Mex', 'cuisine_Thai',\n",
    "       'cuisine_Turkish', 'cuisine_Vegetarian',\n",
    "       'cuisine_Vietnamese/Cambodian/Malaysia', 'BRONX', 'BROOKLYN',\n",
    "       'MANHATTAN', 'QUEENS'])\n",
    "train['GRADE'] = y_train\n",
    "\n",
    "test = pd.DataFrame(data=X_test, columns=['Star_Rating', 'cuisine_Afghan', 'cuisine_African',\n",
    "       'cuisine_American', 'cuisine_Armenian', 'cuisine_Asian',\n",
    "       'cuisine_Australian', 'cuisine_Bagels/Pretzels', 'cuisine_Bakery',\n",
    "       'cuisine_Bangladeshi', 'cuisine_Barbecue',\n",
    "       'cuisine_Bottled beverages, including water, sodas, juices, etc.',\n",
    "       'cuisine_Brazilian', 'cuisine_Caf_/Coffee/Tea', 'cuisine_Cajun',\n",
    "       'cuisine_Californian', 'cuisine_Caribbean', 'cuisine_Chicken',\n",
    "       'cuisine_Chilean', 'cuisine_Chinese', 'cuisine_Chinese/Cuban',\n",
    "       'cuisine_Chinese/Japanese', 'cuisine_Continental', 'cuisine_Creole',\n",
    "       'cuisine_Creole/Cajun', 'cuisine_Czech', 'cuisine_Delicatessen',\n",
    "       'cuisine_Donuts', 'cuisine_Eastern European', 'cuisine_Egyptian',\n",
    "       'cuisine_English', 'cuisine_Ethiopian', 'cuisine_Filipino',\n",
    "       'cuisine_French', 'cuisine_Fruits/Vegetables', 'cuisine_German',\n",
    "       'cuisine_Greek', 'cuisine_Hamburgers', 'cuisine_Hotdogs',\n",
    "       'cuisine_Hotdogs/Pretzels',\n",
    "       'cuisine_Ice Cream, Gelato, Yogurt, Ices', 'cuisine_Indian',\n",
    "       'cuisine_Indonesian', 'cuisine_Irish', 'cuisine_Italian',\n",
    "       'cuisine_Japanese', 'cuisine_Jewish/Kosher',\n",
    "       'cuisine_Juice, Smoothies, Fruit Salads', 'cuisine_Korean',\n",
    "       'cuisine_Latin (Cuban, Dominican, Puerto Rican, South & Central American)',\n",
    "       'cuisine_Mediterranean', 'cuisine_Mexican',\n",
    "       'cuisine_Middle Eastern', 'cuisine_Moroccan',\n",
    "       'cuisine_Nuts/Confectionary', 'cuisine_Other', 'cuisine_Pakistani',\n",
    "       'cuisine_Pancakes/Waffles', 'cuisine_Peruvian', 'cuisine_Pizza',\n",
    "       'cuisine_Pizza/Italian', 'cuisine_Polish', 'cuisine_Polynesian',\n",
    "       'cuisine_Portuguese', 'cuisine_Russian', 'cuisine_Salads',\n",
    "       'cuisine_Sandwiches', 'cuisine_Sandwiches/Salads/Mixed Buffet',\n",
    "       'cuisine_Scandinavian', 'cuisine_Seafood', 'cuisine_Soul Food',\n",
    "       'cuisine_Soups', 'cuisine_Soups & Sandwiches',\n",
    "       'cuisine_Southwestern', 'cuisine_Spanish', 'cuisine_Steak',\n",
    "       'cuisine_Tapas', 'cuisine_Tex-Mex', 'cuisine_Thai',\n",
    "       'cuisine_Turkish', 'cuisine_Vegetarian',\n",
    "       'cuisine_Vietnamese/Cambodian/Malaysia', 'BRONX', 'BROOKLYN',\n",
    "       'MANHATTAN', 'QUEENS'])\n",
    "test['GRADE'] = y_test"
   ]
  },
  {
   "cell_type": "markdown",
   "metadata": {},
   "source": [
    "Since my target variable is not binary (A, B, or C), I will first try to model this dataset using basic classification techniques. First I will try KNN (and apply grid search to find the best value of K), then I will try my luck with decision trees and random forests.\n",
    "\n",
    "If I'm feeling spicy, I can turn this into three different logisitic regressions using my dummy encoded grade columns (is A? is B? or is C?), but hopefully it doesn't come to that."
   ]
  },
  {
   "cell_type": "code",
   "execution_count": 226,
   "metadata": {
    "collapsed": false
   },
   "outputs": [
    {
     "name": "stdout",
     "output_type": "stream",
     "text": [
      "Mean Score 0.765825136106\n"
     ]
    }
   ],
   "source": [
    "from sklearn.neighbors import KNeighborsClassifier\n",
    "from sklearn.linear_model import LogisticRegression\n",
    "from sklearn.tree import DecisionTreeClassifier\n",
    "from sklearn.ensemble import RandomForestClassifier\n",
    "\n",
    "knnmodel = KNeighborsClassifier(n_neighbors=50)\n",
    "print \"Mean Score\", cross_val_score(knnmodel, X, y, scoring='accuracy').mean()"
   ]
  },
  {
   "cell_type": "code",
   "execution_count": 217,
   "metadata": {
    "collapsed": false
   },
   "outputs": [
    {
     "data": {
      "text/plain": [
       "GridSearchCV(cv=3, error_score='raise',\n",
       "       estimator=KNeighborsClassifier(algorithm='auto', leaf_size=30, metric='minkowski',\n",
       "           metric_params=None, n_jobs=1, n_neighbors=5, p=2,\n",
       "           weights='uniform'),\n",
       "       fit_params={}, iid=True, n_jobs=1,\n",
       "       param_grid=[{'n_neighbors': [3, 4, 5, 6, 7, 8, 9, 10, 11, 12, 13, 14, 15, 16, 17, 18, 19, 20, 21, 22, 23, 24, 25, 26, 27, 28, 29, 30, 31, 32, 33, 34, 35, 36, 37, 38, 39, 40, 41, 42, 43, 44, 45, 46, 47, 48, 49, 50, 51, 52, 53, 54, 55, 56, 57, 58, 59, 60, 61, 62, 63, 64, 65, 66, 67, 68, 69], 'weights': ['uniform', 'distance']}],\n",
       "       pre_dispatch='2*n_jobs', refit=True, scoring=None, verbose=0)"
      ]
     },
     "execution_count": 217,
     "metadata": {},
     "output_type": "execute_result"
    }
   ],
   "source": [
    "from sklearn.grid_search import GridSearchCV\n",
    "from sklearn.metrics import classification_report\n",
    "\n",
    "# We'll try finding the best value of k, and weights by trying all possible pairs\n",
    "parameter_grid = [\n",
    "  {'n_neighbors': range(3, 70), 'weights': ['uniform', 'distance']}\n",
    " ]\n",
    "\n",
    "clf = GridSearchCV(KNeighborsClassifier(), parameter_grid, cv=3)\n",
    "clf.fit(X_train, y_train)"
   ]
  },
  {
   "cell_type": "code",
   "execution_count": 218,
   "metadata": {
    "collapsed": false
   },
   "outputs": [
    {
     "name": "stdout",
     "output_type": "stream",
     "text": [
      "\n",
      "GRID SEARCH RESULTS:\n",
      "\tBest Parameters {'n_neighbors': 52, 'weights': 'uniform'}\n",
      "\tBest Score 0.76972709964\n"
     ]
    },
    {
     "data": {
      "text/html": [
       "<div>\n",
       "<table border=\"1\" class=\"dataframe\">\n",
       "  <thead>\n",
       "    <tr style=\"text-align: right;\">\n",
       "      <th></th>\n",
       "      <th>parameters</th>\n",
       "      <th>mean_validation_score</th>\n",
       "    </tr>\n",
       "  </thead>\n",
       "  <tbody>\n",
       "    <tr>\n",
       "      <th>0</th>\n",
       "      <td>{u'n_neighbors': 3, u'weights': u'uniform'}</td>\n",
       "      <td>0.718426</td>\n",
       "    </tr>\n",
       "    <tr>\n",
       "      <th>1</th>\n",
       "      <td>{u'n_neighbors': 3, u'weights': u'distance'}</td>\n",
       "      <td>0.716628</td>\n",
       "    </tr>\n",
       "    <tr>\n",
       "      <th>2</th>\n",
       "      <td>{u'n_neighbors': 4, u'weights': u'uniform'}</td>\n",
       "      <td>0.742754</td>\n",
       "    </tr>\n",
       "    <tr>\n",
       "      <th>3</th>\n",
       "      <td>{u'n_neighbors': 4, u'weights': u'distance'}</td>\n",
       "      <td>0.738841</td>\n",
       "    </tr>\n",
       "    <tr>\n",
       "      <th>4</th>\n",
       "      <td>{u'n_neighbors': 5, u'weights': u'uniform'}</td>\n",
       "      <td>0.736937</td>\n",
       "    </tr>\n",
       "  </tbody>\n",
       "</table>\n",
       "</div>"
      ],
      "text/plain": [
       "                                     parameters  mean_validation_score\n",
       "0   {u'n_neighbors': 3, u'weights': u'uniform'}               0.718426\n",
       "1  {u'n_neighbors': 3, u'weights': u'distance'}               0.716628\n",
       "2   {u'n_neighbors': 4, u'weights': u'uniform'}               0.742754\n",
       "3  {u'n_neighbors': 4, u'weights': u'distance'}               0.738841\n",
       "4   {u'n_neighbors': 5, u'weights': u'uniform'}               0.736937"
      ]
     },
     "execution_count": 218,
     "metadata": {},
     "output_type": "execute_result"
    }
   ],
   "source": [
    "print\n",
    "print \"GRID SEARCH RESULTS:\"\n",
    "print \"\\tBest Parameters\", clf.best_params_\n",
    "print \"\\tBest Score\", clf.best_score_\n",
    "\n",
    "# A list of all scores are stored in clf.grid_scores_\n",
    "pd.DataFrame(clf.grid_scores_).drop('cv_validation_scores', axis=1).head()"
   ]
  },
  {
   "cell_type": "markdown",
   "metadata": {},
   "source": [
    "It looks like our first attempt at KNN (.7658) was pretty damn close to the optimal result (.7697.) I should probably chalk this up to luck considering my choice of K value was random, but just let me feel good about myself and let me think this was all skill, OK? "
   ]
  },
  {
   "cell_type": "code",
   "execution_count": 225,
   "metadata": {
    "collapsed": false
   },
   "outputs": [
    {
     "name": "stdout",
     "output_type": "stream",
     "text": [
      "Mean Score 0.765825136106\n"
     ]
    }
   ],
   "source": [
    "knnmodel = KNeighborsClassifier(n_neighbors=52, weights='uniform')\n",
    "print \"Mean Score\", cross_val_score(knnmodel, X, y, scoring='accuracy').mean()"
   ]
  },
  {
   "cell_type": "markdown",
   "metadata": {},
   "source": [
    "I'm not sure why my mean score did not change after I updated the neighbors and weights from the grid search. But, since my original result was so close to the optimal one, I'll just move on to another modeling technique.\n",
    "\n",
    "Next up: Decision Tree"
   ]
  },
  {
   "cell_type": "code",
   "execution_count": 227,
   "metadata": {
    "collapsed": false
   },
   "outputs": [
    {
     "data": {
      "text/plain": [
       "DecisionTreeClassifier(class_weight=None, criterion='gini', max_depth=None,\n",
       "            max_features=None, max_leaf_nodes=None, min_samples_leaf=1,\n",
       "            min_samples_split=2, min_weight_fraction_leaf=0.0,\n",
       "            presort=False, random_state=None, splitter='best')"
      ]
     },
     "execution_count": 227,
     "metadata": {},
     "output_type": "execute_result"
    }
   ],
   "source": [
    "dcmodel = DecisionTreeClassifier()\n",
    "dcmodel.fit(X_train,y_train)"
   ]
  },
  {
   "cell_type": "code",
   "execution_count": 228,
   "metadata": {
    "collapsed": true
   },
   "outputs": [],
   "source": [
    "ypredict = dcmodel.predict(X_test)"
   ]
  },
  {
   "cell_type": "code",
   "execution_count": 229,
   "metadata": {
    "collapsed": false
   },
   "outputs": [
    {
     "data": {
      "text/plain": [
       "0.74488033555391064"
      ]
     },
     "execution_count": 229,
     "metadata": {},
     "output_type": "execute_result"
    }
   ],
   "source": [
    "from sklearn import metrics\n",
    "\n",
    "metrics.accuracy_score(y_test, ypredict)"
   ]
  },
  {
   "cell_type": "code",
   "execution_count": 230,
   "metadata": {
    "collapsed": false
   },
   "outputs": [
    {
     "data": {
      "text/plain": [
       "RandomForestClassifier(bootstrap=True, class_weight=None, criterion='gini',\n",
       "            max_depth=None, max_features='auto', max_leaf_nodes=None,\n",
       "            min_samples_leaf=1, min_samples_split=2,\n",
       "            min_weight_fraction_leaf=0.0, n_estimators=10, n_jobs=1,\n",
       "            oob_score=False, random_state=None, verbose=0,\n",
       "            warm_start=False)"
      ]
     },
     "execution_count": 230,
     "metadata": {},
     "output_type": "execute_result"
    }
   ],
   "source": [
    "rfmodel = RandomForestClassifier()\n",
    "rfmodel.fit(X_train, y_train)"
   ]
  },
  {
   "cell_type": "code",
   "execution_count": 231,
   "metadata": {
    "collapsed": false
   },
   "outputs": [
    {
     "data": {
      "text/plain": [
       "0.74043918085368865"
      ]
     },
     "execution_count": 231,
     "metadata": {},
     "output_type": "execute_result"
    }
   ],
   "source": [
    "rfpredict = rfmodel.predict(X_test)\n",
    "\n",
    "metrics.accuracy_score(y_test, rfpredict)"
   ]
  },
  {
   "cell_type": "markdown",
   "metadata": {},
   "source": [
    "For those of you following along at home now, here's how our accuracy scores stack up:\n",
    "\n",
    "Model | Accuracy Score\n",
    "--- | ---\n",
    "KNN | 0.765825136106\n",
    "Decision Tree | 0.74488033555391064\n",
    "Random Forest | 0.74043918085368865\n",
    "\n",
    "Next up, we will try our luck with logistic regression."
   ]
  },
  {
   "cell_type": "code",
   "execution_count": 234,
   "metadata": {
    "collapsed": false
   },
   "outputs": [
    {
     "data": {
      "text/plain": [
       "Index([u'is_A', u'is_B', u'is_C'], dtype='object')"
      ]
     },
     "execution_count": 234,
     "metadata": {},
     "output_type": "execute_result"
    }
   ],
   "source": [
    "# We'll need to create dummies for y\n",
    "\n",
    "y_train2 = pd.get_dummies(y_train,prefix='is')\n",
    "y_test2 = pd.get_dummies(y_test,prefix='is')\n",
    "\n",
    "y_train2.columns"
   ]
  },
  {
   "cell_type": "code",
   "execution_count": 235,
   "metadata": {
    "collapsed": false
   },
   "outputs": [
    {
     "data": {
      "text/plain": [
       "0.75548976067110785"
      ]
     },
     "execution_count": 235,
     "metadata": {},
     "output_type": "execute_result"
    }
   ],
   "source": [
    "lrmodel = LogisticRegression()\n",
    "lrmodel.fit(X_train, y_train2.is_A)\n",
    "\n",
    "lrpredictA = lrmodel.predict(X_test)\n",
    "metrics.accuracy_score(y_test2.is_A, lrpredictA)"
   ]
  },
  {
   "cell_type": "code",
   "execution_count": 236,
   "metadata": {
    "collapsed": false
   },
   "outputs": [
    {
     "data": {
      "text/plain": [
       "0.80804342462373546"
      ]
     },
     "execution_count": 236,
     "metadata": {},
     "output_type": "execute_result"
    }
   ],
   "source": [
    "lrmodel.fit(X_train, y_train2.is_B)\n",
    "\n",
    "lrpredictB = lrmodel.predict(X_test)\n",
    "metrics.accuracy_score(y_test2.is_B, lrpredictB)"
   ]
  },
  {
   "cell_type": "code",
   "execution_count": 237,
   "metadata": {
    "collapsed": false
   },
   "outputs": [
    {
     "data": {
      "text/plain": [
       "0.94843325931408828"
      ]
     },
     "execution_count": 237,
     "metadata": {},
     "output_type": "execute_result"
    }
   ],
   "source": [
    "lrmodel.fit(X_train, y_train2.is_C)\n",
    "\n",
    "lrpredictC = lrmodel.predict(X_test)\n",
    "metrics.accuracy_score(y_test2.is_C, lrpredictC)"
   ]
  },
  {
   "cell_type": "code",
   "execution_count": 239,
   "metadata": {
    "collapsed": false
   },
   "outputs": [
    {
     "name": "stdout",
     "output_type": "stream",
     "text": [
      "4035.0\n"
     ]
    }
   ],
   "source": [
    "total_correct=(lrpredictA.sum()+lrpredictB.sum()+lrpredictC.sum())\n",
    "print total_correct"
   ]
  },
  {
   "cell_type": "code",
   "execution_count": 240,
   "metadata": {
    "collapsed": false
   },
   "outputs": [
    {
     "name": "stdout",
     "output_type": "stream",
     "text": [
      "4053.0\n"
     ]
    }
   ],
   "source": [
    "total_predict = (y_test2.is_A.sum()+y_test2.is_B.sum()+y_test2.is_C.sum())\n",
    "\n",
    "print total_predict\n"
   ]
  },
  {
   "cell_type": "code",
   "execution_count": 241,
   "metadata": {
    "collapsed": false
   },
   "outputs": [
    {
     "data": {
      "text/plain": [
       "0.99555884529977789"
      ]
     },
     "execution_count": 241,
     "metadata": {},
     "output_type": "execute_result"
    }
   ],
   "source": [
    "total_correct/total_predict"
   ]
  },
  {
   "cell_type": "markdown",
   "metadata": {},
   "source": [
    "We can see with this insanely high accuracy score for logistic regression, we probably overfitted.\n",
    "\n",
    "We can validate this by testing our model on our train and test sets separately. We'd assume that it will perform very well on our train set, but very poorly on our test set.\n",
    "\n",
    "We could get around this by doing a more robust train split, by employing K-fold cross validation."
   ]
  },
  {
   "cell_type": "markdown",
   "metadata": {},
   "source": [
    "There are a few fairly simple ways we could improve our score:\n",
    "- Increase the size of the data set: We only used about 20% of the dataset\n",
    "- Replace NaN values instead of dropping them: We could have filled NaN values in with column averages or done additional research to fill additional values in by hand (for example, we could replace the \"Missing\" boroughs by searching for addresses and zipcodes)\n",
    "- Feature selection: We could choose different combinations of predictors to focus on.\n",
    "\n",
    "\n",
    "Obviously a lot more goes into restaurant cleanliness than the features I've described here. There are ways we could have made our dataset more robust and been more representative of the real world:\n",
    "- Additional Yelp data: The dollar rating from Yelp could be a very useful score. We'd expect \"three dollar sign\" restaurants to be fine dining \"fancy\" restaurants that *should* have higher cleanliness standards\n",
    "- Additional geographic data: We could research external issues that prevent a restaurant from passing health checks (a subway running under the restaurant, proximity to a waste facility, etc)\n",
    "- Owner / proprietor: It's likely that restaurants in the same restaurant group / chain will have similar codes of cleanliness so we should expect grades to be fairly consistent (see examples below)\n",
    "- Social factors: If employees are treated well they are more likely to care about their place of employment and put their best efforts towards keeping it clean.\n",
    "- Hype / press: Restaurants that are often in the public spot light might be looked on with additional scrutiny. \n",
    "- Etc.: Like any real world dataset, there are infinite numbers of datapoints that could be added. I think we have shown that Yelp star ratings and DOH restaurant grades are not as highly correlated as one might have thought, but I'm sure there are other factors that would be better predictors.\n",
    "\n"
   ]
  },
  {
   "cell_type": "code",
   "execution_count": 282,
   "metadata": {
    "collapsed": false
   },
   "outputs": [
    {
     "data": {
      "text/plain": [
       "count    116.000000\n",
       "mean      12.043103\n",
       "std        6.652090\n",
       "min        2.000000\n",
       "25%        8.000000\n",
       "50%       11.000000\n",
       "75%       12.000000\n",
       "max       40.000000\n",
       "Name: SCORE, dtype: float64"
      ]
     },
     "execution_count": 282,
     "metadata": {},
     "output_type": "execute_result"
    }
   ],
   "source": [
    "dfMcD = df[df.DBA == \"MCDONALD'S\"]\n",
    "\n",
    "dfMcD.SCORE.describe()\n"
   ]
  },
  {
   "cell_type": "code",
   "execution_count": 317,
   "metadata": {
    "collapsed": false
   },
   "outputs": [
    {
     "data": {
      "text/plain": [
       "count    60.000000\n",
       "mean     15.516667\n",
       "std      11.050718\n",
       "min       2.000000\n",
       "25%       9.000000\n",
       "50%      12.000000\n",
       "75%      18.500000\n",
       "max      53.000000\n",
       "Name: SCORE, dtype: float64"
      ]
     },
     "execution_count": 317,
     "metadata": {},
     "output_type": "execute_result"
    }
   ],
   "source": [
    "dfDOM = df[df.DBA == \"DOMINO'S\"]\n",
    "\n",
    "dfDOM.SCORE.describe()"
   ]
  },
  {
   "cell_type": "code",
   "execution_count": 288,
   "metadata": {
    "collapsed": false
   },
   "outputs": [
    {
     "data": {
      "text/plain": [
       "count    135.000000\n",
       "mean       7.518519\n",
       "std        4.084649\n",
       "min        2.000000\n",
       "25%        4.000000\n",
       "50%        8.000000\n",
       "75%       11.000000\n",
       "max       27.000000\n",
       "Name: SCORE, dtype: float64"
      ]
     },
     "execution_count": 288,
     "metadata": {},
     "output_type": "execute_result"
    }
   ],
   "source": [
    "dfSB = df[df.DBA == \"STARBUCKS\"]\n",
    "\n",
    "dfSB.SCORE.describe()"
   ]
  },
  {
   "cell_type": "code",
   "execution_count": 316,
   "metadata": {
    "collapsed": false
   },
   "outputs": [
    {
     "data": {
      "text/plain": [
       "count    130.000000\n",
       "mean       9.446154\n",
       "std        4.003993\n",
       "min        2.000000\n",
       "25%        7.000000\n",
       "50%        9.500000\n",
       "75%       12.000000\n",
       "max       27.000000\n",
       "Name: SCORE, dtype: float64"
      ]
     },
     "execution_count": 316,
     "metadata": {},
     "output_type": "execute_result"
    }
   ],
   "source": [
    "dfDD = df[(df.DBA == \"DUNKIN' DONUTS\") | (df.DBA == \"DUNKIN' DONUTS, BASKIN ROBBINS\")]\n",
    "\n",
    "\n",
    "dfDD.SCORE.describe()"
   ]
  },
  {
   "cell_type": "code",
   "execution_count": 293,
   "metadata": {
    "collapsed": false
   },
   "outputs": [
    {
     "data": {
      "text/plain": [
       "count    55.000000\n",
       "mean     10.490909\n",
       "std       5.573990\n",
       "min       2.000000\n",
       "25%       7.000000\n",
       "50%      10.000000\n",
       "75%      12.500000\n",
       "max      32.000000\n",
       "Name: SCORE, dtype: float64"
      ]
     },
     "execution_count": 293,
     "metadata": {},
     "output_type": "execute_result"
    }
   ],
   "source": [
    "dfSW = df[df.DBA == \"SUBWAY\"]\n",
    "\n",
    "dfSW.SCORE.describe()"
   ]
  },
  {
   "cell_type": "code",
   "execution_count": 318,
   "metadata": {
    "collapsed": false
   },
   "outputs": [
    {
     "data": {
      "text/plain": [
       "count    35.000000\n",
       "mean     10.457143\n",
       "std       5.031330\n",
       "min       2.000000\n",
       "25%       7.000000\n",
       "50%      10.000000\n",
       "75%      12.500000\n",
       "max      27.000000\n",
       "Name: SCORE, dtype: float64"
      ]
     },
     "execution_count": 318,
     "metadata": {},
     "output_type": "execute_result"
    }
   ],
   "source": [
    "dfBK = df[df.DBA == \"BURGER KING\"]\n",
    "\n",
    "dfBK.SCORE.describe()"
   ]
  },
  {
   "cell_type": "code",
   "execution_count": 319,
   "metadata": {
    "collapsed": false
   },
   "outputs": [
    {
     "data": {
      "text/plain": [
       "count    35.000000\n",
       "mean     11.542857\n",
       "std       6.572415\n",
       "min       2.000000\n",
       "25%       8.000000\n",
       "50%      11.000000\n",
       "75%      12.000000\n",
       "max      33.000000\n",
       "Name: SCORE, dtype: float64"
      ]
     },
     "execution_count": 319,
     "metadata": {},
     "output_type": "execute_result"
    }
   ],
   "source": [
    "dfPop = df[df.DBA == \"POPEYES LOUISIANA KITCHEN\"]\n",
    "\n",
    "dfPop.SCORE.describe()"
   ]
  },
  {
   "cell_type": "code",
   "execution_count": 321,
   "metadata": {
    "collapsed": false
   },
   "outputs": [
    {
     "data": {
      "text/plain": [
       "count    63.000000\n",
       "mean     10.746032\n",
       "std       5.778068\n",
       "min       2.000000\n",
       "25%       7.000000\n",
       "50%      10.000000\n",
       "75%      12.000000\n",
       "max      34.000000\n",
       "Name: SCORE, dtype: float64"
      ]
     },
     "execution_count": 321,
     "metadata": {},
     "output_type": "execute_result"
    }
   ],
   "source": [
    "dfCMG = df[df.DBA == \"CHIPOTLE MEXICAN GRILL\"]\n",
    "\n",
    "dfCMG.SCORE.describe()"
   ]
  },
  {
   "cell_type": "code",
   "execution_count": 324,
   "metadata": {
    "collapsed": false
   },
   "outputs": [
    {
     "data": {
      "text/plain": [
       "count    22.000000\n",
       "mean     12.318182\n",
       "std       4.684182\n",
       "min       4.000000\n",
       "25%      10.000000\n",
       "50%      11.500000\n",
       "75%      13.000000\n",
       "max      24.000000\n",
       "Name: SCORE, dtype: float64"
      ]
     },
     "execution_count": 324,
     "metadata": {},
     "output_type": "execute_result"
    }
   ],
   "source": [
    "dfGK = df[df.DBA == \"GOLDEN KRUST CARIBBEAN BAKERY & GRILL\"]\n",
    "\n",
    "dfGK.SCORE.describe()"
   ]
  },
  {
   "cell_type": "code",
   "execution_count": 325,
   "metadata": {
    "collapsed": false
   },
   "outputs": [
    {
     "data": {
      "text/plain": [
       "count    29.000000\n",
       "mean     11.034483\n",
       "std       2.896830\n",
       "min       3.000000\n",
       "25%      10.000000\n",
       "50%      12.000000\n",
       "75%      12.000000\n",
       "max      19.000000\n",
       "Name: SCORE, dtype: float64"
      ]
     },
     "execution_count": 325,
     "metadata": {},
     "output_type": "execute_result"
    }
   ],
   "source": [
    "dfW = df[df.DBA == \"WENDY'S\"]\n",
    "\n",
    "dfW.SCORE.describe()"
   ]
  },
  {
   "cell_type": "code",
   "execution_count": 332,
   "metadata": {
    "collapsed": true
   },
   "outputs": [],
   "source": [
    "dfchain = pd.concat([\n",
    "        dfW.SCORE.describe(),\n",
    "        dfGK.SCORE.describe(),\n",
    "        dfCMG.SCORE.describe(),\n",
    "        dfPop.SCORE.describe(),\n",
    "        dfBK.SCORE.describe(),\n",
    "        dfSW.SCORE.describe(),\n",
    "        dfDD.SCORE.describe(),\n",
    "        dfSB.SCORE.describe(),\n",
    "        dfDOM.SCORE.describe(),\n",
    "        dfMcD.SCORE.describe()    \n",
    "    ], axis =1)"
   ]
  },
  {
   "cell_type": "code",
   "execution_count": 336,
   "metadata": {
    "collapsed": false
   },
   "outputs": [
    {
     "data": {
      "text/html": [
       "<div>\n",
       "<table border=\"1\" class=\"dataframe\">\n",
       "  <thead>\n",
       "    <tr style=\"text-align: right;\">\n",
       "      <th></th>\n",
       "      <th>count</th>\n",
       "      <th>mean</th>\n",
       "      <th>std</th>\n",
       "      <th>min</th>\n",
       "      <th>25%</th>\n",
       "      <th>50%</th>\n",
       "      <th>75%</th>\n",
       "      <th>max</th>\n",
       "    </tr>\n",
       "  </thead>\n",
       "  <tbody>\n",
       "    <tr>\n",
       "      <th>WENDY'S</th>\n",
       "      <td>29.0</td>\n",
       "      <td>11.034483</td>\n",
       "      <td>2.896830</td>\n",
       "      <td>3.0</td>\n",
       "      <td>10.0</td>\n",
       "      <td>12.0</td>\n",
       "      <td>12.0</td>\n",
       "      <td>19.0</td>\n",
       "    </tr>\n",
       "    <tr>\n",
       "      <th>GOLDEN KRUST</th>\n",
       "      <td>22.0</td>\n",
       "      <td>12.318182</td>\n",
       "      <td>4.684182</td>\n",
       "      <td>4.0</td>\n",
       "      <td>10.0</td>\n",
       "      <td>11.5</td>\n",
       "      <td>13.0</td>\n",
       "      <td>24.0</td>\n",
       "    </tr>\n",
       "    <tr>\n",
       "      <th>CHIPOTLE</th>\n",
       "      <td>63.0</td>\n",
       "      <td>10.746032</td>\n",
       "      <td>5.778068</td>\n",
       "      <td>2.0</td>\n",
       "      <td>7.0</td>\n",
       "      <td>10.0</td>\n",
       "      <td>12.0</td>\n",
       "      <td>34.0</td>\n",
       "    </tr>\n",
       "    <tr>\n",
       "      <th>POPEYES</th>\n",
       "      <td>35.0</td>\n",
       "      <td>11.542857</td>\n",
       "      <td>6.572415</td>\n",
       "      <td>2.0</td>\n",
       "      <td>8.0</td>\n",
       "      <td>11.0</td>\n",
       "      <td>12.0</td>\n",
       "      <td>33.0</td>\n",
       "    </tr>\n",
       "    <tr>\n",
       "      <th>BURGER KING</th>\n",
       "      <td>35.0</td>\n",
       "      <td>10.457143</td>\n",
       "      <td>5.031330</td>\n",
       "      <td>2.0</td>\n",
       "      <td>7.0</td>\n",
       "      <td>10.0</td>\n",
       "      <td>12.5</td>\n",
       "      <td>27.0</td>\n",
       "    </tr>\n",
       "    <tr>\n",
       "      <th>SUBWAY</th>\n",
       "      <td>55.0</td>\n",
       "      <td>10.490909</td>\n",
       "      <td>5.573990</td>\n",
       "      <td>2.0</td>\n",
       "      <td>7.0</td>\n",
       "      <td>10.0</td>\n",
       "      <td>12.5</td>\n",
       "      <td>32.0</td>\n",
       "    </tr>\n",
       "    <tr>\n",
       "      <th>DUNKIN' DONUTS</th>\n",
       "      <td>130.0</td>\n",
       "      <td>9.446154</td>\n",
       "      <td>4.003993</td>\n",
       "      <td>2.0</td>\n",
       "      <td>7.0</td>\n",
       "      <td>9.5</td>\n",
       "      <td>12.0</td>\n",
       "      <td>27.0</td>\n",
       "    </tr>\n",
       "    <tr>\n",
       "      <th>STARBUCKS</th>\n",
       "      <td>135.0</td>\n",
       "      <td>7.518519</td>\n",
       "      <td>4.084649</td>\n",
       "      <td>2.0</td>\n",
       "      <td>4.0</td>\n",
       "      <td>8.0</td>\n",
       "      <td>11.0</td>\n",
       "      <td>27.0</td>\n",
       "    </tr>\n",
       "    <tr>\n",
       "      <th>DOMINO'S</th>\n",
       "      <td>60.0</td>\n",
       "      <td>15.516667</td>\n",
       "      <td>11.050718</td>\n",
       "      <td>2.0</td>\n",
       "      <td>9.0</td>\n",
       "      <td>12.0</td>\n",
       "      <td>18.5</td>\n",
       "      <td>53.0</td>\n",
       "    </tr>\n",
       "    <tr>\n",
       "      <th>MCDONALD'S</th>\n",
       "      <td>116.0</td>\n",
       "      <td>12.043103</td>\n",
       "      <td>6.652090</td>\n",
       "      <td>2.0</td>\n",
       "      <td>8.0</td>\n",
       "      <td>11.0</td>\n",
       "      <td>12.0</td>\n",
       "      <td>40.0</td>\n",
       "    </tr>\n",
       "  </tbody>\n",
       "</table>\n",
       "</div>"
      ],
      "text/plain": [
       "                count       mean        std  min   25%   50%   75%   max\n",
       "WENDY'S          29.0  11.034483   2.896830  3.0  10.0  12.0  12.0  19.0\n",
       "GOLDEN KRUST     22.0  12.318182   4.684182  4.0  10.0  11.5  13.0  24.0\n",
       "CHIPOTLE         63.0  10.746032   5.778068  2.0   7.0  10.0  12.0  34.0\n",
       "POPEYES          35.0  11.542857   6.572415  2.0   8.0  11.0  12.0  33.0\n",
       "BURGER KING      35.0  10.457143   5.031330  2.0   7.0  10.0  12.5  27.0\n",
       "SUBWAY           55.0  10.490909   5.573990  2.0   7.0  10.0  12.5  32.0\n",
       "DUNKIN' DONUTS  130.0   9.446154   4.003993  2.0   7.0   9.5  12.0  27.0\n",
       "STARBUCKS       135.0   7.518519   4.084649  2.0   4.0   8.0  11.0  27.0\n",
       "DOMINO'S         60.0  15.516667  11.050718  2.0   9.0  12.0  18.5  53.0\n",
       "MCDONALD'S      116.0  12.043103   6.652090  2.0   8.0  11.0  12.0  40.0"
      ]
     },
     "execution_count": 336,
     "metadata": {},
     "output_type": "execute_result"
    }
   ],
   "source": [
    "dfchain.columns = [\n",
    "    \"WENDY'S\",\n",
    "    \"GOLDEN KRUST\",\n",
    "    \"CHIPOTLE\",\n",
    "    \"POPEYES\",\n",
    "    \"BURGER KING\",\n",
    "    \"SUBWAY\",\n",
    "    \"DUNKIN' DONUTS\",\n",
    "    \"STARBUCKS\",\n",
    "    \"DOMINO'S\",\n",
    "    \"MCDONALD'S\"\n",
    "]\n",
    "\n",
    "dfchain.transpose()\n",
    "\n",
    "\n"
   ]
  },
  {
   "cell_type": "markdown",
   "metadata": {},
   "source": [
    "The above chart breaks down statistics about the 10 largest chains in my dataset. \n",
    "\n",
    "*Note: The \"Dunkin' Donuts\" row contains entries for both \"Dunkin' Donuts\" & \"Dunkin' Donuts / Baskin Robbins\"*\n",
    "\n",
    "Only one chain has a mean rating below an A (Domino's has a mean rating of B.)\n",
    "\n",
    "Domino's also has the largest standard deviation of scores and wins the title of the chain restaurant with the highest score (53 points; keep in mind you just need 28 to get a C rating.)\n",
    "\n",
    "McDonald's, Subway, Popeyes, and Chipotle share Domino's honor of having at least one C-rated location.\n",
    "\n"
   ]
  },
  {
   "cell_type": "markdown",
   "metadata": {},
   "source": [
    "Additional modeling techniques:\n",
    "- Linear Regression: Since our \"Score\" column is just a continuous version of our \"Grade\" ( A < 14 , B = range(14,28), C >= 28), we could perform Linear Regression with Score as our target variable. \n",
    "\n",
    "\n"
   ]
  },
  {
   "cell_type": "code",
   "execution_count": 265,
   "metadata": {
    "collapsed": false
   },
   "outputs": [
    {
     "name": "stdout",
     "output_type": "stream",
     "text": [
      "P values: [  7.95559947e-12   5.86166301e-01   5.06577405e-02   9.01970007e-05\n",
      "   1.88817754e-01   1.13154672e-04   3.87373871e-01   6.15812709e-01\n",
      "   1.20428325e-01   9.16500384e-03   6.69283780e-02   3.76767016e-02\n",
      "   4.78295087e-01   1.28550046e-17   6.35503354e-01   5.06086495e-01\n",
      "   4.01488549e-01   3.29469682e-01   4.89155346e-02   1.39178213e-24\n",
      "   8.56857832e-01   6.35047772e-02   7.92927814e-01   8.42466633e-01\n",
      "   4.27469401e-01   2.38280145e-01   1.88583849e-02   2.46466710e-07\n",
      "   2.75090464e-01   2.20585049e-01   2.46436655e-01   3.04408470e-01\n",
      "   7.17849880e-02   3.72058733e-02   6.06975407e-01   8.42543325e-01\n",
      "   2.39913246e-01   1.03617464e-02   7.14201374e-01   2.53444763e-01\n",
      "   2.16970065e-06   2.43476171e-02   5.62587178e-01   7.51517899e-02\n",
      "   3.33634218e-02   1.30198488e-04   5.18824640e-01   3.06657609e-03\n",
      "   4.26902296e-08   4.81536415e-05   5.01717565e-02   1.08993187e-03\n",
      "   4.12795709e-02   4.59653604e-01   6.06975407e-01   1.30271700e-01\n",
      "   2.49740220e-02   7.14322498e-01   2.23232272e-02   1.94532457e-01\n",
      "   8.06575596e-02   8.97277165e-01   2.56276352e-01   5.04368895e-01\n",
      "   3.50496347e-01   3.14274563e-01   6.87165174e-05   8.08085286e-03\n",
      "   4.61416727e-01   3.46011018e-01   2.51850180e-01   1.92186276e-01\n",
      "   4.90488616e-02   5.32371394e-01   2.78607875e-02   7.00178349e-01\n",
      "   2.15859328e-01   1.43762457e-02   3.22082690e-02   3.00278645e-01\n",
      "   1.62983355e-01   2.49765889e-04   7.97084746e-01   1.89161500e-02\n",
      "   5.93890196e-01   7.49412445e-02]\n",
      "Coefficients: [ -8.71189714e-01   5.36331377e-01   5.86143825e+00   1.64708910e+00\n",
      "  -1.46680740e+00   4.15981521e+00   6.91596837e-01   1.70710267e+00\n",
      "   1.89448600e+00   7.01040414e+00  -1.96213541e-03  -1.00232295e+00\n",
      "   1.21864460e+00  -7.47979444e-01   8.39852998e-01  -2.81582508e+00\n",
      "   2.66328564e+00   1.18666578e+00   1.27485801e+01   4.29552157e+00\n",
      "   2.57740601e+00   4.29916336e+00   1.79977809e+00   1.89737326e+00\n",
      "  -3.45627031e+00  -5.87429003e+00   3.30735614e+00  -1.90561626e+00\n",
      "   3.62178515e+00  -1.29820208e+00  -5.20195456e-01   4.40158845e-01\n",
      "   5.39395910e+00   1.22511214e+00   5.61976978e+00   2.07758355e+00\n",
      "   1.42318961e+00   1.36190438e-01   1.33581373e+00  -1.58224838e+00\n",
      "  -1.14418770e+00   3.38147573e+00   3.21616581e-01   9.67846665e-01\n",
      "   1.69979111e+00   3.37105713e+00   1.79394681e+00  -3.24265872e-02\n",
      "   5.59723461e+00   3.64615392e+00   1.02909957e+00   3.31019293e+00\n",
      "   9.97688055e-01  -4.05271035e-01   4.74858007e+00  -2.46914002e-01\n",
      "   6.37932278e+00   2.65281568e+00   4.33272201e+00   1.65701044e+00\n",
      "   3.04954889e+00   2.56686911e+00   1.07485801e+01  -1.10087503e+00\n",
      "   1.48347669e+00   6.41532220e-01  -1.16488663e+00  -6.32701678e-01\n",
      "  -2.72888313e-01   1.44870117e+00   3.60549760e+00  -4.81582508e+00\n",
      "  -1.05973589e+00  -3.20170229e-01   3.44409023e+00   1.81559989e+00\n",
      "   3.03351842e-01  -2.21770845e-02   3.16565707e+00   1.42625098e+00\n",
      "   3.70388797e+00   5.63379512e+00  -2.41281123e-01  -3.38056725e-01\n",
      "   1.67883459e-01  -1.91671311e-01]\n",
      "y-intercept: 14.1327004724\n",
      "R-squared: 0.0412931869176\n"
     ]
    }
   ],
   "source": [
    "X = df.drop(cols_to_drop, axis=1)\n",
    "y = df['SCORE']\n",
    "\n",
    "from sklearn import feature_selection, linear_model, metrics\n",
    "\n",
    "\n",
    "\n",
    "linearmodel = linear_model.LinearRegression()\n",
    "linearmodel.fit(X, y)\n",
    "f, pvals = feature_selection.f_regression(X, y)\n",
    "\n",
    "\n",
    "residuals = (y - linearmodel.predict(X)).values\n",
    "\n",
    "print 'P values:', pvals\n",
    "print 'Coefficients:', linearmodel.coef_\n",
    "print 'y-intercept:', linearmodel.intercept_\n",
    "print 'R-squared:', linearmodel.score(X,y)\n"
   ]
  },
  {
   "cell_type": "markdown",
   "metadata": {},
   "source": [
    "My linear regression model results are awful. It's likely that I am overfitting here too."
   ]
  }
 ],
 "metadata": {
  "kernelspec": {
   "display_name": "Python 2",
   "language": "python",
   "name": "python2"
  },
  "language_info": {
   "codemirror_mode": {
    "name": "ipython",
    "version": 2
   },
   "file_extension": ".py",
   "mimetype": "text/x-python",
   "name": "python",
   "nbconvert_exporter": "python",
   "pygments_lexer": "ipython2",
   "version": "2.7.11"
  }
 },
 "nbformat": 4,
 "nbformat_minor": 0
}
