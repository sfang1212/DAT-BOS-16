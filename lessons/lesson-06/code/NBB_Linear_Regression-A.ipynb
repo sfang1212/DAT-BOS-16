{
 "cells": [
  {
   "cell_type": "markdown",
   "metadata": {},
   "source": [
    "## Linear Regression, Linear Models. Inference and Interpretation\n",
    "\n",
    "In this lesson we will build and interpreting simple models with linear regression. We then learn to interpret the diagnostics and quality of our models. We expand our modeling tool box with multivariate analysis.  \n",
    "\n",
    "Rationale: A model is a representation of reality albeit highly simplified. Building a statistical model involves constructing a mathematical description of some real-world phenomena that accounts for the uncertainty and randomness involved in that system.  All statistical hypothesis tests and all statistical estimators are derived from statistical models. Statistical models are a fundamental part of the foundation of statistical inference, data analysis and machine learning.\n",
    "\n",
    "### Data\n",
    "\n",
    "We will be using [Francis Galton's](https://en.wikipedia.org/wiki/Francis_Galton) analysis of the heights of sons and fathers. Heights of sons of both tall and short fathers appeared to “revert” or “regress” to the mean of the group.  \n",
    "\n",
    "Galton created the statistical concept of correlation and widely promoted regression toward the mean. Regression toward the mean become analysis be [Regression analysis Wikipedia](https://en.wikipedia.org/wiki/Regression_analysis))  "
   ]
  },
  {
   "cell_type": "code",
   "execution_count": 77,
   "metadata": {
    "collapsed": true
   },
   "outputs": [],
   "source": [
    "from __future__ import print_function\n",
    "%matplotlib inline\n",
    "import pandas as pd\n",
    "import matplotlib.pyplot as plt\n",
    "import numpy as np\n",
    "from scipy import stats\n",
    "import seaborn as sns\n",
    "import statsmodels.api as sm\n",
    "from statsmodels.formula.api import ols\n",
    "from sklearn import linear_model"
   ]
  },
  {
   "cell_type": "markdown",
   "metadata": {},
   "source": [
    "## Linear Models\n",
    "\n",
    "Linear regression predicts the response variable $y$ assuming it has a linear relationship with predictor variable(s) $x$ or $x_1, x_2, ,,, x_n$.\n",
    "\n",
    "$$y = \\beta_0 + \\beta_1 x + \\varepsilon .$$\n",
    "\n",
    "*_Simple regression_* use only one predictor variable $x$. *_Mulitple regression_* uses a set of predictor variables $x_1, x_2, ,,, x_n$.\n",
    "\n",
    "The *response variable* $y$ is also called the regressand, forecast, dependent or explained variable. The *predictor variable* $x$ is also called the regressor, independent or explanatory variable.\n",
    "\n",
    "The parameters $\\beta_0$ and $\\beta_1$ determine the intercept and the slope of the line respectively. The intercept $\\beta_0$ represents the predicted value of $y$ when $x=0$. The slope $\\beta_1$ represents the predicted increase in $Y$ resulting from a one unit increase in $x$.\n",
    "\n",
    "Note that the regression equation is just our famliar equation for a line with an error term.\n",
    "\n",
    "The equation for a line:  \n",
    "$$ Y = bX + a $$\n",
    "\n",
    "$$y = \\beta_0 + \\beta_1 x $$\n",
    "\n",
    "The equation for a line with an error term:  \n",
    "\n",
    "$$ Y = bX + a + \\varepsilon $$\n",
    "\n",
    "$$y = \\beta_0 + \\beta_1 x + \\varepsilon .$$\n",
    "\n",
    "- $b$ = $\\beta_1$ = slope\n",
    "- $a$ = $\\beta_0$ = $Y$ intercept\n",
    "- $\\varepsilon$ = error term\n",
    "\n",
    "\n",
    "We can think of each observation $y_i$ consisting of the systematic or explained part of the model, $\\beta_0+\\beta_1x_i$, and the random *error*, $\\varepsilon_i$.\n",
    "\n",
    "_Zero Slope_\n",
    "\n",
    "Note that when  $\\beta_1 = 0$ then response does not change as the predictor changes.\n",
    "\n",
    "\n",
    "## The error $\\varepsilon_i$\n",
    "\n",
    "The error term is a catch-all for anything that may affect $y_i$ other than $x_i$. We assume that these errors:\n",
    "\n",
    "* have mean zero; otherwise the forecasts will be systematically biased.\n",
    "* statistical independence of the errors (in particular, no correlation between consecutive errors in the case of time series data).\n",
    "* homoscedasticity (constant variance) of the errors.\n",
    "* normality of the error distribution.\n",
    "\n",
    "If any of these assumptions is violated then the robustness of the model to be taken with a grain of salt.\n",
    "\n",
    "\n",
    "## Least squares estimation\n",
    "\n",
    "In a linear model, the values of $\\beta_0$ and $\\beta_1$. These need to be estimated from the data. We call this *fitting a model*.\n",
    "\n",
    "The least squares method iis the most common way of estimating $\\beta_0$ and $\\beta_1$ by minimizing the sum of the squared errors. The values of $\\beta_0$ and $\\beta_1$ are chosen so that that minimize\n",
    "\n",
    "$$\\sum_{i=1}^N \\varepsilon_i^2 = \\sum_{i=1}^N (y_i - \\beta_0 - \\beta_1x_i)^2. $$\n",
    "\n",
    "\n",
    "Using mathematical calculus, it can be shown that the resulting **least squares estimators** are\n",
    "\n",
    "$$\\hat{\\beta}_1=\\frac{ \\sum_{i=1}^{N}(y_i-\\bar{y})(x_i-\\bar{x})}{\\sum_{i=1}^{N}(x_i-\\bar{x})^2} $$ \n",
    "\n",
    "and\n",
    "\n",
    "$$\\hat{\\beta}_0=\\bar{y}-\\hat{\\beta}_1\\bar{x}, $$\n",
    "\n",
    "where $\\bar{x}$ is the average of the $x$ observations and $\\bar{y}$ is the average of the $y$ observations. The estimated line is known as the *regression line*.\n",
    "\n",
    "\n",
    "## Fitted values and residuals\n",
    "\n",
    "The response values of $y$ obtained from the observed $x$ values are\n",
    "called *fitted values*: $\\hat{y}_i=\\hat{\\beta}_0+\\hat{\\beta}_1x_i$, for\n",
    "$i=1,\\dots,N$. Each $\\hat{y}_i$ is the point on the regression\n",
    "line corresponding to $x_i$.\n",
    "\n",
    "The difference between the observed $y$ values and the corresponding fitted values are the *residuals*:\n",
    "\n",
    "$$e_i = y_i - \\hat{y}_i = y_i -\\hat{\\beta}_0-\\hat{\\beta}_1x_i. $$\n",
    "\n",
    "The residuals have some useful properties including the following two:\n",
    "\n",
    "$$\\sum_{i=1}^{N}{e_i}=0 \\quad\\text{and}\\quad \\sum_{i=1}^{N}{x_ie_i}=0. $$\n",
    "\n",
    "\n",
    "Residuals are the errors that we cannot predict.Residuals are highly useful for studying whether a given regression model is an appropriate statistical technique for analyzing the relationship.\n",
    "\n",
    "## Regression and correlation\n",
    "\n",
    "The correlation coefficient $r$ measures the strength and the direction of the linear relationship between the two variables. The stronger the linear relationship, the closer the observed data points will cluster around a straight line.\n",
    "\n",
    "The _Pearson product-moment correlation coefficient_ is the most widely used of all correlation coefficients. In statistics, the Pearson product-moment correlation coefficient (/ˈpɪərsɨn/) (sometimes referred to as the PPMCC or PCC or Pearson's r) is a measure of the linear correlation (dependence) between two variables X and Y, giving a value between +1 and −1 inclusive, where 1 is total positive correlation, 0 is no correlation, and −1 is total negative correlation. It is widely used in the sciences as a measure of the degree of linear dependence between two variables. It was developed by Karl Pearson from a related idea introduced by Francis Galton in the 1880s. Early work on the distribution of the sample correlation coefficient was carried out by Anil Kumar Gain and R. A. Fisher from the University of Cambridge.\n",
    "\n",
    "from [Pearson product-moment correlation coefficient](https://en.wikipedia.org/wiki/Pearson_product-moment_correlation_coefficient)  \n",
    "\n",
    "Examples of scatter diagrams with different values of correlation coefficient (ρ)\n",
    "\n",
    "The value of r is such that -1 < r < +1.  \n",
    "\n",
    "Strong positive correlation r is close to +1. Strong negative correlation r is close to -1. No correlation r is close to 0.   \n",
    "\n",
    "The advantage of a regression model over correlation is that it asserts a predictive relationship between the two variables ($x$ predicts $y$) and quantifies this in a useful way for forecasting.\n"
   ]
  },
  {
   "cell_type": "code",
   "execution_count": 78,
   "metadata": {
    "collapsed": false,
    "scrolled": true
   },
   "outputs": [
    {
     "data": {
      "text/html": [
       "<div>\n",
       "<table border=\"1\" class=\"dataframe\">\n",
       "  <thead>\n",
       "    <tr style=\"text-align: right;\">\n",
       "      <th></th>\n",
       "      <th>Family</th>\n",
       "      <th>Father</th>\n",
       "      <th>Mother</th>\n",
       "      <th>Gender</th>\n",
       "      <th>Height</th>\n",
       "      <th>Kids</th>\n",
       "    </tr>\n",
       "  </thead>\n",
       "  <tbody>\n",
       "    <tr>\n",
       "      <th>0</th>\n",
       "      <td>1</td>\n",
       "      <td>78.5</td>\n",
       "      <td>67.0</td>\n",
       "      <td>M</td>\n",
       "      <td>73.2</td>\n",
       "      <td>4</td>\n",
       "    </tr>\n",
       "    <tr>\n",
       "      <th>1</th>\n",
       "      <td>1</td>\n",
       "      <td>78.5</td>\n",
       "      <td>67.0</td>\n",
       "      <td>F</td>\n",
       "      <td>69.2</td>\n",
       "      <td>4</td>\n",
       "    </tr>\n",
       "    <tr>\n",
       "      <th>2</th>\n",
       "      <td>1</td>\n",
       "      <td>78.5</td>\n",
       "      <td>67.0</td>\n",
       "      <td>F</td>\n",
       "      <td>69.0</td>\n",
       "      <td>4</td>\n",
       "    </tr>\n",
       "    <tr>\n",
       "      <th>3</th>\n",
       "      <td>1</td>\n",
       "      <td>78.5</td>\n",
       "      <td>67.0</td>\n",
       "      <td>F</td>\n",
       "      <td>69.0</td>\n",
       "      <td>4</td>\n",
       "    </tr>\n",
       "    <tr>\n",
       "      <th>4</th>\n",
       "      <td>2</td>\n",
       "      <td>75.5</td>\n",
       "      <td>66.5</td>\n",
       "      <td>M</td>\n",
       "      <td>73.5</td>\n",
       "      <td>4</td>\n",
       "    </tr>\n",
       "  </tbody>\n",
       "</table>\n",
       "</div>"
      ],
      "text/plain": [
       "  Family  Father  Mother Gender  Height  Kids\n",
       "0      1    78.5    67.0      M    73.2     4\n",
       "1      1    78.5    67.0      F    69.2     4\n",
       "2      1    78.5    67.0      F    69.0     4\n",
       "3      1    78.5    67.0      F    69.0     4\n",
       "4      2    75.5    66.5      M    73.5     4"
      ]
     },
     "execution_count": 78,
     "metadata": {},
     "output_type": "execute_result"
    }
   ],
   "source": [
    "# Load the data into a pandas dataframe\n",
    "df = pd.read_csv('http://www.math.uah.edu/stat/data/Galton.csv')\n",
    "df.head()"
   ]
  },
  {
   "cell_type": "code",
   "execution_count": 79,
   "metadata": {
    "collapsed": false,
    "scrolled": true
   },
   "outputs": [
    {
     "data": {
      "text/html": [
       "<div>\n",
       "<table border=\"1\" class=\"dataframe\">\n",
       "  <thead>\n",
       "    <tr style=\"text-align: right;\">\n",
       "      <th></th>\n",
       "      <th>Father</th>\n",
       "      <th>Mother</th>\n",
       "      <th>Height</th>\n",
       "      <th>Kids</th>\n",
       "    </tr>\n",
       "  </thead>\n",
       "  <tbody>\n",
       "    <tr>\n",
       "      <th>count</th>\n",
       "      <td>898.000000</td>\n",
       "      <td>898.000000</td>\n",
       "      <td>898.000000</td>\n",
       "      <td>898.000000</td>\n",
       "    </tr>\n",
       "    <tr>\n",
       "      <th>mean</th>\n",
       "      <td>69.232851</td>\n",
       "      <td>64.084410</td>\n",
       "      <td>66.760690</td>\n",
       "      <td>6.135857</td>\n",
       "    </tr>\n",
       "    <tr>\n",
       "      <th>std</th>\n",
       "      <td>2.470256</td>\n",
       "      <td>2.307025</td>\n",
       "      <td>3.582918</td>\n",
       "      <td>2.685156</td>\n",
       "    </tr>\n",
       "    <tr>\n",
       "      <th>min</th>\n",
       "      <td>62.000000</td>\n",
       "      <td>58.000000</td>\n",
       "      <td>56.000000</td>\n",
       "      <td>1.000000</td>\n",
       "    </tr>\n",
       "    <tr>\n",
       "      <th>25%</th>\n",
       "      <td>68.000000</td>\n",
       "      <td>63.000000</td>\n",
       "      <td>64.000000</td>\n",
       "      <td>4.000000</td>\n",
       "    </tr>\n",
       "    <tr>\n",
       "      <th>50%</th>\n",
       "      <td>69.000000</td>\n",
       "      <td>64.000000</td>\n",
       "      <td>66.500000</td>\n",
       "      <td>6.000000</td>\n",
       "    </tr>\n",
       "    <tr>\n",
       "      <th>75%</th>\n",
       "      <td>71.000000</td>\n",
       "      <td>65.500000</td>\n",
       "      <td>69.700000</td>\n",
       "      <td>8.000000</td>\n",
       "    </tr>\n",
       "    <tr>\n",
       "      <th>max</th>\n",
       "      <td>78.500000</td>\n",
       "      <td>70.500000</td>\n",
       "      <td>79.000000</td>\n",
       "      <td>15.000000</td>\n",
       "    </tr>\n",
       "  </tbody>\n",
       "</table>\n",
       "</div>"
      ],
      "text/plain": [
       "           Father      Mother      Height        Kids\n",
       "count  898.000000  898.000000  898.000000  898.000000\n",
       "mean    69.232851   64.084410   66.760690    6.135857\n",
       "std      2.470256    2.307025    3.582918    2.685156\n",
       "min     62.000000   58.000000   56.000000    1.000000\n",
       "25%     68.000000   63.000000   64.000000    4.000000\n",
       "50%     69.000000   64.000000   66.500000    6.000000\n",
       "75%     71.000000   65.500000   69.700000    8.000000\n",
       "max     78.500000   70.500000   79.000000   15.000000"
      ]
     },
     "execution_count": 79,
     "metadata": {},
     "output_type": "execute_result"
    }
   ],
   "source": [
    "df.describe()"
   ]
  },
  {
   "cell_type": "markdown",
   "metadata": {},
   "source": [
    "## The Modeling process  \n",
    "\n",
    "A. Formula (i.e. what $f(x)$ and which $x_1,x_2, .. x_n$)   \n",
    "B. Fit (i.e. Estimate the unknown parameters for the model.)   \n",
    "C. Analysis of fit (i.e. how good is the model)   \n",
    "D. Analysis of residuals (i.e. how closely did the model match assumptions)   \n",
    "\n",
    "We often create many models so we *_store & explore_*. That is, make models and save them as variables so we can compare the various iterations of the modeling process.\n",
    "\n",
    "\n",
    "## A. Formula \n",
    "\n",
    "f(x)          | x    \n",
    "------------- | -------------  \n",
    "response      | ~ predictor     \n",
    "response      | ~ explanatory   \n",
    "dependent     | ~ independent    \n",
    "outcome       | ~ predictor  \n",
    "forecast      | ~ predictor   \n",
    "regressand    | ~ regressor  \n",
    "explained     | ~ explanatory  \n",
    "\n"
   ]
  },
  {
   "cell_type": "code",
   "execution_count": 80,
   "metadata": {
    "collapsed": false,
    "scrolled": true
   },
   "outputs": [
    {
     "data": {
      "image/png": "[encoded data removed]",
      "text/plain": [
       "<matplotlib.figure.Figure at 0x11a1e8510>"
      ]
     },
     "metadata": {},
     "output_type": "display_data"
    }
   ],
   "source": [
    "# Quick plot of the data using seaborn\n",
    "sns.pairplot(df, hue=\"Gender\")\n",
    "sns.plt.show()"
   ]
  },
  {
   "cell_type": "markdown",
   "metadata": {},
   "source": [
    "### Galton's Regression to the Mean idea:\n",
    "\n",
    "Tall fathers will have tall sons, but the height of the sons will be closer to the mean of the current adult male population. The same holds for short fathers and their short sons who, nevertheless, tend to be more average than their father.\n",
    "\n",
    "In other words, an exceptionally tall person, say 7 feet, would expect to have tall children but not necessarily 7 feet ) as this is exceptional for normally distibuted data). Contrawise,  an exceptionally short person, say 5 feet, would expect to have short children but not necessarily 5 feet ) as this is exceptional for normally distibuted data).\n"
   ]
  },
  {
   "cell_type": "code",
   "execution_count": 81,
   "metadata": {
    "collapsed": false
   },
   "outputs": [
    {
     "data": {
      "image/png": "[encoded data removed]",
      "text/plain": [
       "<matplotlib.figure.Figure at 0x11bc2dcd0>"
      ]
     },
     "metadata": {},
     "output_type": "display_data"
    }
   ],
   "source": [
    "sns.lmplot(y=\"Height\", x=\"Father\", data=df,  hue=\"Gender\")\n",
    "sns.plt.show()"
   ]
  },
  {
   "cell_type": "code",
   "execution_count": 82,
   "metadata": {
    "collapsed": false
   },
   "outputs": [
    {
     "data": {
      "image/png": "[encoded data removed]",
      "text/plain": [
       "<matplotlib.figure.Figure at 0x11bc62ad0>"
      ]
     },
     "metadata": {},
     "output_type": "display_data"
    }
   ],
   "source": [
    "sns.lmplot(y=\"Height\", x=\"Mother\", data=df,  hue=\"Gender\")\n",
    "sns.plt.show()"
   ]
  },
  {
   "cell_type": "markdown",
   "metadata": {},
   "source": [
    "It seems that, in general, if the father is taller the child is taller. Also  if the mother is taller the child is taller.\n",
    "\n",
    "$$ f(x) = \\beta_0 + \\beta_1 x + \\varepsilon . $$\n",
    "\n",
    "Eyeballing both slopes $\\beta_1$ look roughly equal and about 0.4. So we'd expect from this graph a relation (i.e. formula or model) for the son's height.\n",
    "\n",
    "$$ son = \\beta_{0_{son}} + 0.4 x + \\varepsilon $$  \n",
    "\n",
    "and for the daughter's height.\n",
    "\n",
    "$$ daughter = \\beta_{0_{daughter}} + 0.4 x + \\varepsilon $$  \n",
    "\n",
    "Choosing predictors is typically done in 3 ways:  \n",
    "\n",
    "1. Theory / domain knowledge\n",
    "2. EDA - exploritory data analysis.\n",
    "3. Fitting various combinations of outcome and predictors and selecting the best fits (r.g. Stepwise regression)\n",
    "\n",
    "Here Galton was testing an idea/theory. How dependent is a son's height on his father's height? Domain knowledge would also ask how dependent is a son's height on his mother's height? (I'm not sure is Dalton asked this question or not. We will ask this as well as whether tall mother's and father's tend to have even taller children (i.e. multivariate regression))"
   ]
  },
  {
   "cell_type": "code",
   "execution_count": 83,
   "metadata": {
    "collapsed": false
   },
   "outputs": [
    {
     "name": "stdout",
     "output_type": "stream",
     "text": [
      "[ 39.11038684] [[ 0.39938127]]\n"
     ]
    }
   ],
   "source": [
    "# from sklearn import linear_model\n",
    "\n",
    "X = df[[\"Father\"]]\n",
    "y = df[[\"Height\"]]\n",
    "\n",
    "# Fit the linear model\n",
    "model = linear_model.LinearRegression()\n",
    "results = model.fit(X, y)\n",
    "\n",
    "# Print the coefficients\n",
    "print (results.intercept_, results.coef_)"
   ]
  },
  {
   "cell_type": "markdown",
   "metadata": {},
   "source": [
    "This means that our best fit line is:\n",
    "$$y = a + b x$$\n",
    "\n",
    "Which translates in to the equations below:\n",
    "\n",
    "$$ son_{height} = 39.11 + 0.399 x_{father} + \\varepsilon $$  \n",
    "\n",
    "\n",
    "Next let's use `statsmodels`."
   ]
  },
  {
   "cell_type": "code",
   "execution_count": 84,
   "metadata": {
    "collapsed": false,
    "scrolled": false
   },
   "outputs": [
    {
     "data": {
      "text/html": [
       "<table class=\"simpletable\">\n",
       "<caption>OLS Regression Results</caption>\n",
       "<tr>\n",
       "  <th>Dep. Variable:</th>         <td>Height</td>      <th>  R-squared:         </th> <td>   0.997</td> \n",
       "</tr>\n",
       "<tr>\n",
       "  <th>Model:</th>                   <td>OLS</td>       <th>  Adj. R-squared:    </th> <td>   0.997</td> \n",
       "</tr>\n",
       "<tr>\n",
       "  <th>Method:</th>             <td>Least Squares</td>  <th>  F-statistic:       </th> <td>2.898e+05</td>\n",
       "</tr>\n",
       "<tr>\n",
       "  <th>Date:</th>             <td>Mon, 17 Apr 2017</td> <th>  Prob (F-statistic):</th>  <td>  0.00</td>  \n",
       "</tr>\n",
       "<tr>\n",
       "  <th>Time:</th>                 <td>23:28:13</td>     <th>  Log-Likelihood:    </th> <td> -2452.5</td> \n",
       "</tr>\n",
       "<tr>\n",
       "  <th>No. Observations:</th>      <td>   898</td>      <th>  AIC:               </th> <td>   4907.</td> \n",
       "</tr>\n",
       "<tr>\n",
       "  <th>Df Residuals:</th>          <td>   897</td>      <th>  BIC:               </th> <td>   4912.</td> \n",
       "</tr>\n",
       "<tr>\n",
       "  <th>Df Model:</th>              <td>     1</td>      <th>                     </th>     <td> </td>    \n",
       "</tr>\n",
       "<tr>\n",
       "  <th>Covariance Type:</th>      <td>nonrobust</td>    <th>                     </th>     <td> </td>    \n",
       "</tr>\n",
       "</table>\n",
       "<table class=\"simpletable\">\n",
       "<tr>\n",
       "     <td></td>       <th>coef</th>     <th>std err</th>      <th>t</th>      <th>P>|t|</th> <th>[95.0% Conf. Int.]</th> \n",
       "</tr>\n",
       "<tr>\n",
       "  <th>Father</th> <td>    0.9636</td> <td>    0.002</td> <td>  538.311</td> <td> 0.000</td> <td>    0.960     0.967</td>\n",
       "</tr>\n",
       "</table>\n",
       "<table class=\"simpletable\">\n",
       "<tr>\n",
       "  <th>Omnibus:</th>       <td>17.470</td> <th>  Durbin-Watson:     </th> <td>   1.158</td>\n",
       "</tr>\n",
       "<tr>\n",
       "  <th>Prob(Omnibus):</th> <td> 0.000</td> <th>  Jarque-Bera (JB):  </th> <td>   9.840</td>\n",
       "</tr>\n",
       "<tr>\n",
       "  <th>Skew:</th>          <td> 0.008</td> <th>  Prob(JB):          </th> <td> 0.00730</td>\n",
       "</tr>\n",
       "<tr>\n",
       "  <th>Kurtosis:</th>      <td> 2.487</td> <th>  Cond. No.          </th> <td>    1.00</td>\n",
       "</tr>\n",
       "</table>"
      ],
      "text/plain": [
       "<class 'statsmodels.iolib.summary.Summary'>\n",
       "\"\"\"\n",
       "                            OLS Regression Results                            \n",
       "==============================================================================\n",
       "Dep. Variable:                 Height   R-squared:                       0.997\n",
       "Model:                            OLS   Adj. R-squared:                  0.997\n",
       "Method:                 Least Squares   F-statistic:                 2.898e+05\n",
       "Date:                Mon, 17 Apr 2017   Prob (F-statistic):               0.00\n",
       "Time:                        23:28:13   Log-Likelihood:                -2452.5\n",
       "No. Observations:                 898   AIC:                             4907.\n",
       "Df Residuals:                     897   BIC:                             4912.\n",
       "Df Model:                           1                                         \n",
       "Covariance Type:            nonrobust                                         \n",
       "==============================================================================\n",
       "                 coef    std err          t      P>|t|      [95.0% Conf. Int.]\n",
       "------------------------------------------------------------------------------\n",
       "Father         0.9636      0.002    538.311      0.000         0.960     0.967\n",
       "==============================================================================\n",
       "Omnibus:                       17.470   Durbin-Watson:                   1.158\n",
       "Prob(Omnibus):                  0.000   Jarque-Bera (JB):                9.840\n",
       "Skew:                           0.008   Prob(JB):                      0.00730\n",
       "Kurtosis:                       2.487   Cond. No.                         1.00\n",
       "==============================================================================\n",
       "\n",
       "Warnings:\n",
       "[1] Standard Errors assume that the covariance matrix of the errors is correctly specified.\n",
       "\"\"\""
      ]
     },
     "execution_count": 84,
     "metadata": {},
     "output_type": "execute_result"
    }
   ],
   "source": [
    "# import statsmodels.api as sm\n",
    "# Note the swap of X and y\n",
    "model = sm.OLS(y, X)\n",
    "results = model.fit()\n",
    "# Statsmodels gives R-like statistical output\n",
    "results.summary()"
   ]
  },
  {
   "cell_type": "code",
   "execution_count": 85,
   "metadata": {
    "collapsed": false
   },
   "outputs": [
    {
     "name": "stdout",
     "output_type": "stream",
     "text": [
      "Parameters:  Father    0.963575\n",
      "dtype: float64\n",
      "R2:  0.996914082281\n"
     ]
    }
   ],
   "source": [
    "print('Parameters: ', results.params)\n",
    "print('R2: ', results.rsquared)"
   ]
  },
  {
   "cell_type": "markdown",
   "metadata": {},
   "source": [
    "Note that the coefficients are almost identical to what we saw before with scikit-learn, and the fit is very good ($R^2=0.997$). \n",
    "\n",
    "If you look closely you'll note that this model doesn't include an intercept by default like scikit-learn does. There's an easy way to do this using add_constant(X)"
   ]
  },
  {
   "cell_type": "code",
   "execution_count": 86,
   "metadata": {
    "collapsed": false,
    "scrolled": true
   },
   "outputs": [
    {
     "data": {
      "text/plain": [
       "[<matplotlib.lines.Line2D at 0x11c196a50>]"
      ]
     },
     "execution_count": 86,
     "metadata": {},
     "output_type": "execute_result"
    },
    {
     "data": {
      "image/png": "[encoded data removed]",
      "text/plain": [
       "<matplotlib.figure.Figure at 0x11bf99a10>"
      ]
     },
     "metadata": {},
     "output_type": "display_data"
    }
   ],
   "source": [
    "X = df[[\"Father\"]]\n",
    "y = df[[\"Height\"]]\n",
    "plt.plot(X, y, \"o\")"
   ]
  },
  {
   "cell_type": "code",
   "execution_count": 87,
   "metadata": {
    "collapsed": false
   },
   "outputs": [
    {
     "data": {
      "image/png": "[encoded data removed]",
      "text/plain": [
       "<matplotlib.figure.Figure at 0x11994f950>"
      ]
     },
     "metadata": {},
     "output_type": "display_data"
    }
   ],
   "source": [
    "X = sm.add_constant(X) #  Our model needs an intercept so we add a column of 1s:\n",
    "plt.plot(X, y, \"o\")\n",
    "x2 = np.linspace(0, 80, 55)\n",
    "y2 = 39.11 + (0.3994*x2)\n",
    "plt.plot(x2, y2, lw=2, color=\"r\")\n",
    "x2 = np.linspace(55, 80, 33)\n",
    "y2 = (0.963575*x2)\n",
    "plt.plot(x2, y2, lw=2, color=\"g\")\n",
    "plt.show()"
   ]
  },
  {
   "cell_type": "code",
   "execution_count": 88,
   "metadata": {
    "collapsed": false,
    "scrolled": false
   },
   "outputs": [
    {
     "data": {
      "text/html": [
       "<table class=\"simpletable\">\n",
       "<caption>OLS Regression Results</caption>\n",
       "<tr>\n",
       "  <th>Dep. Variable:</th>         <td>Height</td>      <th>  R-squared:         </th> <td>   0.076</td>\n",
       "</tr>\n",
       "<tr>\n",
       "  <th>Model:</th>                   <td>OLS</td>       <th>  Adj. R-squared:    </th> <td>   0.075</td>\n",
       "</tr>\n",
       "<tr>\n",
       "  <th>Method:</th>             <td>Least Squares</td>  <th>  F-statistic:       </th> <td>   73.51</td>\n",
       "</tr>\n",
       "<tr>\n",
       "  <th>Date:</th>             <td>Mon, 17 Apr 2017</td> <th>  Prob (F-statistic):</th> <td>4.35e-17</td>\n",
       "</tr>\n",
       "<tr>\n",
       "  <th>Time:</th>                 <td>23:28:13</td>     <th>  Log-Likelihood:    </th> <td> -2384.3</td>\n",
       "</tr>\n",
       "<tr>\n",
       "  <th>No. Observations:</th>      <td>   898</td>      <th>  AIC:               </th> <td>   4773.</td>\n",
       "</tr>\n",
       "<tr>\n",
       "  <th>Df Residuals:</th>          <td>   896</td>      <th>  BIC:               </th> <td>   4782.</td>\n",
       "</tr>\n",
       "<tr>\n",
       "  <th>Df Model:</th>              <td>     1</td>      <th>                     </th>     <td> </td>   \n",
       "</tr>\n",
       "<tr>\n",
       "  <th>Covariance Type:</th>      <td>nonrobust</td>    <th>                     </th>     <td> </td>   \n",
       "</tr>\n",
       "</table>\n",
       "<table class=\"simpletable\">\n",
       "<tr>\n",
       "     <td></td>       <th>coef</th>     <th>std err</th>      <th>t</th>      <th>P>|t|</th> <th>[95.0% Conf. Int.]</th> \n",
       "</tr>\n",
       "<tr>\n",
       "  <th>const</th>  <td>   39.1104</td> <td>    3.227</td> <td>   12.120</td> <td> 0.000</td> <td>   32.777    45.444</td>\n",
       "</tr>\n",
       "<tr>\n",
       "  <th>Father</th> <td>    0.3994</td> <td>    0.047</td> <td>    8.574</td> <td> 0.000</td> <td>    0.308     0.491</td>\n",
       "</tr>\n",
       "</table>\n",
       "<table class=\"simpletable\">\n",
       "<tr>\n",
       "  <th>Omnibus:</th>       <td>25.507</td> <th>  Durbin-Watson:     </th> <td>   1.342</td>\n",
       "</tr>\n",
       "<tr>\n",
       "  <th>Prob(Omnibus):</th> <td> 0.000</td> <th>  Jarque-Bera (JB):  </th> <td>  13.383</td>\n",
       "</tr>\n",
       "<tr>\n",
       "  <th>Skew:</th>          <td> 0.080</td> <th>  Prob(JB):          </th> <td> 0.00124</td>\n",
       "</tr>\n",
       "<tr>\n",
       "  <th>Kurtosis:</th>      <td> 2.424</td> <th>  Cond. No.          </th> <td>1.94e+03</td>\n",
       "</tr>\n",
       "</table>"
      ],
      "text/plain": [
       "<class 'statsmodels.iolib.summary.Summary'>\n",
       "\"\"\"\n",
       "                            OLS Regression Results                            \n",
       "==============================================================================\n",
       "Dep. Variable:                 Height   R-squared:                       0.076\n",
       "Model:                            OLS   Adj. R-squared:                  0.075\n",
       "Method:                 Least Squares   F-statistic:                     73.51\n",
       "Date:                Mon, 17 Apr 2017   Prob (F-statistic):           4.35e-17\n",
       "Time:                        23:28:13   Log-Likelihood:                -2384.3\n",
       "No. Observations:                 898   AIC:                             4773.\n",
       "Df Residuals:                     896   BIC:                             4782.\n",
       "Df Model:                           1                                         \n",
       "Covariance Type:            nonrobust                                         \n",
       "==============================================================================\n",
       "                 coef    std err          t      P>|t|      [95.0% Conf. Int.]\n",
       "------------------------------------------------------------------------------\n",
       "const         39.1104      3.227     12.120      0.000        32.777    45.444\n",
       "Father         0.3994      0.047      8.574      0.000         0.308     0.491\n",
       "==============================================================================\n",
       "Omnibus:                       25.507   Durbin-Watson:                   1.342\n",
       "Prob(Omnibus):                  0.000   Jarque-Bera (JB):               13.383\n",
       "Skew:                           0.080   Prob(JB):                      0.00124\n",
       "Kurtosis:                       2.424   Cond. No.                     1.94e+03\n",
       "==============================================================================\n",
       "\n",
       "Warnings:\n",
       "[1] Standard Errors assume that the covariance matrix of the errors is correctly specified.\n",
       "[2] The condition number is large, 1.94e+03. This might indicate that there are\n",
       "strong multicollinearity or other numerical problems.\n",
       "\"\"\""
      ]
     },
     "execution_count": 88,
     "metadata": {},
     "output_type": "execute_result"
    }
   ],
   "source": [
    "model = sm.OLS(y, X)\n",
    "results = model.fit()\n",
    "results.summary()"
   ]
  },
  {
   "cell_type": "code",
   "execution_count": 12,
   "metadata": {
    "collapsed": false
   },
   "outputs": [
    {
     "data": {
      "text/plain": [
       "100.0"
      ]
     },
     "execution_count": 12,
     "metadata": {},
     "output_type": "execute_result"
    }
   ],
   "source": [
    "(1/1.0)*100"
   ]
  },
  {
   "cell_type": "code",
   "execution_count": null,
   "metadata": {
    "collapsed": true
   },
   "outputs": [],
   "source": [
    "(1/20.0)*100"
   ]
  },
  {
   "cell_type": "code",
   "execution_count": 11,
   "metadata": {
    "collapsed": false
   },
   "outputs": [
    {
     "data": {
      "text/plain": [
       "1.0"
      ]
     },
     "execution_count": 11,
     "metadata": {},
     "output_type": "execute_result"
    }
   ],
   "source": [
    "(1/100.0)*100"
   ]
  },
  {
   "cell_type": "code",
   "execution_count": null,
   "metadata": {
    "collapsed": true
   },
   "outputs": [],
   "source": [
    "(1/12.120)*100"
   ]
  },
  {
   "cell_type": "code",
   "execution_count": 8,
   "metadata": {
    "collapsed": false
   },
   "outputs": [
    {
     "data": {
      "text/plain": [
       "11.663167716351762"
      ]
     },
     "execution_count": 8,
     "metadata": {},
     "output_type": "execute_result"
    }
   ],
   "source": [
    "(1/8.574)*100"
   ]
  },
  {
   "cell_type": "code",
   "execution_count": 1,
   "metadata": {
    "collapsed": false
   },
   "outputs": [
    {
     "data": {
      "text/plain": [
       "12.119739696312365"
      ]
     },
     "execution_count": 1,
     "metadata": {},
     "output_type": "execute_result"
    }
   ],
   "source": [
    "39.1104/3.227"
   ]
  },
  {
   "cell_type": "code",
   "execution_count": 3,
   "metadata": {
    "collapsed": false
   },
   "outputs": [
    {
     "data": {
      "text/plain": [
       "0.08251002290950744"
      ]
     },
     "execution_count": 3,
     "metadata": {},
     "output_type": "execute_result"
    }
   ],
   "source": [
    "3.227/39.1104"
   ]
  },
  {
   "cell_type": "code",
   "execution_count": 4,
   "metadata": {
    "collapsed": false
   },
   "outputs": [
    {
     "data": {
      "text/plain": [
       "12.119739696312365"
      ]
     },
     "execution_count": 4,
     "metadata": {},
     "output_type": "execute_result"
    }
   ],
   "source": [
    "1/(3.227/39.1104)"
   ]
  },
  {
   "cell_type": "code",
   "execution_count": 2,
   "metadata": {
    "collapsed": false
   },
   "outputs": [
    {
     "data": {
      "text/plain": [
       "8.49787234042553"
      ]
     },
     "execution_count": 2,
     "metadata": {},
     "output_type": "execute_result"
    }
   ],
   "source": [
    "0.3994/0.047"
   ]
  },
  {
   "cell_type": "code",
   "execution_count": 89,
   "metadata": {
    "collapsed": false
   },
   "outputs": [
    {
     "name": "stdout",
     "output_type": "stream",
     "text": [
      "Parameters:  const     39.110387\n",
      "Father     0.399381\n",
      "dtype: float64\n",
      "R2:  0.0758202803404\n"
     ]
    }
   ],
   "source": [
    "print('Parameters: ', results.params)\n",
    "print('R2: ', results.rsquared)"
   ]
  },
  {
   "cell_type": "markdown",
   "metadata": {},
   "source": [
    "## The t-statistic and the standard error\n",
    "\n",
    "The t-statistic is the coefficient divided by its standard error. For example, a $\\beta_1$ of 38.2 divided by a standard error of 3.4 would give a t value of 11.2.\n",
    "\n",
    "The standard error is an estimate of the standard deviation of the coefficient. It can be thought of as the spread between fitted and actual values.\n",
    "\n",
    "$$s_e=\\sqrt{\\frac{1}{N-2}\\sum_{i=1}^{N}{e_i^2}}.$$\n",
    "\n",
    "\n",
    "If a coefficient is large compared to its standard error, then we can reject the hypothesis that $\\beta_1$ = 0. Intuitively, we can think of this if the slope is not small and there is a not much spread between fitted and actual values then we can be confident that the true slope $\\hat{\\beta}_1$ is not 0.\n",
    "\n",
    "A t-statistic (t value) of greater than 2 in magnitude, corresponds to p-values less than 0.05.\n",
    "\n",
    "The p-value is a function of the observed sample results (a statistic) that is used for testing a statistical hypothesis. Before the test is performed, a threshold value is chosen, called the significance level of the test, traditionally 5% or 1% and denoted as $\\alpha$.  \n",
    "\n",
    "If the p-value is equal to or smaller than the significance level ($\\alpha$), it suggests that the observed data are inconsistent with the assumption that the null hypothesis is true and thus that hypothesis must be rejected (but this does not automatically mean the alternative hypothesis can be accepted as true). When the p-value is calculated correctly, such a test is guaranteed to control the Type I error rate to be no greater than $\\alpha$.\n",
    "\n",
    "from [P-value](https://en.wikipedia.org/wiki/P-value)\n"
   ]
  },
  {
   "cell_type": "markdown",
   "metadata": {},
   "source": [
    "## R-squared $R^2$ \n",
    "\n",
    "[R-squared](https://en.wikipedia.org/wiki/Coefficient_of_determination)   (coefficient of determination) is a statistical measure of how close the data are to the fitted regression line. the coefficient of determination, denoted $R^2$ or $r^2$ and pronounced \"R squared\", is a number that indicates the proportion of the variance in the dependent variable that is predictable from the independent variable(s).\n",
    "\n",
    "R-squared = Explained variation / Total variation\n",
    "\n",
    "R-squared is always between 0 and 100%:\n",
    "\n",
    "* 0% (or 0) indicates that the model explains none of the variability of the response data around its mean.  \n",
    "* 100% (or 1) indicates that the model explains all the variability of the response data around its mean. \n",
    "\n",
    "The higher the R-squared, the better the model fits your data. \n",
    "\n",
    "The better the linear regression fits the data in comparison to the simple average (on the left graph), the closer the value of $R^2$ is to 1. The areas of the blue squares represent the squared residuals with respect to the linear regression. The areas of the red squares represent the squared residuals with respect to the average value.]]\n",
    "\n",
    "A data set has $n$ values marked $y_1$,...,$y_n$ (collectively known as $y_i$ or as a vector $y = [y_1,..., y_n]^T$), each associated with a predicted (or modeled) value $\\hat{y}_{1},...,\\hat{y}_{n}$.\n",
    "\n",
    "Define the residuals as as $e_i = y_i − \\hat{y}_{i}$ (forming a vector $e$).\n",
    "\n",
    "If $\\bar{y}$ is the mean of the observed data:\n",
    "\n",
    "$$\\bar{y}=\\frac{1}{n}\\sum_{i=1}^n y_i $$\n",
    "\n",
    "then the variability of the data set can be measured using three sums of square formulas:\n",
    "\n",
    "* The total sum of squares (proportional to the variance of the data):\n",
    "\n",
    " $$SS_\\text{tot}=\\sum_i (y_i-\\bar{y})^2,$$\n",
    "\n",
    "* The regression sum of squares, also called the explained sum of squares:\n",
    "\n",
    "$$SS_\\text{reg}=\\sum_i (\\hat{y}_{i} -\\bar{y})^2,$$\n",
    "\n",
    "* The sum of squares of residuals, also called the residual sum of squares:\n",
    "\n",
    "$$SS_\\text{res}=\\sum_i (y_i - \\hat{y}_{i})^2=\\sum_i e_i^2\\,$$\n",
    "\n",
    "The most general definition of the coefficient of determination is\n",
    "\n",
    "$$R^2 \\equiv 1 - {SS_{\\rm res}\\over SS_{\\rm tot}}.\\,$$\n",
    "\n",
    "$R^2$ can be thought of as *the proportion of variation in the forecast variable that is accounted for (or explained) by the regression model*.\n",
    "\n",
    "In the definition of $R^2$, $0 \\geq R^2 \\geq 1$ as is similar to he value of $r^2$ (the square of the pearson correlation between $f(x)$ and $x$.\n",
    "\n",
    "### Adjusted $R^2$  \n",
    "\n",
    "\n",
    "The use of an adjusted $R^2$ (also called  $$\\bar R^2 $$, pronounced \"R bar squared\" or another is  $$R^2_{\\text{adj}} $$) is an attempt to take account of the phenomenon of the $R^2$   automatically and spuriously increasing when extra explanatory variables are added to the model. It is a modification due to Theil of $R^2$   that adjusts for the number of explanatory variables in a model relative to the number of data points. The adjusted $R^2$   can be negative, and its value will always be less than or equal to that of $R^2$  . Unlike $R^2$  , the adjusted $R^2$   increases only when the increase in $R^2$ (due to the inclusion of a new explanatory variable) is more than one would expect to see by chance. If a set of explanatory variables with a predetermined hierarchy of importance are introduced into a regression one at a time, with the adjusted $R^2$   computed each time, the level at which adjusted $R^2$   reaches a maximum, and decreases afterward, would be the regression with the ideal combination of having the best fit without excess/unnecessary terms. The adjusted $R^2$   is defined as\n",
    "\n",
    "$$\\bar R^2 = {1-(1-R^2){n-1 \\over n-p-1}} = {R^2-(1-R^2){p \\over n-p-1}} $$\n",
    "\n",
    "where ''p'' is the total number of explanatory variables in the model (not including the constant term), and ''n'' is the sample size.\n",
    "\n",
    "Adjusted $R^2$   can also be written as\n",
    "\n",
    "$$\\bar R^2 = {1-{SS_\\text{res}/\\text{df}_e \\over SS_\\text{tot}/\\text{df}_t}} $$\n",
    "\n",
    "where $df_{t}$ is the degrees of freedom ''n''– 1 of the estimate of the population variance of the dependent variable, and $df_{e}$ is the degrees of freedom ''n'' – ''p'' – 1 of the estimate of the underlying population error variance.\n",
    "\n",
    "The principle behind the adjusted $R^2$   statistic can be seen by rewriting the ordinary $R^2$   as\n",
    "\n",
    "$$R^{2} = {1-{\\textit{VAR}_\\text{res} \\over \\textit{VAR}_\\text{tot}}} $$\n",
    "\n",
    "where  $$\\text{VAR}_\\text{res} = SS_\\text{res}/n $$ and  $$\\text{VAR}_\\text{tot} = SS_\\text{tot}/n $$ are the sample variances of the estimated residuals and the dependent variable respectively, which can be seen as biased estimates of the population variances of the errors and of the dependent variable. These estimates are replaced by statistically unbiased versions: \n",
    "\n",
    "$$\\text{VAR}_\\text{res} = SS_\\text{res}/(n-p-1) $$ and  $$\\text{VAR}_\\text{tot} = SS_\\text{tot}/(n-1) $$.\n",
    "\n",
    "Adjusted $R^2$   does not have the same interpretation as $R^2$  —while $R^2$   is a measure of fit, adjusted $R^2$   is instead a comparative measure of suitability of alternative nested sets of explanators.  As such, care must be taken in interpreting and reporting this statistic. Adjusted $R^2$   is particularly useful in the feature selection stage of model building."
   ]
  },
  {
   "cell_type": "code",
   "execution_count": 90,
   "metadata": {
    "collapsed": false
   },
   "outputs": [],
   "source": [
    "def random_distributions(n=555):\n",
    "  mu, sigma, scale = 5.5, 2*np.sqrt(2), 0.5\n",
    "  a = np.random.normal(mu, sigma, n)\n",
    "  b = np.random.normal(mu, sigma, n)\n",
    "  c = np.linspace(np.amin(a),np.amax(a),n)\n",
    "  d = mu + (sigma*c) + np.random.normal(mu*scale, sigma*scale, n)\n",
    "  df = pd.DataFrame({'A' :a, 'B' :b,'C' :c,'D' :d})\n",
    "  return df"
   ]
  },
  {
   "cell_type": "code",
   "execution_count": 91,
   "metadata": {
    "collapsed": false
   },
   "outputs": [
    {
     "data": {
      "text/html": [
       "<div>\n",
       "<table border=\"1\" class=\"dataframe\">\n",
       "  <thead>\n",
       "    <tr style=\"text-align: right;\">\n",
       "      <th></th>\n",
       "      <th>A</th>\n",
       "      <th>B</th>\n",
       "      <th>C</th>\n",
       "      <th>D</th>\n",
       "    </tr>\n",
       "  </thead>\n",
       "  <tbody>\n",
       "    <tr>\n",
       "      <th>0</th>\n",
       "      <td>5.688438</td>\n",
       "      <td>0.244953</td>\n",
       "      <td>-2.573197</td>\n",
       "      <td>-0.531227</td>\n",
       "    </tr>\n",
       "    <tr>\n",
       "      <th>1</th>\n",
       "      <td>-2.121287</td>\n",
       "      <td>4.900817</td>\n",
       "      <td>-2.540924</td>\n",
       "      <td>-1.327791</td>\n",
       "    </tr>\n",
       "    <tr>\n",
       "      <th>2</th>\n",
       "      <td>3.358113</td>\n",
       "      <td>3.073036</td>\n",
       "      <td>-2.508651</td>\n",
       "      <td>-0.151935</td>\n",
       "    </tr>\n",
       "    <tr>\n",
       "      <th>3</th>\n",
       "      <td>7.003456</td>\n",
       "      <td>5.453028</td>\n",
       "      <td>-2.476378</td>\n",
       "      <td>1.976956</td>\n",
       "    </tr>\n",
       "    <tr>\n",
       "      <th>4</th>\n",
       "      <td>4.368205</td>\n",
       "      <td>11.101915</td>\n",
       "      <td>-2.444104</td>\n",
       "      <td>1.513624</td>\n",
       "    </tr>\n",
       "  </tbody>\n",
       "</table>\n",
       "</div>"
      ],
      "text/plain": [
       "          A          B         C         D\n",
       "0  5.688438   0.244953 -2.573197 -0.531227\n",
       "1 -2.121287   4.900817 -2.540924 -1.327791\n",
       "2  3.358113   3.073036 -2.508651 -0.151935\n",
       "3  7.003456   5.453028 -2.476378  1.976956\n",
       "4  4.368205  11.101915 -2.444104  1.513624"
      ]
     },
     "execution_count": 91,
     "metadata": {},
     "output_type": "execute_result"
    }
   ],
   "source": [
    "n=555\n",
    "df=random_distributions(n)\n",
    "df.head()"
   ]
  },
  {
   "cell_type": "code",
   "execution_count": 92,
   "metadata": {
    "collapsed": false,
    "scrolled": true
   },
   "outputs": [
    {
     "data": {
      "text/html": [
       "<div>\n",
       "<table border=\"1\" class=\"dataframe\">\n",
       "  <thead>\n",
       "    <tr style=\"text-align: right;\">\n",
       "      <th></th>\n",
       "      <th>A</th>\n",
       "      <th>B</th>\n",
       "      <th>C</th>\n",
       "      <th>D</th>\n",
       "    </tr>\n",
       "  </thead>\n",
       "  <tbody>\n",
       "    <tr>\n",
       "      <th>count</th>\n",
       "      <td>555.000000</td>\n",
       "      <td>555.000000</td>\n",
       "      <td>555.000000</td>\n",
       "      <td>555.000000</td>\n",
       "    </tr>\n",
       "    <tr>\n",
       "      <th>mean</th>\n",
       "      <td>5.537502</td>\n",
       "      <td>5.472111</td>\n",
       "      <td>6.366443</td>\n",
       "      <td>26.308488</td>\n",
       "    </tr>\n",
       "    <tr>\n",
       "      <th>std</th>\n",
       "      <td>2.820559</td>\n",
       "      <td>2.791239</td>\n",
       "      <td>5.175276</td>\n",
       "      <td>14.685186</td>\n",
       "    </tr>\n",
       "    <tr>\n",
       "      <th>min</th>\n",
       "      <td>-2.573197</td>\n",
       "      <td>-3.154081</td>\n",
       "      <td>-2.573197</td>\n",
       "      <td>-1.327791</td>\n",
       "    </tr>\n",
       "    <tr>\n",
       "      <th>25%</th>\n",
       "      <td>3.574469</td>\n",
       "      <td>3.632674</td>\n",
       "      <td>1.896623</td>\n",
       "      <td>13.401803</td>\n",
       "    </tr>\n",
       "    <tr>\n",
       "      <th>50%</th>\n",
       "      <td>5.490177</td>\n",
       "      <td>5.517933</td>\n",
       "      <td>6.366443</td>\n",
       "      <td>26.358951</td>\n",
       "    </tr>\n",
       "    <tr>\n",
       "      <th>75%</th>\n",
       "      <td>7.465881</td>\n",
       "      <td>7.193778</td>\n",
       "      <td>10.836262</td>\n",
       "      <td>38.918238</td>\n",
       "    </tr>\n",
       "    <tr>\n",
       "      <th>max</th>\n",
       "      <td>15.306082</td>\n",
       "      <td>14.658561</td>\n",
       "      <td>15.306082</td>\n",
       "      <td>53.722412</td>\n",
       "    </tr>\n",
       "  </tbody>\n",
       "</table>\n",
       "</div>"
      ],
      "text/plain": [
       "                A           B           C           D\n",
       "count  555.000000  555.000000  555.000000  555.000000\n",
       "mean     5.537502    5.472111    6.366443   26.308488\n",
       "std      2.820559    2.791239    5.175276   14.685186\n",
       "min     -2.573197   -3.154081   -2.573197   -1.327791\n",
       "25%      3.574469    3.632674    1.896623   13.401803\n",
       "50%      5.490177    5.517933    6.366443   26.358951\n",
       "75%      7.465881    7.193778   10.836262   38.918238\n",
       "max     15.306082   14.658561   15.306082   53.722412"
      ]
     },
     "execution_count": 92,
     "metadata": {},
     "output_type": "execute_result"
    }
   ],
   "source": [
    "df.describe()"
   ]
  },
  {
   "cell_type": "code",
   "execution_count": 93,
   "metadata": {
    "collapsed": false
   },
   "outputs": [
    {
     "data": {
      "image/png": "[encoded data removed]",
      "text/plain": [
       "<matplotlib.figure.Figure at 0x11c1eae10>"
      ]
     },
     "metadata": {},
     "output_type": "display_data"
    }
   ],
   "source": [
    "X = df[\"A\"]\n",
    "y = df[\"B\"]\n",
    "fit= np.polyfit(X, y, 1)\n",
    "fit_fn = np.poly1d(fit)\n",
    "plt.plot(X,y, 'yo', X, fit_fn(X), '--k')\n",
    "x2 = np.linspace(np.amin(X),np.amax(X),n)\n",
    "y2 = np.ones(n)*np.mean(y)\n",
    "plt.plot(x2, y2, lw=3, color=\"g\")\n",
    "plt.show()"
   ]
  },
  {
   "cell_type": "markdown",
   "metadata": {},
   "source": [
    "SSR is the \"regression sum of squares\" and quantifies how far the estimated sloped regression line, $\\hat{y}_{i}$, is from the horizontal \"no relationship line,\" the sample mean or $\\bar{y}$ (the straight green line).\n",
    "\n",
    "$$SS_\\text{regression}=\\sum_i (\\hat{y}_{i} -\\bar{y})^2,$$\n",
    "\n",
    "Note:  $\\hat{y}_{i}$ is the predicted value on the regression line.\n",
    "\n",
    "In a poor fit $SS_\\text{regression}$ is small in relation to the variance around $\\bar{y}$ (i.e. the total variance)."
   ]
  },
  {
   "cell_type": "code",
   "execution_count": 94,
   "metadata": {
    "collapsed": false,
    "scrolled": true
   },
   "outputs": [
    {
     "data": {
      "image/png": "[encoded data removed]",
      "text/plain": [
       "<matplotlib.figure.Figure at 0x11b876fd0>"
      ]
     },
     "metadata": {},
     "output_type": "display_data"
    }
   ],
   "source": [
    "X = df[\"C\"]\n",
    "y = df[\"D\"]\n",
    "fit= np.polyfit(X, y, 1)\n",
    "fit_fn = np.poly1d(fit)\n",
    "plt.plot(X,y, 'yo', X, fit_fn(X), '--k')\n",
    "x2 = np.linspace(np.amin(X),np.amax(X),n)\n",
    "y2 = np.ones(n)*np.mean(y)\n",
    "plt.plot(x2, y2, lw=3, color=\"g\")\n",
    "plt.show()"
   ]
  },
  {
   "cell_type": "markdown",
   "metadata": {},
   "source": [
    "SSE is the \"error sum of squares\" or \"least square error\" and quantifies how much the data points, $y_i$, vary around the estimated regression line, $\\hat{y}_{i}$.\n",
    "\n",
    "The sum of squares of residuals, also called the residual sum of squares, error sum of squares and least square error:\n",
    "\n",
    "$$SS_\\text{residuals}=\\sum_i (y_i - \\hat{y}_{i})^2=\\sum_i e_i^2\\,$$\n",
    "\n",
    "NOTE: That if the $SS_\\text{residuals}$ is small, it is good. One wants the residual error to be small.\n",
    "\n",
    "SSTO ($SS_\\text{total}$) is the \"total sum of squares\" and quantifies how much the data points, $y_i$, vary around their mean, $\\bar{y}$.\n",
    "\n",
    "$$SS_\\text{total}=\\sum_i (y_i - \\bar{y}_{i})^2=\\sum_i e_i^2\\,$$\n",
    "\n",
    "Note that $SS_\\text{total} = SS_\\text{regression} + SS_\\text{residuals}$.\n",
    "\n",
    "The most general definition of the coefficient of determination is\n",
    "\n",
    "$$R^2 \\equiv {SS_{\\rm regression}\\over SS_{\\rm total}}  \\equiv 1 - {SS_{\\rm residuals}\\over SS_{\\rm total}} $$\n",
    "\n",
    "Therefore when $SS_{\\rm residuals}$ is small in relation to $SS_{\\rm total}$ then $R^2$ will be high (near 1).\n",
    "\n",
    "\n"
   ]
  },
  {
   "cell_type": "markdown",
   "metadata": {},
   "source": [
    "## AIC, BIC, Mallows's Cp\n",
    "\n",
    "Beside's $R^2$ there are many tests used to assess the fit of a regression model that has been estimated using ordinary least squares.  $R^2$ always get smaller as more variables are added to a model, which is a form of overfitting.  Some analysts used other statistical tests to assess the fit of a regression model. The most common being the *Akaike information criterion (AIC)*, the *Bayesian information criterion (BIC)*, and \n",
    "\n",
    "\n",
    "_Akaike information criterion_\n",
    "\n",
    "The Akaike information criterion (AIC) is a measure of the relative quality of statistical models for a given set of data. Given a collection of models for the data, AIC estimates the quality of each model, relative to each of the other models. Hence, AIC provides a means for model selection.  \n",
    "\n",
    "AIC is founded on information theory: it offers a relative estimate of the information lost when a given model is used to represent the process that generates the data. In doing so, it deals with the trade-off between the goodness of fit of the model and the complexity of the model.\n",
    "\n",
    "- from [Akaike information criterion - Wikipedia](https://en.wikipedia.org/wiki/Akaike_information_criterion)\n",
    "\n",
    "\n",
    "_Bayesian information criterion (BIC)_\n",
    "\n",
    "In statistics, the Bayesian information criterion (BIC) or Schwarz criterion (also SBC, SBIC) is a criterion for model selection among a finite set of models; the model with the lowest BIC is preferred. It is based, in part, on the likelihood function and it is closely related to the Akaike information criterion (AIC).  \n",
    "\n",
    "When fitting models, it is possible to increase the likelihood by adding parameters, but doing so may result in overfitting. Both BIC and AIC resolve this problem by introducing a penalty term for the number of parameters in the model; the penalty term is larger in BIC than in AIC. The BIC was developed by Gideon E. Schwarz and published in a 1978 paper, where he gave a Bayesian argument for adopting it.  \n",
    "\n",
    "- from [Bayesian information criterion (BIC) - Wikipedia](https://en.wikipedia.org/wiki/Bayesian_information_criterion) \n",
    "\n",
    "\n",
    "_Mallows's Cp_\n",
    "\n",
    "In statistics, Mallows's Cp, named for Colin Lingwood Mallows, is used to assess the fit of a regression model that has been estimated using ordinary least squares. It is applied in the context of model selection, where a number of predictor variables are available for predicting some outcome, and the goal is to find the best model involving a subset of these predictors.\n",
    "\n",
    "- from [Mallows's Cp- Wikipedia](https://en.wikipedia.org/wiki/Mallows%27s_Cp) \n",
    "\n",
    "\n",
    "We won't discuss which to use (although R makes it easy to use them all!). Rather just point out that they are all used to assess the fit of a regression model that has been estimated using ordinary least squares. Also note that high (i.e close to 1) is \"good\" for $R^2$ and low (i.e close to 0) is \"good\" for AIC, BIC, Mallows's Cp. \n",
    "\n",
    "\n",
    "Test          | \"Good\"\n",
    "------------- | -------------\n",
    "$R^2$         | High\n",
    "AIC           | Low\n",
    "BIC           | Low\n",
    "Mallows's Cp  | Low\n",
    "\n"
   ]
  },
  {
   "cell_type": "markdown",
   "metadata": {},
   "source": [
    "## Evaluating the regression model\n",
    "\n",
    "To evaluate a regression model we ask the following questions:\n",
    "\n",
    "A. Does it make sense?  \n",
    "B. Is the \"true\" $\\beta_1$ significantly different from  $\\beta_1 = 0$?  \n",
    "C. Are any assumptions of the model violated?  \n",
    "D. How tightly the parameter estimation fits the residuals? (i.e. $R^2$, AIC, BIC) \n",
    "\n",
    "\n",
    "## Hypothesis testing: Is the \"true\" $\\beta_1 \\neq 0$?\n",
    "\n",
    "Recall that when the slope $\\beta_1 = 0$ we have no relationship between the outcome and predictors.\n",
    "\n",
    "Hypothesis tests assume the thing you want to disprove, and then to look for evidence that the assumption is wrong. In this case, we assume that there is no relationship between $x$ and $f(x)$. This is called the *null hypothesis* and is stated as\n",
    "\n",
    "$$H_0: \\beta_1 = 0$$\n",
    "\n",
    "Evidence against this hypothesis is provided by the value of $\\hat{\\beta}_1$, the slope estimated from the data. If $\\hat{\\beta}_1$ is very different from zero, we conclude that the null hypothesis is incorrect and that the evidence suggests there really is a relationship between $x$ and $f(x)$.\n",
    "\n",
    "There are many hypothesis tests that can be used to test whether the \"true\" $\\beta_1 \\neq 0$:\n",
    "\n",
    "* Student’s T-Tests\n",
    "* One-Sample T-Test\n",
    "* Two-Sample T-Test\n",
    "* Paired T-Test\n",
    "* Wilcoxon Rank-Sum Test\n",
    "* Analysis of Variance (ANOVA)\n",
    "* Kruskal-Wallis Test\n",
    "* Multiple Comparison Methods\n",
    "* Tukey’s HSD Test\n",
    "* Other Pairwise T-Tests\n",
    "* Pairwise Wilcoxon Rank-Sum Tests\n",
    "* Hypothesis Tests for Variance\n",
    "* F-Test\n",
    "* Bartlett’s Test\n",
    "\n",
    "## P-value\n",
    "\n",
    "To determine how big the difference between $\\hat{\\beta}_1$ (the \"true\"  $\\beta_1$) and $\\beta_1$ must be before we would reject the null hypothesis, we calculate the probability of obtaining a value of $\\beta_1$ as large as we have calculated if the null hypothesis were true. This probability is known as the *P-value*.\n",
    "\n",
    "In statistics, the p-value is a function of the observed sample results (a statistic) that is used for testing a statistical hypothesis. Before the test is performed, a threshold value is chosen, called the significance level of the test, traditionally 5% or 1% and denoted as $\\alpha$.  \n",
    "\n",
    "If the p-value is equal to or smaller than the significance level ($\\alpha$), it suggests that the observed data are inconsistent with the assumption that the null hypothesis is true and thus that hypothesis must be rejected (but this does not automatically mean the alternative hypothesis can be accepted as true). When the p-value is calculated correctly, such a test is guaranteed to control the Type I error rate to be no greater than $\\alpha$.\n",
    "\n",
    "from [P-value](https://en.wikipedia.org/wiki/P-value)\n",
    "\n",
    "## Confidence intervals\n",
    "\n",
    "In statistics, a confidence interval (CI) is a type of interval estimate of a population parameter. It provides an interval estimate for lower or upper confidence bounds. For $\\beta_1$, usually referred to as a *confidence interval* and is typically +/-0.5% (a 99% confidence interval),+/-1% (a 98% confidence interval),+/-2.5% (a 95% confidence interval) or +/-5% (a 90% confidence interval). The lower and upper confidence bounds need not be equal, and they can be any number such that the confidence interval not exceed 100%.\n",
    "\n",
    "\n",
    "## Residual plots\n",
    "\n",
    "The error term $\\varepsilon_i$ has the following assumptions:\n",
    "\n",
    "* have mean zero; otherwise the forecasts will be systematically biased.\n",
    "* statistical independence of the errors (in particular, no correlation between consecutive errors in the case of time series data).\n",
    "* homoscedasticity (constant variance) of the errors.\n",
    "* normality of the error distribution.  \n",
    "\n",
    "Plotting the residuals can asses whether (or how much) these assumptions were violated. We will use R to generate residual plots in lesson 2.\n",
    "\n",
    "## Outliers\n",
    "\n",
    "Observations that take on extreme values compared to the majority can strongly effect the least squares estimators:\n",
    "\n",
    "$$\\hat{\\beta}_1=\\frac{ \\sum_{i=1}^{N}(y_i-\\bar{y})(x_i-\\bar{x})}{\\sum_{i=1}^{N}(x_i-\\bar{x})^2} $$ \n",
    "\n",
    "and\n",
    "\n",
    "$$\\hat{\\beta}_0=\\bar{y}-\\hat{\\beta}_1\\bar{x}, $$ \n",
    "\n",
    "Plotting and occasionally removing outliers and refitting is part of the modeling process.  \n",
    "\n",
    "\n",
    "## Standard error of the regression\n",
    "\n",
    "How well the model has fitted the data can be thought of as how \"tightly\" the date fit the regression line. That is, the spread, variance or standard deviation of the residuals.This spread between fitted and actual values is usually known as the *standard error of the regression*:\n",
    "\n",
    "$$s_e=\\sqrt{\\frac{1}{N-2}\\sum_{i=1}^{N}{e_i^2}}.$$\n",
    "\n",
    "Here, we divide by $N-2$ because we have estimated two parameters (the intercept and slope) in computing the residuals. Normally, we only need to estimate the mean (i.e., one parameter) when computing a standard deviation. The divisor is always $N$ minus the number of parameters estimated in the calculation.\n",
    "\n",
    "Note that we can (and should) visualize the predicted vs actual values as this gives more information about the homoscedasticity (constant variance) of the errors.\n",
    "\n",
    "\n",
    "## Forecasting with regression\n",
    "\n",
    "Forecasts from a simple linear model are obtained using the equation $$\\hat{f(x)}=\\hat{\\beta}_0+\\hat{\\beta}_1 x $$ where $x$ is the value of the predictor for which we require a forecast.\n",
    "\n",
    "Given a new unobserved x we can easily predict $f(x)$ given our estimates $\\beta_0 and \\beta_1$\n"
   ]
  },
  {
   "cell_type": "markdown",
   "metadata": {},
   "source": [
    "## F-statistic\n",
    "\n",
    "An F-test is any statistical test in which the test statistic has an F-distribution under the null hypothesis. It is most often used when comparing statistical models that have been fitted to a data set, in order to identify the model that best fits the population from which the data were sampled. Exact \"F-tests\" mainly arise when the models have been fitted to the data using least squares.\n",
    "\n",
    "In a sum of squares due to lack of fit is one of the components of a partition of the sum of squares in an analysis of variance, used in the numerator in an F-test of the null hypothesis that says that a proposed model fits well.\n",
    "\n",
    "In order for the lack-of-fit sum of squares to differ from the  Residual sum of squares, there must be more than one value of the response variable for at least one of the values of the set of predictor variables.  For example, consider fitting a line\n",
    "\n",
    "$$ y = \\alpha x + \\beta \\, $$\n",
    "\n",
    "by the method of least squares.  One takes as estimates of ''α'' and ''β'' the values that minimize the sum of squares of residuals, i.e., the sum of squares of the differences between the observed ''y''-value and the fitted ''y''-value.  To have a lack-of-fit sum of squares that differs from the residual sum of squares, one must observe more than one ''y''-value for each of one or more of the ''x''-values.  One then partitions the \"sum of squares due to error\", i.e., the sum of squares of residuals, into two components:\n",
    "\n",
    "$$\n",
    "\\begin{align}\n",
    "F & = \\frac{ \\text{lack-of-fit sum of squares} /\\text{degrees of freedom} }{\\text{pure-error sum of squares} / \\text{degrees of freedom} } \\\\[8pt]\n",
    "& = \\frac{\\left.\\sum_{i=1}^n n_i \\left( \\overline Y_{i\\bullet} - \\widehat Y_i \\right)^2\\right/ (n-p)}{\\left.\\sum_{i=1}^n \\sum_{j=1}^{n_i} \\left(Y_{ij} - \\overline Y_{i\\bullet}\\right)^2 \\right/ (N - n)}\n",
    "\\end{align}\n",
    "$$\n",
    "\n",
    "has an *F-distribution* with the corresponding number of degrees of freedom in the numerator and the denominator, provided that the model is correct. If the model is wrong, then the probability distribution of the denominator is still as stated above, and the numerator and denominator are still independent.  But the numerator then has a *noncentral chi-squared distribution*, and consequently the quotient as a whole has a *non-central F-distribution*. The F-distribution, also known as Snedecor's F distribution or the Fisher–Snedecor distribution (after Ronald Fisher and George W. Snedecor) is a continuous probability distribution that arises frequently as the null distribution of a test statistic, most notably in the analysis of variance.\n",
    "\n",
    "The assumptions of normal distribution of errors and independence can be shown to entail that this lack-of-fit test is the *likelihood-ratio test* of this null hypothesis.\n"
   ]
  },
  {
   "cell_type": "markdown",
   "metadata": {},
   "source": [
    "## Likelihood and Negative Log Likelihood\n",
    "\n",
    "The Log Likelihood asks the question if the data were generated by the model, what parameters were most likely to have been used?  In linear regression problems we need to make the assumption that the feature vectors are all independent and identically distributed (IID). "
   ]
  },
  {
   "cell_type": "markdown",
   "metadata": {},
   "source": [
    "## Degrees of freedom\n",
    "\n",
    "The degrees of freedom is the number of values in the final calculation of a statistic that are free to vary.\n",
    "\n",
    "The number of independent ways by which a dynamic system can move, without violating any constraint imposed on it, is called number of degrees of freedom. In other words, the number of degrees of freedom can be defined as the minimum number of independent coordinates that can specify the position of the system completely.\n",
    "\n",
    "The degrees of freedom equals the number of observations minus the number of parameters estimated. In regression, a parameter is estimated for every term in the model, and and each one consumes a degree of freedom. Therefore, the greater the number of terms in a multiple regression model reduces the degrees of freedom available to estimate the parameters variance. \n"
   ]
  },
  {
   "cell_type": "markdown",
   "metadata": {},
   "source": [
    "## Prob(Omnibus)\n",
    "\n",
    "Omnibus tests are a kind of statistical test. They test whether the explained variance in a set of data is significantly greater than the unexplained variance, overall. \n",
    "\n",
    "In Multiple Regression the omnibus test is an ANOVA F test on all the coefficients, that is equivalent to the multiple correlations R Square F test.\n",
    "\n",
    "The omnibus F test is an overall test that examines model fit, thus rejecting the null hypothesis implies that the suggested linear model is not significally suitable to the data.\n",
    "In other words, none of the independent variables has explored as significant in explaining the dependant variable variation.\n",
    "These hypotheses examine model fit of the most common model: \n",
    "\n",
    "$$\n",
    "y_{i}=β_{0} + β_{1} x_{i1} + ... +β_{k} x_{ik} + ε_{ij}\n",
    "$$\n",
    "\n",
    "estimated by $E(y_{i}|x_{i1}....x_{ik})=β_{0}+β_{1}x_{i1}+...+β_{k}x_{ik}\n",
    ",where E(y_{i}|x_{i1}....x_{ik})$ is the dependant variable explanatory for the $i-th$ observation, $x_{ij}$ is the $j-th$ independent (explanatory) variable, $β_{j}$ is the $j-th$ coefficient of $x_{ij}$ and indicates its influence on the dependant variable y upon its partial correlation with y.\n",
    "\n",
    "The F statistics of the omnibus test is: \n",
    "\n",
    "$$ F = \\frac{{\\displaystyle \\sum_{i=1}^n \\left(\\widehat {y_i}-\\bar {y}\\right)^2}/{k}} {{\\displaystyle {\\sum_{j=1}^{k}} {\\sum_{i=1}^{n_j}} \\left(y_{ij}-\\widehat {y_i}\\right)^2}/{(n-k-1)}}$$\n",
    " \n",
    "Whereas, $ȳ$ is the overall sample mean for$ y_{i}, ŷ_{i}$ is the regression estimated mean for specific set of k independent (explanatory) variables and n is the sample size.\n",
    "\n",
    "The F statistic is distributed $F_{ (k,n-k-1),(α)}$ under assuming of null hypothesis and normality assumption.\n",
    "\n",
    "#### Model Assumptions in Multiple Linear Regression    \n",
    "\n",
    "* Random sampling.   \n",
    "* Normal or approximately normal distribution of the errors $e_{ij}$.   \n",
    "* The errors  $e_{ij}$ explanatory equals zero, $E(e_{ij})=0$.    \n",
    "* Equal variances of the errors $e_{ij}$. Which it's omnibus F test ( like Levene F test).   \n",
    "* No Multi-collinearity between explanatory/predictor variables' meaning: $cov(x_{i},x_{j})=0$ where is $i≠j$, for any $i$ or $j$.    \n",
    "\n",
    "#### The omnibus F test regarding the hypotheses over the coefficients   \n",
    "$$\n",
    "H_{0}: β_{1}= β_{2}=….= β_{k} = 0\n",
    "$$\n",
    "$$\n",
    "H_{1}: \\quad at \\quad least \\quad one \\quad pair \\quad  β_{j}≠ β_{j'}\n",
    "$$\n",
    "The omnibus test examines whether there are any regression coefficients that are significantly non-zero, except for the coefficient $β0$. The $β0$ coefficient goes with the constant predictor and is usually not of interest. \n",
    "\n"
   ]
  },
  {
   "cell_type": "markdown",
   "metadata": {},
   "source": [
    "## Durbin–Watson statistic\n",
    "\n",
    "The Durbin–Watson statistic is a test statistic used to detect the presence of autocorrelation (a relationship between values separated from each other by a given time lag) in the residuals (prediction errors) from a regression analysis. \n",
    "\n",
    "### Computing and interpreting the Durbin–Watson statistic  \n",
    "\n",
    "If $e_{t}$ is the *errors and residuals* associated with the observation at time $t$, then the *test statistic* is\n",
    "\n",
    "$$d = {\\sum_{t=2}^T (e_t - e_{t-1})^2 \\over {\\sum_{t=1}^T e_t^2}},$$\n",
    "\n",
    "where $T$ is the number of observations. Note that if one has a lengthy sample, then this can be linearly mapped to the Pearson correlation of the time-series data with its lags. Since $d$ is approximately equal to 2(1&nbsp;−&nbsp;$r$), where $r$ is the sample autocorrelation of the residuals, $d$&nbsp;=&nbsp;2 indicates no autocorrelation. The value of $d$ always lies between 0 and 4. If the Durbin–Watson statistic is substantially less than 2, there is evidence of positive serial correlation. As a rough rule of thumb, if Durbin–Watson is less than 1.0, there may be cause for alarm. Small values of $d$ indicate successive error terms are, on average, close in value to one another, or positively correlated. If $d$&nbsp;>&nbsp;2, successive error terms are, on average, much different in value from one another, i.e., negatively correlated. In regressions, this can imply an underestimation of the level of *statistical significance*.\n",
    "\n",
    "To test for *positive autocorrelation* at significance $α$, the test statistic $d$ is compared to lower and upper critical values ($d_{L,α}$ and $d_{U,α}$):   \n",
    "\n",
    " * If $d$ < $d_{L,α}$, there is statistical evidence that the error terms are positively autocorrelated.    \n",
    " *  If $d$ > $d_{U,α}$, there is $'no$' statistical evidence that the error terms are positively autocorrelated.    \n",
    " *  If $d_{L,α}$ < $d$ < $d_{U,α}$, the test is inconclusive.    \n",
    "\n",
    "Positive serial correlation is serial correlation in which a positive error for one observation increases the chances of a positive error for another observation.\n",
    "\n",
    "To test for *negative autocorrelation* at significance $α$, the test statistic (4&nbsp;−&nbsp;$d$) is compared to lower and upper critical values ($d_{L,α}$ and $d_{U,α}$):\n",
    "\n",
    " * If (4 − $d$) < $d_{L,α}$, there is statistical evidence that the error terms are negatively autocorrelated.  \n",
    " * If (4&nbsp;−&nbsp;$d$) > $d_{U,α}$, there is $'no$' statistical evidence that the error terms are negatively autocorrelated.  \n",
    " * If $d_{L,α}$ < (4 − $d$) < $d_{U,α}$, the test is inconclusive.  \n",
    "\n",
    "Negative serial correlation implies that a positive error for one observation increases the chance of a negative error for another observation and a negative error for one observation increases the chances of a positive error for another.\n",
    "\n",
    "The critical values, $d_{L,α}$ and $d_{U,α}$, vary by level of significance ($α$), the number of observations, and the number of predictors in the regression equation. Their derivation is complex—statisticians typically obtain them from the appendices of statistical texts.\n"
   ]
  },
  {
   "cell_type": "markdown",
   "metadata": {},
   "source": [
    "## Jarque–Bera test\n",
    "\n",
    "The *Jarque–Bera test* is a *goodness-of-fit* test of whether sample data have the *skewness* and *kurtosis* matching a *normal distribution*. The test is named after *Carlos Jarque* and *Anil K. Bera*. The *test statistic* *JB* is defined as\n",
    "\n",
    " $$\n",
    "    \\mathit{JB} = \\frac{n-k+1}{6} \\left( S^2 + \\frac14 (C-3)^2 \\right)\n",
    "  $$\n",
    "\n",
    "where *n* is the number of observations (or degrees of freedom in general); *S* is the sample *skewness*, *C* is the sample *kurtosis*, and k is the number of regressors:\n",
    "\n",
    " $$\n",
    "     S = \\frac{ \\hat{\\mu}_3 }{ \\hat{\\sigma}^3 }\n",
    "        = \\frac{\\frac1n \\sum_{i=1}^n (x_i-\\bar{x})^3} {\\left(\\frac1n \\sum_{i=1}^n (x_i-\\bar{x})^2 \\right)^{3/2}} ,\n",
    "$$\n",
    " $$\n",
    " C = \\frac{ \\hat{\\mu}_4 }{ \\hat{\\sigma}^4 }\n",
    "    = \\frac{\\frac1n \\sum_{i=1}^n (x_i-\\bar{x})^4} {\\left(\\frac1n \\sum_{i=1}^n (x_i-\\bar{x})^2 \\right)^{2}} ,\n",
    "$$\n",
    "\n",
    "where $\\hat{\\mu}_3$ and $\\hat{\\mu}_4$ are the estimates of third and fourth *central moment*s, respectively, $\\bar{x}$ is the sample *mean*, and $\\hat{\\sigma}^2$ is the estimate of the second central moment, the *variance*.\n",
    "\n",
    "If the data comes from a normal distribution, the *JB* statistic *asymptotically* has a *chi-squared distribution* with two *degrees of freedom*, so the statistic can be used to test the hypothesis that the data are from a *normal distribution*. The *null hypothesis* is a joint hypothesis of the skewness being zero and the *excess kurtosis* being zero. Samples from a normal distribution have an expected skewness of 0 and an expected excess kurtosis of 0 (which is the same as a kurtosis of 3). As the definition of *JB* shows, any deviation from this increases the JB statistic.\n",
    "\n",
    "For small samples the chi-squared approximation is overly sensitive, often rejecting the null hypothesis when it is true. Furthermore, the distribution of **p*-values* departs from a uniform distribution and becomes a right-skewed uni-modal distribution, especially for small *p*-values. This leads to a large *Type I error* rate. The table below shows some *p*-values approximated by a chi-squared distribution that differ from their true alpha levels for small samples.\n",
    "\n",
    "_Calculated *p*-values equivalents to true alpha levels at given sample sizes_   \n",
    "\n",
    "| True α level | 20     | 30     | 50     | 50     | 100    |\n",
    "|--------------|--------|--------|--------|--------|--------|\n",
    "| 0.1          | 0.307  | 0.252  | 0.201  | 0.183  | 0.1560 |\n",
    "| 0.05         | 0.1461 | 0.109  | 0.079  | 0.067  | 0.062  |\n",
    "| 0.025        | 0.051  | 0.0303 | 0.020  | 0.016  | 0.0168 |\n",
    "| 0.01         | 0.0064 | 0.0033 | 0.0015 | 0.0012 | 0.0002 |\n",
    "\n"
   ]
  },
  {
   "cell_type": "markdown",
   "metadata": {},
   "source": [
    "## Formula syntax"
   ]
  },
  {
   "cell_type": "code",
   "execution_count": 95,
   "metadata": {
    "collapsed": false
   },
   "outputs": [
    {
     "data": {
      "text/html": [
       "<div>\n",
       "<table border=\"1\" class=\"dataframe\">\n",
       "  <thead>\n",
       "    <tr style=\"text-align: right;\">\n",
       "      <th></th>\n",
       "      <th>Family</th>\n",
       "      <th>Father</th>\n",
       "      <th>Mother</th>\n",
       "      <th>Gender</th>\n",
       "      <th>Height</th>\n",
       "      <th>Kids</th>\n",
       "    </tr>\n",
       "  </thead>\n",
       "  <tbody>\n",
       "    <tr>\n",
       "      <th>0</th>\n",
       "      <td>1</td>\n",
       "      <td>78.5</td>\n",
       "      <td>67.0</td>\n",
       "      <td>M</td>\n",
       "      <td>73.2</td>\n",
       "      <td>4</td>\n",
       "    </tr>\n",
       "    <tr>\n",
       "      <th>1</th>\n",
       "      <td>1</td>\n",
       "      <td>78.5</td>\n",
       "      <td>67.0</td>\n",
       "      <td>F</td>\n",
       "      <td>69.2</td>\n",
       "      <td>4</td>\n",
       "    </tr>\n",
       "    <tr>\n",
       "      <th>2</th>\n",
       "      <td>1</td>\n",
       "      <td>78.5</td>\n",
       "      <td>67.0</td>\n",
       "      <td>F</td>\n",
       "      <td>69.0</td>\n",
       "      <td>4</td>\n",
       "    </tr>\n",
       "    <tr>\n",
       "      <th>3</th>\n",
       "      <td>1</td>\n",
       "      <td>78.5</td>\n",
       "      <td>67.0</td>\n",
       "      <td>F</td>\n",
       "      <td>69.0</td>\n",
       "      <td>4</td>\n",
       "    </tr>\n",
       "    <tr>\n",
       "      <th>4</th>\n",
       "      <td>2</td>\n",
       "      <td>75.5</td>\n",
       "      <td>66.5</td>\n",
       "      <td>M</td>\n",
       "      <td>73.5</td>\n",
       "      <td>4</td>\n",
       "    </tr>\n",
       "  </tbody>\n",
       "</table>\n",
       "</div>"
      ],
      "text/plain": [
       "  Family  Father  Mother Gender  Height  Kids\n",
       "0      1    78.5    67.0      M    73.2     4\n",
       "1      1    78.5    67.0      F    69.2     4\n",
       "2      1    78.5    67.0      F    69.0     4\n",
       "3      1    78.5    67.0      F    69.0     4\n",
       "4      2    75.5    66.5      M    73.5     4"
      ]
     },
     "execution_count": 95,
     "metadata": {},
     "output_type": "execute_result"
    }
   ],
   "source": [
    "# Load the data into a pandas dataframe\n",
    "galton = pd.read_csv('http://www.math.uah.edu/stat/data/Galton.csv')\n",
    "galton.head()"
   ]
  },
  {
   "cell_type": "code",
   "execution_count": 96,
   "metadata": {
    "collapsed": false
   },
   "outputs": [
    {
     "data": {
      "text/html": [
       "<table class=\"simpletable\">\n",
       "<caption>OLS Regression Results</caption>\n",
       "<tr>\n",
       "  <th>Dep. Variable:</th>         <td>Height</td>      <th>  R-squared:         </th> <td>   0.076</td>\n",
       "</tr>\n",
       "<tr>\n",
       "  <th>Model:</th>                   <td>OLS</td>       <th>  Adj. R-squared:    </th> <td>   0.075</td>\n",
       "</tr>\n",
       "<tr>\n",
       "  <th>Method:</th>             <td>Least Squares</td>  <th>  F-statistic:       </th> <td>   73.51</td>\n",
       "</tr>\n",
       "<tr>\n",
       "  <th>Date:</th>             <td>Mon, 17 Apr 2017</td> <th>  Prob (F-statistic):</th> <td>4.35e-17</td>\n",
       "</tr>\n",
       "<tr>\n",
       "  <th>Time:</th>                 <td>23:28:14</td>     <th>  Log-Likelihood:    </th> <td> -2384.3</td>\n",
       "</tr>\n",
       "<tr>\n",
       "  <th>No. Observations:</th>      <td>   898</td>      <th>  AIC:               </th> <td>   4773.</td>\n",
       "</tr>\n",
       "<tr>\n",
       "  <th>Df Residuals:</th>          <td>   896</td>      <th>  BIC:               </th> <td>   4782.</td>\n",
       "</tr>\n",
       "<tr>\n",
       "  <th>Df Model:</th>              <td>     1</td>      <th>                     </th>     <td> </td>   \n",
       "</tr>\n",
       "<tr>\n",
       "  <th>Covariance Type:</th>      <td>nonrobust</td>    <th>                     </th>     <td> </td>   \n",
       "</tr>\n",
       "</table>\n",
       "<table class=\"simpletable\">\n",
       "<tr>\n",
       "      <td></td>         <th>coef</th>     <th>std err</th>      <th>t</th>      <th>P>|t|</th> <th>[95.0% Conf. Int.]</th> \n",
       "</tr>\n",
       "<tr>\n",
       "  <th>Intercept</th> <td>   39.1104</td> <td>    3.227</td> <td>   12.120</td> <td> 0.000</td> <td>   32.777    45.444</td>\n",
       "</tr>\n",
       "<tr>\n",
       "  <th>Father</th>    <td>    0.3994</td> <td>    0.047</td> <td>    8.574</td> <td> 0.000</td> <td>    0.308     0.491</td>\n",
       "</tr>\n",
       "</table>\n",
       "<table class=\"simpletable\">\n",
       "<tr>\n",
       "  <th>Omnibus:</th>       <td>25.507</td> <th>  Durbin-Watson:     </th> <td>   1.342</td>\n",
       "</tr>\n",
       "<tr>\n",
       "  <th>Prob(Omnibus):</th> <td> 0.000</td> <th>  Jarque-Bera (JB):  </th> <td>  13.383</td>\n",
       "</tr>\n",
       "<tr>\n",
       "  <th>Skew:</th>          <td> 0.080</td> <th>  Prob(JB):          </th> <td> 0.00124</td>\n",
       "</tr>\n",
       "<tr>\n",
       "  <th>Kurtosis:</th>      <td> 2.424</td> <th>  Cond. No.          </th> <td>1.94e+03</td>\n",
       "</tr>\n",
       "</table>"
      ],
      "text/plain": [
       "<class 'statsmodels.iolib.summary.Summary'>\n",
       "\"\"\"\n",
       "                            OLS Regression Results                            \n",
       "==============================================================================\n",
       "Dep. Variable:                 Height   R-squared:                       0.076\n",
       "Model:                            OLS   Adj. R-squared:                  0.075\n",
       "Method:                 Least Squares   F-statistic:                     73.51\n",
       "Date:                Mon, 17 Apr 2017   Prob (F-statistic):           4.35e-17\n",
       "Time:                        23:28:14   Log-Likelihood:                -2384.3\n",
       "No. Observations:                 898   AIC:                             4773.\n",
       "Df Residuals:                     896   BIC:                             4782.\n",
       "Df Model:                           1                                         \n",
       "Covariance Type:            nonrobust                                         \n",
       "==============================================================================\n",
       "                 coef    std err          t      P>|t|      [95.0% Conf. Int.]\n",
       "------------------------------------------------------------------------------\n",
       "Intercept     39.1104      3.227     12.120      0.000        32.777    45.444\n",
       "Father         0.3994      0.047      8.574      0.000         0.308     0.491\n",
       "==============================================================================\n",
       "Omnibus:                       25.507   Durbin-Watson:                   1.342\n",
       "Prob(Omnibus):                  0.000   Jarque-Bera (JB):               13.383\n",
       "Skew:                           0.080   Prob(JB):                      0.00124\n",
       "Kurtosis:                       2.424   Cond. No.                     1.94e+03\n",
       "==============================================================================\n",
       "\n",
       "Warnings:\n",
       "[1] Standard Errors assume that the covariance matrix of the errors is correctly specified.\n",
       "[2] The condition number is large, 1.94e+03. This might indicate that there are\n",
       "strong multicollinearity or other numerical problems.\n",
       "\"\"\""
      ]
     },
     "execution_count": 96,
     "metadata": {},
     "output_type": "execute_result"
    }
   ],
   "source": [
    "# requires from statsmodels.formula.api import ols\n",
    "father_model = ols(\"Height ~ Father\", data=galton).fit()\n",
    "father_model.summary()"
   ]
  },
  {
   "cell_type": "code",
   "execution_count": 97,
   "metadata": {
    "collapsed": false
   },
   "outputs": [
    {
     "data": {
      "text/html": [
       "<table class=\"simpletable\">\n",
       "<caption>OLS Regression Results</caption>\n",
       "<tr>\n",
       "  <th>Dep. Variable:</th>         <td>Height</td>      <th>  R-squared:         </th> <td>   0.997</td> \n",
       "</tr>\n",
       "<tr>\n",
       "  <th>Model:</th>                   <td>OLS</td>       <th>  Adj. R-squared:    </th> <td>   0.997</td> \n",
       "</tr>\n",
       "<tr>\n",
       "  <th>Method:</th>             <td>Least Squares</td>  <th>  F-statistic:       </th> <td>2.898e+05</td>\n",
       "</tr>\n",
       "<tr>\n",
       "  <th>Date:</th>             <td>Mon, 17 Apr 2017</td> <th>  Prob (F-statistic):</th>  <td>  0.00</td>  \n",
       "</tr>\n",
       "<tr>\n",
       "  <th>Time:</th>                 <td>23:28:14</td>     <th>  Log-Likelihood:    </th> <td> -2452.5</td> \n",
       "</tr>\n",
       "<tr>\n",
       "  <th>No. Observations:</th>      <td>   898</td>      <th>  AIC:               </th> <td>   4907.</td> \n",
       "</tr>\n",
       "<tr>\n",
       "  <th>Df Residuals:</th>          <td>   897</td>      <th>  BIC:               </th> <td>   4912.</td> \n",
       "</tr>\n",
       "<tr>\n",
       "  <th>Df Model:</th>              <td>     1</td>      <th>                     </th>     <td> </td>    \n",
       "</tr>\n",
       "<tr>\n",
       "  <th>Covariance Type:</th>      <td>nonrobust</td>    <th>                     </th>     <td> </td>    \n",
       "</tr>\n",
       "</table>\n",
       "<table class=\"simpletable\">\n",
       "<tr>\n",
       "     <td></td>       <th>coef</th>     <th>std err</th>      <th>t</th>      <th>P>|t|</th> <th>[95.0% Conf. Int.]</th> \n",
       "</tr>\n",
       "<tr>\n",
       "  <th>Father</th> <td>    0.9636</td> <td>    0.002</td> <td>  538.311</td> <td> 0.000</td> <td>    0.960     0.967</td>\n",
       "</tr>\n",
       "</table>\n",
       "<table class=\"simpletable\">\n",
       "<tr>\n",
       "  <th>Omnibus:</th>       <td>17.470</td> <th>  Durbin-Watson:     </th> <td>   1.158</td>\n",
       "</tr>\n",
       "<tr>\n",
       "  <th>Prob(Omnibus):</th> <td> 0.000</td> <th>  Jarque-Bera (JB):  </th> <td>   9.840</td>\n",
       "</tr>\n",
       "<tr>\n",
       "  <th>Skew:</th>          <td> 0.008</td> <th>  Prob(JB):          </th> <td> 0.00730</td>\n",
       "</tr>\n",
       "<tr>\n",
       "  <th>Kurtosis:</th>      <td> 2.487</td> <th>  Cond. No.          </th> <td>    1.00</td>\n",
       "</tr>\n",
       "</table>"
      ],
      "text/plain": [
       "<class 'statsmodels.iolib.summary.Summary'>\n",
       "\"\"\"\n",
       "                            OLS Regression Results                            \n",
       "==============================================================================\n",
       "Dep. Variable:                 Height   R-squared:                       0.997\n",
       "Model:                            OLS   Adj. R-squared:                  0.997\n",
       "Method:                 Least Squares   F-statistic:                 2.898e+05\n",
       "Date:                Mon, 17 Apr 2017   Prob (F-statistic):               0.00\n",
       "Time:                        23:28:14   Log-Likelihood:                -2452.5\n",
       "No. Observations:                 898   AIC:                             4907.\n",
       "Df Residuals:                     897   BIC:                             4912.\n",
       "Df Model:                           1                                         \n",
       "Covariance Type:            nonrobust                                         \n",
       "==============================================================================\n",
       "                 coef    std err          t      P>|t|      [95.0% Conf. Int.]\n",
       "------------------------------------------------------------------------------\n",
       "Father         0.9636      0.002    538.311      0.000         0.960     0.967\n",
       "==============================================================================\n",
       "Omnibus:                       17.470   Durbin-Watson:                   1.158\n",
       "Prob(Omnibus):                  0.000   Jarque-Bera (JB):                9.840\n",
       "Skew:                           0.008   Prob(JB):                      0.00730\n",
       "Kurtosis:                       2.487   Cond. No.                         1.00\n",
       "==============================================================================\n",
       "\n",
       "Warnings:\n",
       "[1] Standard Errors assume that the covariance matrix of the errors is correctly specified.\n",
       "\"\"\""
      ]
     },
     "execution_count": 97,
     "metadata": {},
     "output_type": "execute_result"
    }
   ],
   "source": [
    "# -1 removes the y intercept\n",
    "father_model = ols(\"Height ~ Father -1\", data=galton).fit()\n",
    "father_model.summary()"
   ]
  },
  {
   "cell_type": "markdown",
   "metadata": {},
   "source": [
    "Notice that even without sm.add_constant() that statsmodels.formula.api import ols adding the y-intercept for us"
   ]
  },
  {
   "cell_type": "markdown",
   "metadata": {},
   "source": [
    "### The Formula syntax makes specifying models much easier\n",
    "\n",
    "Of course a son's height could be effected by the mothers height.  We can also model questions like do families have taller kids as they get better at it (i.e. have more kids). One often creates multiple models.\n",
    "\n",
    "### Mothers as predictors"
   ]
  },
  {
   "cell_type": "code",
   "execution_count": 98,
   "metadata": {
    "collapsed": false
   },
   "outputs": [
    {
     "data": {
      "text/html": [
       "<table class=\"simpletable\">\n",
       "<caption>OLS Regression Results</caption>\n",
       "<tr>\n",
       "  <th>Dep. Variable:</th>         <td>Height</td>      <th>  R-squared:         </th> <td>   0.997</td> \n",
       "</tr>\n",
       "<tr>\n",
       "  <th>Model:</th>                   <td>OLS</td>       <th>  Adj. R-squared:    </th> <td>   0.997</td> \n",
       "</tr>\n",
       "<tr>\n",
       "  <th>Method:</th>             <td>Least Squares</td>  <th>  F-statistic:       </th> <td>2.643e+05</td>\n",
       "</tr>\n",
       "<tr>\n",
       "  <th>Date:</th>             <td>Mon, 17 Apr 2017</td> <th>  Prob (F-statistic):</th>  <td>  0.00</td>  \n",
       "</tr>\n",
       "<tr>\n",
       "  <th>Time:</th>                 <td>23:28:14</td>     <th>  Log-Likelihood:    </th> <td> -2493.7</td> \n",
       "</tr>\n",
       "<tr>\n",
       "  <th>No. Observations:</th>      <td>   898</td>      <th>  AIC:               </th> <td>   4989.</td> \n",
       "</tr>\n",
       "<tr>\n",
       "  <th>Df Residuals:</th>          <td>   897</td>      <th>  BIC:               </th> <td>   4994.</td> \n",
       "</tr>\n",
       "<tr>\n",
       "  <th>Df Model:</th>              <td>     1</td>      <th>                     </th>     <td> </td>    \n",
       "</tr>\n",
       "<tr>\n",
       "  <th>Covariance Type:</th>      <td>nonrobust</td>    <th>                     </th>     <td> </td>    \n",
       "</tr>\n",
       "</table>\n",
       "<table class=\"simpletable\">\n",
       "<tr>\n",
       "     <td></td>       <th>coef</th>     <th>std err</th>      <th>t</th>      <th>P>|t|</th> <th>[95.0% Conf. Int.]</th> \n",
       "</tr>\n",
       "<tr>\n",
       "  <th>Mother</th> <td>    1.0408</td> <td>    0.002</td> <td>  514.077</td> <td> 0.000</td> <td>    1.037     1.045</td>\n",
       "</tr>\n",
       "</table>\n",
       "<table class=\"simpletable\">\n",
       "<tr>\n",
       "  <th>Omnibus:</th>       <td> 8.226</td> <th>  Durbin-Watson:     </th> <td>   1.102</td>\n",
       "</tr>\n",
       "<tr>\n",
       "  <th>Prob(Omnibus):</th> <td> 0.016</td> <th>  Jarque-Bera (JB):  </th> <td>   5.696</td>\n",
       "</tr>\n",
       "<tr>\n",
       "  <th>Skew:</th>          <td> 0.027</td> <th>  Prob(JB):          </th> <td>  0.0580</td>\n",
       "</tr>\n",
       "<tr>\n",
       "  <th>Kurtosis:</th>      <td> 2.614</td> <th>  Cond. No.          </th> <td>    1.00</td>\n",
       "</tr>\n",
       "</table>"
      ],
      "text/plain": [
       "<class 'statsmodels.iolib.summary.Summary'>\n",
       "\"\"\"\n",
       "                            OLS Regression Results                            \n",
       "==============================================================================\n",
       "Dep. Variable:                 Height   R-squared:                       0.997\n",
       "Model:                            OLS   Adj. R-squared:                  0.997\n",
       "Method:                 Least Squares   F-statistic:                 2.643e+05\n",
       "Date:                Mon, 17 Apr 2017   Prob (F-statistic):               0.00\n",
       "Time:                        23:28:14   Log-Likelihood:                -2493.7\n",
       "No. Observations:                 898   AIC:                             4989.\n",
       "Df Residuals:                     897   BIC:                             4994.\n",
       "Df Model:                           1                                         \n",
       "Covariance Type:            nonrobust                                         \n",
       "==============================================================================\n",
       "                 coef    std err          t      P>|t|      [95.0% Conf. Int.]\n",
       "------------------------------------------------------------------------------\n",
       "Mother         1.0408      0.002    514.077      0.000         1.037     1.045\n",
       "==============================================================================\n",
       "Omnibus:                        8.226   Durbin-Watson:                   1.102\n",
       "Prob(Omnibus):                  0.016   Jarque-Bera (JB):                5.696\n",
       "Skew:                           0.027   Prob(JB):                       0.0580\n",
       "Kurtosis:                       2.614   Cond. No.                         1.00\n",
       "==============================================================================\n",
       "\n",
       "Warnings:\n",
       "[1] Standard Errors assume that the covariance matrix of the errors is correctly specified.\n",
       "\"\"\""
      ]
     },
     "execution_count": 98,
     "metadata": {},
     "output_type": "execute_result"
    }
   ],
   "source": [
    "mother_model = ols(\"Height ~ Mother -1\", data=galton).fit()\n",
    "mother_model.summary()"
   ]
  },
  {
   "cell_type": "code",
   "execution_count": 99,
   "metadata": {
    "collapsed": false
   },
   "outputs": [
    {
     "data": {
      "text/html": [
       "<table class=\"simpletable\">\n",
       "<caption>OLS Regression Results</caption>\n",
       "<tr>\n",
       "  <th>Dep. Variable:</th>         <td>Height</td>      <th>  R-squared:         </th> <td>   0.832</td>\n",
       "</tr>\n",
       "<tr>\n",
       "  <th>Model:</th>                   <td>OLS</td>       <th>  Adj. R-squared:    </th> <td>   0.832</td>\n",
       "</tr>\n",
       "<tr>\n",
       "  <th>Method:</th>             <td>Least Squares</td>  <th>  F-statistic:       </th> <td>   4443.</td>\n",
       "</tr>\n",
       "<tr>\n",
       "  <th>Date:</th>             <td>Mon, 17 Apr 2017</td> <th>  Prob (F-statistic):</th>  <td>  0.00</td> \n",
       "</tr>\n",
       "<tr>\n",
       "  <th>Time:</th>                 <td>23:28:14</td>     <th>  Log-Likelihood:    </th> <td> -4247.1</td>\n",
       "</tr>\n",
       "<tr>\n",
       "  <th>No. Observations:</th>      <td>   898</td>      <th>  AIC:               </th> <td>   8496.</td>\n",
       "</tr>\n",
       "<tr>\n",
       "  <th>Df Residuals:</th>          <td>   897</td>      <th>  BIC:               </th> <td>   8501.</td>\n",
       "</tr>\n",
       "<tr>\n",
       "  <th>Df Model:</th>              <td>     1</td>      <th>                     </th>     <td> </td>   \n",
       "</tr>\n",
       "<tr>\n",
       "  <th>Covariance Type:</th>      <td>nonrobust</td>    <th>                     </th>     <td> </td>   \n",
       "</tr>\n",
       "</table>\n",
       "<table class=\"simpletable\">\n",
       "<tr>\n",
       "    <td></td>      <th>coef</th>     <th>std err</th>      <th>t</th>      <th>P>|t|</th> <th>[95.0% Conf. Int.]</th> \n",
       "</tr>\n",
       "<tr>\n",
       "  <th>Kids</th> <td>    9.1061</td> <td>    0.137</td> <td>   66.659</td> <td> 0.000</td> <td>    8.838     9.374</td>\n",
       "</tr>\n",
       "</table>\n",
       "<table class=\"simpletable\">\n",
       "<tr>\n",
       "  <th>Omnibus:</th>       <td>46.529</td> <th>  Durbin-Watson:     </th> <td>   0.401</td>\n",
       "</tr>\n",
       "<tr>\n",
       "  <th>Prob(Omnibus):</th> <td> 0.000</td> <th>  Jarque-Bera (JB):  </th> <td>  56.195</td>\n",
       "</tr>\n",
       "<tr>\n",
       "  <th>Skew:</th>          <td>-0.513</td> <th>  Prob(JB):          </th> <td>6.27e-13</td>\n",
       "</tr>\n",
       "<tr>\n",
       "  <th>Kurtosis:</th>      <td> 3.669</td> <th>  Cond. No.          </th> <td>    1.00</td>\n",
       "</tr>\n",
       "</table>"
      ],
      "text/plain": [
       "<class 'statsmodels.iolib.summary.Summary'>\n",
       "\"\"\"\n",
       "                            OLS Regression Results                            \n",
       "==============================================================================\n",
       "Dep. Variable:                 Height   R-squared:                       0.832\n",
       "Model:                            OLS   Adj. R-squared:                  0.832\n",
       "Method:                 Least Squares   F-statistic:                     4443.\n",
       "Date:                Mon, 17 Apr 2017   Prob (F-statistic):               0.00\n",
       "Time:                        23:28:14   Log-Likelihood:                -4247.1\n",
       "No. Observations:                 898   AIC:                             8496.\n",
       "Df Residuals:                     897   BIC:                             8501.\n",
       "Df Model:                           1                                         \n",
       "Covariance Type:            nonrobust                                         \n",
       "==============================================================================\n",
       "                 coef    std err          t      P>|t|      [95.0% Conf. Int.]\n",
       "------------------------------------------------------------------------------\n",
       "Kids           9.1061      0.137     66.659      0.000         8.838     9.374\n",
       "==============================================================================\n",
       "Omnibus:                       46.529   Durbin-Watson:                   0.401\n",
       "Prob(Omnibus):                  0.000   Jarque-Bera (JB):               56.195\n",
       "Skew:                          -0.513   Prob(JB):                     6.27e-13\n",
       "Kurtosis:                       3.669   Cond. No.                         1.00\n",
       "==============================================================================\n",
       "\n",
       "Warnings:\n",
       "[1] Standard Errors assume that the covariance matrix of the errors is correctly specified.\n",
       "\"\"\""
      ]
     },
     "execution_count": 99,
     "metadata": {},
     "output_type": "execute_result"
    }
   ],
   "source": [
    "kids_model = ols(\"Height ~ Kids -1\", data=galton).fit()\n",
    "kids_model.summary()"
   ]
  },
  {
   "cell_type": "markdown",
   "metadata": {},
   "source": [
    "## Does both the Mothers and fathers heights matter?\n",
    "\n",
    "Multiple regression is an extension of simple linear regression. It is used when we want to predict the value of a variable based on the value of two or more other variables. The variable we want to predict is called the dependent variable (or sometimes, the outcome, target or criterion variable).\n"
   ]
  },
  {
   "cell_type": "code",
   "execution_count": 100,
   "metadata": {
    "collapsed": false
   },
   "outputs": [
    {
     "data": {
      "text/html": [
       "<table class=\"simpletable\">\n",
       "<caption>OLS Regression Results</caption>\n",
       "<tr>\n",
       "  <th>Dep. Variable:</th>         <td>Height</td>      <th>  R-squared:         </th> <td>   0.997</td> \n",
       "</tr>\n",
       "<tr>\n",
       "  <th>Model:</th>                   <td>OLS</td>       <th>  Adj. R-squared:    </th> <td>   0.997</td> \n",
       "</tr>\n",
       "<tr>\n",
       "  <th>Method:</th>             <td>Least Squares</td>  <th>  F-statistic:       </th> <td>1.697e+05</td>\n",
       "</tr>\n",
       "<tr>\n",
       "  <th>Date:</th>             <td>Mon, 17 Apr 2017</td> <th>  Prob (F-statistic):</th>  <td>  0.00</td>  \n",
       "</tr>\n",
       "<tr>\n",
       "  <th>Time:</th>                 <td>23:28:14</td>     <th>  Log-Likelihood:    </th> <td> -2381.2</td> \n",
       "</tr>\n",
       "<tr>\n",
       "  <th>No. Observations:</th>      <td>   898</td>      <th>  AIC:               </th> <td>   4766.</td> \n",
       "</tr>\n",
       "<tr>\n",
       "  <th>Df Residuals:</th>          <td>   896</td>      <th>  BIC:               </th> <td>   4776.</td> \n",
       "</tr>\n",
       "<tr>\n",
       "  <th>Df Model:</th>              <td>     2</td>      <th>                     </th>     <td> </td>    \n",
       "</tr>\n",
       "<tr>\n",
       "  <th>Covariance Type:</th>      <td>nonrobust</td>    <th>                     </th>     <td> </td>    \n",
       "</tr>\n",
       "</table>\n",
       "<table class=\"simpletable\">\n",
       "<tr>\n",
       "     <td></td>       <th>coef</th>     <th>std err</th>      <th>t</th>      <th>P>|t|</th> <th>[95.0% Conf. Int.]</th> \n",
       "</tr>\n",
       "<tr>\n",
       "  <th>Mother</th> <td>    0.4555</td> <td>    0.037</td> <td>   12.414</td> <td> 0.000</td> <td>    0.383     0.527</td>\n",
       "</tr>\n",
       "<tr>\n",
       "  <th>Father</th> <td>    0.5425</td> <td>    0.034</td> <td>   15.972</td> <td> 0.000</td> <td>    0.476     0.609</td>\n",
       "</tr>\n",
       "</table>\n",
       "<table class=\"simpletable\">\n",
       "<tr>\n",
       "  <th>Omnibus:</th>       <td>52.885</td> <th>  Durbin-Watson:     </th> <td>   1.354</td>\n",
       "</tr>\n",
       "<tr>\n",
       "  <th>Prob(Omnibus):</th> <td> 0.000</td> <th>  Jarque-Bera (JB):  </th> <td>  20.434</td>\n",
       "</tr>\n",
       "<tr>\n",
       "  <th>Skew:</th>          <td> 0.054</td> <th>  Prob(JB):          </th> <td>3.65e-05</td>\n",
       "</tr>\n",
       "<tr>\n",
       "  <th>Kurtosis:</th>      <td> 2.269</td> <th>  Cond. No.          </th> <td>    41.2</td>\n",
       "</tr>\n",
       "</table>"
      ],
      "text/plain": [
       "<class 'statsmodels.iolib.summary.Summary'>\n",
       "\"\"\"\n",
       "                            OLS Regression Results                            \n",
       "==============================================================================\n",
       "Dep. Variable:                 Height   R-squared:                       0.997\n",
       "Model:                            OLS   Adj. R-squared:                  0.997\n",
       "Method:                 Least Squares   F-statistic:                 1.697e+05\n",
       "Date:                Mon, 17 Apr 2017   Prob (F-statistic):               0.00\n",
       "Time:                        23:28:14   Log-Likelihood:                -2381.2\n",
       "No. Observations:                 898   AIC:                             4766.\n",
       "Df Residuals:                     896   BIC:                             4776.\n",
       "Df Model:                           2                                         \n",
       "Covariance Type:            nonrobust                                         \n",
       "==============================================================================\n",
       "                 coef    std err          t      P>|t|      [95.0% Conf. Int.]\n",
       "------------------------------------------------------------------------------\n",
       "Mother         0.4555      0.037     12.414      0.000         0.383     0.527\n",
       "Father         0.5425      0.034     15.972      0.000         0.476     0.609\n",
       "==============================================================================\n",
       "Omnibus:                       52.885   Durbin-Watson:                   1.354\n",
       "Prob(Omnibus):                  0.000   Jarque-Bera (JB):               20.434\n",
       "Skew:                           0.054   Prob(JB):                     3.65e-05\n",
       "Kurtosis:                       2.269   Cond. No.                         41.2\n",
       "==============================================================================\n",
       "\n",
       "Warnings:\n",
       "[1] Standard Errors assume that the covariance matrix of the errors is correctly specified.\n",
       "\"\"\""
      ]
     },
     "execution_count": 100,
     "metadata": {},
     "output_type": "execute_result"
    }
   ],
   "source": [
    "mother_father_model = ols(\"Height ~ Mother + Father -1\", data=galton).fit()\n",
    "mother_father_model.summary()"
   ]
  },
  {
   "cell_type": "markdown",
   "metadata": {},
   "source": [
    "## Interaction Terms\n",
    "\n",
    "”:” adds a new column to the design matrix with the product of the other two columns. \n",
    "\n",
    "“*” will also include the individual columns that were multiplied together:\n",
    "\n",
    "An *interaction variable* is a variable constructed from an original set of variables to try to represent either all of the interaction present or some part of it. An *interaction variable* models the simultaneous influence of two predictors on a third response variable is not additive. We want to know whether the joint effect is higher than the sum of both effects.\n",
    "\n",
    "For example, smoking and inhaling asbestos fibers both increase the risk of lung cancer, but exposure to asbestos and smoking multiplies the cancer risk. ere, the joint effect of inhaling asbestos and smoking is higher than the sum of both effects. from [*Relation between exposure to asbestos and smoking jointly and the risk of lung cancer*](http://oem.bmj.com/content/58/3/145)  \n",
    "\n",
    "\n",
    "Simple linear models assume that if a predictor variable affects the outcome variable, it does so in a way that is independent of all the other predictor variables.  \n",
    "\n",
    "We deal with non-independence of predictors by including interaction terms in our models. Interaction variables introduce an additional level of regression analysis by allowing researchers to explore the synergistic effects of combined predictors.   \n",
    "\n",
    "Interaction variables can be:\n",
    "* interaction between two categorical variables,\n",
    "* interaction between one continuous and one categorical variables,\n",
    "* and the interaction between two continuous variables.  \n"
   ]
  },
  {
   "cell_type": "code",
   "execution_count": 101,
   "metadata": {
    "collapsed": false
   },
   "outputs": [
    {
     "data": {
      "text/html": [
       "<table class=\"simpletable\">\n",
       "<caption>OLS Regression Results</caption>\n",
       "<tr>\n",
       "  <th>Dep. Variable:</th>         <td>Height</td>      <th>  R-squared:         </th> <td>   0.997</td> \n",
       "</tr>\n",
       "<tr>\n",
       "  <th>Model:</th>                   <td>OLS</td>       <th>  Adj. R-squared:    </th> <td>   0.997</td> \n",
       "</tr>\n",
       "<tr>\n",
       "  <th>Method:</th>             <td>Least Squares</td>  <th>  F-statistic:       </th> <td>1.163e+05</td>\n",
       "</tr>\n",
       "<tr>\n",
       "  <th>Date:</th>             <td>Mon, 17 Apr 2017</td> <th>  Prob (F-statistic):</th>  <td>  0.00</td>  \n",
       "</tr>\n",
       "<tr>\n",
       "  <th>Time:</th>                 <td>23:28:14</td>     <th>  Log-Likelihood:    </th> <td> -2368.3</td> \n",
       "</tr>\n",
       "<tr>\n",
       "  <th>No. Observations:</th>      <td>   898</td>      <th>  AIC:               </th> <td>   4743.</td> \n",
       "</tr>\n",
       "<tr>\n",
       "  <th>Df Residuals:</th>          <td>   895</td>      <th>  BIC:               </th> <td>   4757.</td> \n",
       "</tr>\n",
       "<tr>\n",
       "  <th>Df Model:</th>              <td>     3</td>      <th>                     </th>     <td> </td>    \n",
       "</tr>\n",
       "<tr>\n",
       "  <th>Covariance Type:</th>      <td>nonrobust</td>    <th>                     </th>     <td> </td>    \n",
       "</tr>\n",
       "</table>\n",
       "<table class=\"simpletable\">\n",
       "<tr>\n",
       "        <td></td>           <th>coef</th>     <th>std err</th>      <th>t</th>      <th>P>|t|</th> <th>[95.0% Conf. Int.]</th> \n",
       "</tr>\n",
       "<tr>\n",
       "  <th>Mother</th>        <td>    0.6277</td> <td>    0.049</td> <td>   12.685</td> <td> 0.000</td> <td>    0.531     0.725</td>\n",
       "</tr>\n",
       "<tr>\n",
       "  <th>Father</th>        <td>    0.6989</td> <td>    0.045</td> <td>   15.390</td> <td> 0.000</td> <td>    0.610     0.788</td>\n",
       "</tr>\n",
       "<tr>\n",
       "  <th>Mother:Father</th> <td>   -0.0049</td> <td>    0.001</td> <td>   -5.102</td> <td> 0.000</td> <td>   -0.007    -0.003</td>\n",
       "</tr>\n",
       "</table>\n",
       "<table class=\"simpletable\">\n",
       "<tr>\n",
       "  <th>Omnibus:</th>       <td>45.868</td> <th>  Durbin-Watson:     </th> <td>   1.387</td>\n",
       "</tr>\n",
       "<tr>\n",
       "  <th>Prob(Omnibus):</th> <td> 0.000</td> <th>  Jarque-Bera (JB):  </th> <td>  18.955</td>\n",
       "</tr>\n",
       "<tr>\n",
       "  <th>Skew:</th>          <td> 0.064</td> <th>  Prob(JB):          </th> <td>7.66e-05</td>\n",
       "</tr>\n",
       "<tr>\n",
       "  <th>Kurtosis:</th>      <td> 2.300</td> <th>  Cond. No.          </th> <td>1.97e+03</td>\n",
       "</tr>\n",
       "</table>"
      ],
      "text/plain": [
       "<class 'statsmodels.iolib.summary.Summary'>\n",
       "\"\"\"\n",
       "                            OLS Regression Results                            \n",
       "==============================================================================\n",
       "Dep. Variable:                 Height   R-squared:                       0.997\n",
       "Model:                            OLS   Adj. R-squared:                  0.997\n",
       "Method:                 Least Squares   F-statistic:                 1.163e+05\n",
       "Date:                Mon, 17 Apr 2017   Prob (F-statistic):               0.00\n",
       "Time:                        23:28:14   Log-Likelihood:                -2368.3\n",
       "No. Observations:                 898   AIC:                             4743.\n",
       "Df Residuals:                     895   BIC:                             4757.\n",
       "Df Model:                           3                                         \n",
       "Covariance Type:            nonrobust                                         \n",
       "=================================================================================\n",
       "                    coef    std err          t      P>|t|      [95.0% Conf. Int.]\n",
       "---------------------------------------------------------------------------------\n",
       "Mother            0.6277      0.049     12.685      0.000         0.531     0.725\n",
       "Father            0.6989      0.045     15.390      0.000         0.610     0.788\n",
       "Mother:Father    -0.0049      0.001     -5.102      0.000        -0.007    -0.003\n",
       "==============================================================================\n",
       "Omnibus:                       45.868   Durbin-Watson:                   1.387\n",
       "Prob(Omnibus):                  0.000   Jarque-Bera (JB):               18.955\n",
       "Skew:                           0.064   Prob(JB):                     7.66e-05\n",
       "Kurtosis:                       2.300   Cond. No.                     1.97e+03\n",
       "==============================================================================\n",
       "\n",
       "Warnings:\n",
       "[1] Standard Errors assume that the covariance matrix of the errors is correctly specified.\n",
       "[2] The condition number is large, 1.97e+03. This might indicate that there are\n",
       "strong multicollinearity or other numerical problems.\n",
       "\"\"\""
      ]
     },
     "execution_count": 101,
     "metadata": {},
     "output_type": "execute_result"
    }
   ],
   "source": [
    "mother_father_model_A = ols(\"Height ~ Mother + Father + Mother : Father -1\", data=galton).fit()\n",
    "mother_father_model_A.summary()"
   ]
  },
  {
   "cell_type": "markdown",
   "metadata": {},
   "source": [
    "## Functions\n",
    "\n",
    "You can apply functions to the variables in your model.\n",
    "\n",
    "This is often used for non-linear transformations of predictors. Even if the data is non-linear one might be able to use a tranform so it has a linear form and simple linear regression can be applied.\n"
   ]
  },
  {
   "cell_type": "code",
   "execution_count": 102,
   "metadata": {
    "collapsed": false
   },
   "outputs": [
    {
     "data": {
      "text/html": [
       "<table class=\"simpletable\">\n",
       "<caption>OLS Regression Results</caption>\n",
       "<tr>\n",
       "  <th>Dep. Variable:</th>         <td>Height</td>      <th>  R-squared:         </th> <td>   0.997</td> \n",
       "</tr>\n",
       "<tr>\n",
       "  <th>Model:</th>                   <td>OLS</td>       <th>  Adj. R-squared:    </th> <td>   0.997</td> \n",
       "</tr>\n",
       "<tr>\n",
       "  <th>Method:</th>             <td>Least Squares</td>  <th>  F-statistic:       </th> <td>3.325e+05</td>\n",
       "</tr>\n",
       "<tr>\n",
       "  <th>Date:</th>             <td>Mon, 17 Apr 2017</td> <th>  Prob (F-statistic):</th>  <td>  0.00</td>  \n",
       "</tr>\n",
       "<tr>\n",
       "  <th>Time:</th>                 <td>23:28:14</td>     <th>  Log-Likelihood:    </th> <td> -2390.9</td> \n",
       "</tr>\n",
       "<tr>\n",
       "  <th>No. Observations:</th>      <td>   898</td>      <th>  AIC:               </th> <td>   4784.</td> \n",
       "</tr>\n",
       "<tr>\n",
       "  <th>Df Residuals:</th>          <td>   897</td>      <th>  BIC:               </th> <td>   4789.</td> \n",
       "</tr>\n",
       "<tr>\n",
       "  <th>Df Model:</th>              <td>     1</td>      <th>                     </th>     <td> </td>    \n",
       "</tr>\n",
       "<tr>\n",
       "  <th>Covariance Type:</th>      <td>nonrobust</td>    <th>                     </th>     <td> </td>    \n",
       "</tr>\n",
       "</table>\n",
       "<table class=\"simpletable\">\n",
       "<tr>\n",
       "         <td></td>           <th>coef</th>     <th>std err</th>      <th>t</th>      <th>P>|t|</th> <th>[95.0% Conf. Int.]</th> \n",
       "</tr>\n",
       "<tr>\n",
       "  <th>np.log(Father)</th> <td>   15.7580</td> <td>    0.027</td> <td>  576.605</td> <td> 0.000</td> <td>   15.704    15.812</td>\n",
       "</tr>\n",
       "</table>\n",
       "<table class=\"simpletable\">\n",
       "<tr>\n",
       "  <th>Omnibus:</th>       <td>21.551</td> <th>  Durbin-Watson:     </th> <td>   1.321</td>\n",
       "</tr>\n",
       "<tr>\n",
       "  <th>Prob(Omnibus):</th> <td> 0.000</td> <th>  Jarque-Bera (JB):  </th> <td>  12.030</td>\n",
       "</tr>\n",
       "<tr>\n",
       "  <th>Skew:</th>          <td> 0.083</td> <th>  Prob(JB):          </th> <td> 0.00244</td>\n",
       "</tr>\n",
       "<tr>\n",
       "  <th>Kurtosis:</th>      <td> 2.458</td> <th>  Cond. No.          </th> <td>    1.00</td>\n",
       "</tr>\n",
       "</table>"
      ],
      "text/plain": [
       "<class 'statsmodels.iolib.summary.Summary'>\n",
       "\"\"\"\n",
       "                            OLS Regression Results                            \n",
       "==============================================================================\n",
       "Dep. Variable:                 Height   R-squared:                       0.997\n",
       "Model:                            OLS   Adj. R-squared:                  0.997\n",
       "Method:                 Least Squares   F-statistic:                 3.325e+05\n",
       "Date:                Mon, 17 Apr 2017   Prob (F-statistic):               0.00\n",
       "Time:                        23:28:14   Log-Likelihood:                -2390.9\n",
       "No. Observations:                 898   AIC:                             4784.\n",
       "Df Residuals:                     897   BIC:                             4789.\n",
       "Df Model:                           1                                         \n",
       "Covariance Type:            nonrobust                                         \n",
       "==================================================================================\n",
       "                     coef    std err          t      P>|t|      [95.0% Conf. Int.]\n",
       "----------------------------------------------------------------------------------\n",
       "np.log(Father)    15.7580      0.027    576.605      0.000        15.704    15.812\n",
       "==============================================================================\n",
       "Omnibus:                       21.551   Durbin-Watson:                   1.321\n",
       "Prob(Omnibus):                  0.000   Jarque-Bera (JB):               12.030\n",
       "Skew:                           0.083   Prob(JB):                      0.00244\n",
       "Kurtosis:                       2.458   Cond. No.                         1.00\n",
       "==============================================================================\n",
       "\n",
       "Warnings:\n",
       "[1] Standard Errors assume that the covariance matrix of the errors is correctly specified.\n",
       "\"\"\""
      ]
     },
     "execution_count": 102,
     "metadata": {},
     "output_type": "execute_result"
    }
   ],
   "source": [
    "father_model_log = ols(\"Height ~ np.log(Father) -1\", data=galton).fit()\n",
    "father_model_log.summary()"
   ]
  }
 ],
 "metadata": {
  "kernelspec": {
   "display_name": "Python 2",
   "language": "python",
   "name": "python2"
  },
  "language_info": {
   "codemirror_mode": {
    "name": "ipython",
    "version": 2
   },
   "file_extension": ".py",
   "mimetype": "text/x-python",
   "name": "python",
   "nbconvert_exporter": "python",
   "pygments_lexer": "ipython2",
   "version": "2.7.13"
  }
 },
 "nbformat": 4,
 "nbformat_minor": 0
}
